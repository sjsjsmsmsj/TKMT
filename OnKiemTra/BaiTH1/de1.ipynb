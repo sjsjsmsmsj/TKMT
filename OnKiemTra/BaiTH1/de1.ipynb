{
 "cells": [
  {
   "cell_type": "markdown",
   "metadata": {},
   "source": [
    "- Đọc tập dữ liệu data.csv \n",
    "- Giả sử ta có một nhà máy sản xuất linh kiện điện tử. Một ngày, nhà máy ghi nhận số lượng linh kiện bị lỗi như sau:\n",
    "1. Bài tập\n",
    "- Xác suất để một linh kiện bất kỳ bị lỗi trong ngày là bao nhiêu?\n",
    "- Nếu chọn ngẫu nhiên một linh kiện từ ca tối, xác suất để nó bị lỗi là bao nhiêu?\n",
    "- Xác suất để chọn 2 linh kiện liên tiếp từ cả ngày và đều bị lỗi là bao nhiêu?\n"
   ]
  },
  {
   "cell_type": "code",
   "execution_count": 1,
   "metadata": {},
   "outputs": [],
   "source": [
    "import pandas as pd \n",
    "df = pd.read_csv('data.csv')"
   ]
  },
  {
   "cell_type": "code",
   "execution_count": 2,
   "metadata": {},
   "outputs": [
    {
     "data": {
      "text/html": [
       "<div>\n",
       "<style scoped>\n",
       "    .dataframe tbody tr th:only-of-type {\n",
       "        vertical-align: middle;\n",
       "    }\n",
       "\n",
       "    .dataframe tbody tr th {\n",
       "        vertical-align: top;\n",
       "    }\n",
       "\n",
       "    .dataframe thead th {\n",
       "        text-align: right;\n",
       "    }\n",
       "</style>\n",
       "<table border=\"1\" class=\"dataframe\">\n",
       "  <thead>\n",
       "    <tr style=\"text-align: right;\">\n",
       "      <th></th>\n",
       "      <th>Ca làm việc</th>\n",
       "      <th>Số linh kiện lỗi</th>\n",
       "      <th>Tổng số linh kiện</th>\n",
       "    </tr>\n",
       "  </thead>\n",
       "  <tbody>\n",
       "    <tr>\n",
       "      <th>0</th>\n",
       "      <td>Sáng</td>\n",
       "      <td>12.0</td>\n",
       "      <td>500.0</td>\n",
       "    </tr>\n",
       "    <tr>\n",
       "      <th>1</th>\n",
       "      <td>Chiều</td>\n",
       "      <td>18.0</td>\n",
       "      <td>600.0</td>\n",
       "    </tr>\n",
       "    <tr>\n",
       "      <th>2</th>\n",
       "      <td>Tối</td>\n",
       "      <td>25.0</td>\n",
       "      <td>700.0</td>\n",
       "    </tr>\n",
       "    <tr>\n",
       "      <th>3</th>\n",
       "      <td>Số khách hàng/phút</td>\n",
       "      <td>NaN</td>\n",
       "      <td>NaN</td>\n",
       "    </tr>\n",
       "    <tr>\n",
       "      <th>4</th>\n",
       "      <td>4</td>\n",
       "      <td>NaN</td>\n",
       "      <td>NaN</td>\n",
       "    </tr>\n",
       "  </tbody>\n",
       "</table>\n",
       "</div>"
      ],
      "text/plain": [
       "          Ca làm việc  Số linh kiện lỗi  Tổng số linh kiện\n",
       "0                Sáng              12.0              500.0\n",
       "1               Chiều              18.0              600.0\n",
       "2                 Tối              25.0              700.0\n",
       "3  Số khách hàng/phút               NaN                NaN\n",
       "4                   4               NaN                NaN"
      ]
     },
     "execution_count": 2,
     "metadata": {},
     "output_type": "execute_result"
    }
   ],
   "source": [
    "df.head()"
   ]
  },
  {
   "cell_type": "code",
   "execution_count": 5,
   "metadata": {},
   "outputs": [],
   "source": [
    "df.fillna(0, inplace=True)"
   ]
  },
  {
   "cell_type": "code",
   "execution_count": 7,
   "metadata": {},
   "outputs": [
    {
     "name": "stdout",
     "output_type": "stream",
     "text": [
      "Xác xuất linh kiện lỗi:  0.030555555555555555\n"
     ]
    }
   ],
   "source": [
    "soLinhKienLoi = df['Số linh kiện lỗi'].sum()\n",
    "tongSoLinhKienLoi = df['Tổng số linh kiện'].sum()\n",
    "xac_xuat = soLinhKienLoi / tongSoLinhKienLoi\n",
    "print(\"Xác xuất linh kiện lỗi: \", xac_xuat)"
   ]
  },
  {
   "cell_type": "code",
   "execution_count": 8,
   "metadata": {},
   "outputs": [
    {
     "name": "stdout",
     "output_type": "stream",
     "text": [
      "Xác xuất để linh kiện ca tối hư:  0.03571428571428571\n"
     ]
    }
   ],
   "source": [
    "linh_kien_ca_toi = df[df['Ca làm việc'] == 'Tối']['Số linh kiện lỗi'].sum()\n",
    "tong_linh_kien_ca_toi = df[df['Ca làm việc'] == 'Tối']['Tổng số linh kiện'].sum()\n",
    "xac_xuat = linh_kien_ca_toi / tong_linh_kien_ca_toi\n",
    "print(\"Xác xuất để linh kiện ca tối hư: \", xac_xuat)"
   ]
  },
  {
   "cell_type": "code",
   "execution_count": 9,
   "metadata": {},
   "outputs": [
    {
     "name": "stdout",
     "output_type": "stream",
     "text": [
      "Xác xuất chọn 2 linh kiện lỗi liên tiếp: 0.0009171762090050028\n"
     ]
    }
   ],
   "source": [
    "xac_xuat = (soLinhKienLoi * (soLinhKienLoi - 1)) / (tongSoLinhKienLoi * (tongSoLinhKienLoi - 1))\n",
    "print(\"Xác xuất chọn 2 linh kiện lỗi liên tiếp:\", xac_xuat)"
   ]
  },
  {
   "cell_type": "markdown",
   "metadata": {},
   "source": [
    "2. Phân phối xác suất rời rạc\n",
    "Chúng ta sẽ sử dụng phân phối nhị thức và phân phối Poisson.\n",
    "\n",
    "Tạo tập dữ liệu mẫu\n",
    "- Một cửa hàng có 5 máy bán nước tự động. Khách hàng đến mua nước theo phân phối Poisson với trung bình 3 khách/phút. \n",
    "- Ngoài ra, xác suất một khách hàng chọn một loại nước ngẫu nhiên là 0.2.\n",
    "\n",
    "Bài tập\n",
    "- Một phút có đúng 4 khách hàng đến mua nước. Xác suất xảy ra sự kiện này theo phân phối Poisson?\n",
    "- Một khách hàng chọn mua nước X. Xác suất 3 trong 5 khách hàng đều mua nước X theo phân phối nhị thức là bao nhiêu?\n",
    "- Một máy bán hàng có thể phục vụ tối đa 10 khách trong một phút. Xác suất có hơn 10 khách đến trong một phút là bao nhiêu?"
   ]
  },
  {
   "cell_type": "code",
   "execution_count": 16,
   "metadata": {},
   "outputs": [
    {
     "name": "stdout",
     "output_type": "stream",
     "text": [
      "0.16803135574154082\n"
     ]
    }
   ],
   "source": [
    "import pandas as pd \n",
    "import numpy as np\n",
    "import math \n",
    "# 3 khach/ phut -> landa = 3\n",
    "# k = 4\n",
    "# ap dung cong thuc \n",
    "landa = 3 \n",
    "k = 4\n",
    "def giaithua(k):\n",
    "    mul = 1\n",
    "    for i in range(1, k + 1):\n",
    "        mul = mul * i\n",
    "    return mul\n",
    "e = np.exp(-landa)\n",
    "a = e * landa ** k / giaithua(k)\n",
    "print(a)"
   ]
  },
  {
   "cell_type": "code",
   "execution_count": 17,
   "metadata": {},
   "outputs": [
    {
     "name": "stdout",
     "output_type": "stream",
     "text": [
      "0.05120000000000002\n"
     ]
    }
   ],
   "source": [
    "xac_xuat = math.comb(5, 3) * (0.2 ** 3) * (0.8 ** 2)\n",
    "print(xac_xuat)"
   ]
  },
  {
   "cell_type": "code",
   "execution_count": 18,
   "metadata": {},
   "outputs": [
    {
     "ename": "ImportError",
     "evalue": "cannot import name 'possion' from 'scipy.stats' (/Library/Frameworks/Python.framework/Versions/3.12/lib/python3.12/site-packages/scipy/stats/__init__.py)",
     "output_type": "error",
     "traceback": [
      "\u001b[0;31m---------------------------------------------------------------------------\u001b[0m",
      "\u001b[0;31mImportError\u001b[0m                               Traceback (most recent call last)",
      "Cell \u001b[0;32mIn[18], line 1\u001b[0m\n\u001b[0;32m----> 1\u001b[0m \u001b[38;5;28;01mfrom\u001b[39;00m \u001b[38;5;21;01mscipy\u001b[39;00m\u001b[38;5;21;01m.\u001b[39;00m\u001b[38;5;21;01mstats\u001b[39;00m \u001b[38;5;28;01mimport\u001b[39;00m possion\n\u001b[1;32m      2\u001b[0m p \u001b[38;5;241m=\u001b[39m \u001b[38;5;241m1\u001b[39m \u001b[38;5;241m-\u001b[39m possion\u001b[38;5;241m.\u001b[39mcdf(\u001b[38;5;241m10\u001b[39m, \u001b[38;5;241m3\u001b[39m)\n\u001b[1;32m      3\u001b[0m \u001b[38;5;28mprint\u001b[39m(p)\n",
      "\u001b[0;31mImportError\u001b[0m: cannot import name 'possion' from 'scipy.stats' (/Library/Frameworks/Python.framework/Versions/3.12/lib/python3.12/site-packages/scipy/stats/__init__.py)"
     ]
    }
   ],
   "source": [
    "from scipy.stats import possion\n",
    "p = 1 - possion.cdf(10, 3)\n",
    "print(p)"
   ]
  },
  {
   "cell_type": "markdown",
   "metadata": {},
   "source": [
    "3. Phân phối chuẩn\n",
    "- Tạo tập dữ liệu mẫu\n",
    "- Chiều cao của sinh viên trong một trường đại học có phân phối chuẩn với trung bình 170 cm và độ lệch chuẩn 6 cm.\n",
    "\n",
    "Bài tập\n",
    "- Xác suất một sinh viên có chiều cao lớn hơn 180 cm?\n",
    "- Xác suất một sinh viên có chiều cao nằm trong khoảng 165 cm đến 175 cm?\n",
    "- Nếu chọn ngẫu nhiên 10 sinh viên, xác suất có ít nhất một sinh viên cao hơn 185 cm?\n"
   ]
  },
  {
   "cell_type": "markdown",
   "metadata": {},
   "source": []
  }
 ],
 "metadata": {
  "kernelspec": {
   "display_name": "Python 3",
   "language": "python",
   "name": "python3"
  },
  "language_info": {
   "codemirror_mode": {
    "name": "ipython",
    "version": 3
   },
   "file_extension": ".py",
   "mimetype": "text/x-python",
   "name": "python",
   "nbconvert_exporter": "python",
   "pygments_lexer": "ipython3",
   "version": "3.12.2"
  }
 },
 "nbformat": 4,
 "nbformat_minor": 2
}
