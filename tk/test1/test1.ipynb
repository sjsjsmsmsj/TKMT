{
 "cells": [
  {
   "cell_type": "markdown",
   "metadata": {},
   "source": [
    "# 1. Đọc dữ liệu từ file CSV"
   ]
  },
  {
   "cell_type": "code",
   "execution_count": 23,
   "metadata": {},
   "outputs": [
    {
     "data": {
      "text/html": [
       "<div>\n",
       "<style scoped>\n",
       "    .dataframe tbody tr th:only-of-type {\n",
       "        vertical-align: middle;\n",
       "    }\n",
       "\n",
       "    .dataframe tbody tr th {\n",
       "        vertical-align: top;\n",
       "    }\n",
       "\n",
       "    .dataframe thead th {\n",
       "        text-align: right;\n",
       "    }\n",
       "</style>\n",
       "<table border=\"1\" class=\"dataframe\">\n",
       "  <thead>\n",
       "    <tr style=\"text-align: right;\">\n",
       "      <th></th>\n",
       "      <th>ID</th>\n",
       "      <th>Tên</th>\n",
       "      <th>Tuổi</th>\n",
       "      <th>Giới tính</th>\n",
       "      <th>Sản phẩm</th>\n",
       "      <th>Chi tiêu</th>\n",
       "    </tr>\n",
       "  </thead>\n",
       "  <tbody>\n",
       "    <tr>\n",
       "      <th>0</th>\n",
       "      <td>1</td>\n",
       "      <td>Nguyễn Văn A</td>\n",
       "      <td>25</td>\n",
       "      <td>Nam</td>\n",
       "      <td>Điện thoại</td>\n",
       "      <td>15000000</td>\n",
       "    </tr>\n",
       "    <tr>\n",
       "      <th>1</th>\n",
       "      <td>2</td>\n",
       "      <td>Trần Thị B</td>\n",
       "      <td>30</td>\n",
       "      <td>Nữ</td>\n",
       "      <td>Máy tính bảng</td>\n",
       "      <td>12000000</td>\n",
       "    </tr>\n",
       "    <tr>\n",
       "      <th>2</th>\n",
       "      <td>3</td>\n",
       "      <td>Phạm Văn C</td>\n",
       "      <td>22</td>\n",
       "      <td>Nam</td>\n",
       "      <td>Laptop</td>\n",
       "      <td>20000000</td>\n",
       "    </tr>\n",
       "    <tr>\n",
       "      <th>3</th>\n",
       "      <td>4</td>\n",
       "      <td>Hoàng Thị D</td>\n",
       "      <td>35</td>\n",
       "      <td>Nữ</td>\n",
       "      <td>Tivi</td>\n",
       "      <td>18000000</td>\n",
       "    </tr>\n",
       "    <tr>\n",
       "      <th>4</th>\n",
       "      <td>5</td>\n",
       "      <td>Lê Văn E</td>\n",
       "      <td>28</td>\n",
       "      <td>Nam</td>\n",
       "      <td>Điện thoại</td>\n",
       "      <td>14000000</td>\n",
       "    </tr>\n",
       "  </tbody>\n",
       "</table>\n",
       "</div>"
      ],
      "text/plain": [
       "   ID           Tên  Tuổi Giới tính       Sản phẩm  Chi tiêu\n",
       "0   1  Nguyễn Văn A    25       Nam     Điện thoại  15000000\n",
       "1   2    Trần Thị B    30        Nữ  Máy tính bảng  12000000\n",
       "2   3    Phạm Văn C    22       Nam         Laptop  20000000\n",
       "3   4   Hoàng Thị D    35        Nữ           Tivi  18000000\n",
       "4   5      Lê Văn E    28       Nam     Điện thoại  14000000"
      ]
     },
     "execution_count": 23,
     "metadata": {},
     "output_type": "execute_result"
    }
   ],
   "source": [
    "import pandas as pd \n",
    "df = pd.read_csv('data.csv')\n",
    "df.head(5)"
   ]
  },
  {
   "cell_type": "markdown",
   "metadata": {},
   "source": [
    "# 2. Hiển thị thông tin dữ liệu\n"
   ]
  },
  {
   "cell_type": "code",
   "execution_count": 24,
   "metadata": {},
   "outputs": [
    {
     "name": "stdout",
     "output_type": "stream",
     "text": [
      "<class 'pandas.core.frame.DataFrame'>\n",
      "RangeIndex: 10 entries, 0 to 9\n",
      "Data columns (total 6 columns):\n",
      " #   Column     Non-Null Count  Dtype \n",
      "---  ------     --------------  ----- \n",
      " 0   ID         10 non-null     int64 \n",
      " 1   Tên        10 non-null     object\n",
      " 2   Tuổi       10 non-null     int64 \n",
      " 3   Giới tính  10 non-null     object\n",
      " 4   Sản phẩm   10 non-null     object\n",
      " 5   Chi tiêu   10 non-null     int64 \n",
      "dtypes: int64(3), object(3)\n",
      "memory usage: 612.0+ bytes\n"
     ]
    }
   ],
   "source": [
    "df.info()"
   ]
  },
  {
   "cell_type": "markdown",
   "metadata": {},
   "source": [
    "\n",
    "# 3. Phân loại thuộc tính"
   ]
  },
  {
   "cell_type": "code",
   "execution_count": 26,
   "metadata": {},
   "outputs": [
    {
     "data": {
      "text/plain": [
       "ID            int64\n",
       "Tên          object\n",
       "Tuổi          int64\n",
       "Giới tính    object\n",
       "Sản phẩm     object\n",
       "Chi tiêu      int64\n",
       "dtype: object"
      ]
     },
     "execution_count": 26,
     "metadata": {},
     "output_type": "execute_result"
    }
   ],
   "source": [
    "df.dtypes"
   ]
  },
  {
   "cell_type": "markdown",
   "metadata": {},
   "source": [
    "- Biến định lượng: ID, tuổi, chi tiêu\n",
    "- Biến định tính: Tên, Giới tính, sản phẩm"
   ]
  },
  {
   "cell_type": "markdown",
   "metadata": {},
   "source": [
    "# 4. Sản phẩm phổ biến nhất"
   ]
  },
  {
   "cell_type": "code",
   "execution_count": 29,
   "metadata": {},
   "outputs": [
    {
     "data": {
      "text/plain": [
       "'Điện thoại'"
      ]
     },
     "execution_count": 29,
     "metadata": {},
     "output_type": "execute_result"
    }
   ],
   "source": [
    "df['Sản phẩm'].value_counts().idxmax()"
   ]
  },
  {
   "cell_type": "markdown",
   "metadata": {},
   "source": [
    "# 5. Tính tỷ lệ nam và nữ\n"
   ]
  },
  {
   "cell_type": "code",
   "execution_count": 33,
   "metadata": {},
   "outputs": [
    {
     "name": "stdout",
     "output_type": "stream",
     "text": [
      "Tỷ lệ nam:  50.0\n",
      "Tỷ lệ nữ:  50.0\n"
     ]
    }
   ],
   "source": [
    "k = df['Giới tính'].value_counts()\n",
    "ty_le_nam = k['Nam'] / len(df) * 100\n",
    "ty_le_nu = k['Nữ'] / len(df) * 100\n",
    "print(\"Tỷ lệ nam: \", ty_le_nam)\n",
    "print(\"Tỷ lệ nữ: \", ty_le_nu)"
   ]
  },
  {
   "cell_type": "markdown",
   "metadata": {},
   "source": [
    "# 6. Nhóm tuổi có mức chi tiêu trung bình cao nhất"
   ]
  },
  {
   "cell_type": "code",
   "execution_count": 35,
   "metadata": {},
   "outputs": [
    {
     "data": {
      "text/plain": [
       "np.int64(45)"
      ]
     },
     "execution_count": 35,
     "metadata": {},
     "output_type": "execute_result"
    }
   ],
   "source": [
    "# nhóm tuổi lại ,   \n",
    "df.groupby('Tuổi')['Chi tiêu'].mean().idxmax()"
   ]
  },
  {
   "cell_type": "markdown",
   "metadata": {},
   "source": [
    "# 7. Thống kê mức chi tiêu"
   ]
  },
  {
   "cell_type": "code",
   "execution_count": 36,
   "metadata": {},
   "outputs": [
    {
     "data": {
      "text/plain": [
       "count    1.000000e+01\n",
       "mean     1.710000e+07\n",
       "std      4.771443e+06\n",
       "min      1.100000e+07\n",
       "25%      1.325000e+07\n",
       "50%      1.650000e+07\n",
       "75%      2.075000e+07\n",
       "max      2.500000e+07\n",
       "Name: Chi tiêu, dtype: float64"
      ]
     },
     "execution_count": 36,
     "metadata": {},
     "output_type": "execute_result"
    }
   ],
   "source": [
    "df['Chi tiêu'].describe()"
   ]
  },
  {
   "cell_type": "markdown",
   "metadata": {},
   "source": [
    "Nhận xét: \n",
    "- Không thấy sự khác biệt rõ ràng giữa các giá trị "
   ]
  },
  {
   "cell_type": "markdown",
   "metadata": {},
   "source": [
    "# 8. Trực quan hóa phân bố chi tiêu"
   ]
  },
  {
   "cell_type": "code",
   "execution_count": 38,
   "metadata": {},
   "outputs": [
    {
     "data": {
      "image/png": "[encoded data removed]",
      "text/plain": [
       "<Figure size 640x480 with 1 Axes>"
      ]
     },
     "metadata": {},
     "output_type": "display_data"
    }
   ],
   "source": [
    "import matplotlib.pyplot as plt \n",
    "\n",
    "plt.hist(df['Chi tiêu'])\n",
    "plt.title(\"Biểu đồ biểu thị phân bố chi tiêu\")\n",
    "plt.show()"
   ]
  },
  {
   "cell_type": "markdown",
   "metadata": {},
   "source": [
    "Nhận xét: \n",
    "- tiêu 12 triệu, 14 triệu, 22 triệu là cao nhất \n",
    "- còn lại thì tương tự nhau"
   ]
  },
  {
   "cell_type": "markdown",
   "metadata": {},
   "source": [
    "# 9. Biểu đồ hộp so sánh mức chi tiêu theo nhóm tuổi và giới tính"
   ]
  },
  {
   "cell_type": "code",
   "execution_count": 46,
   "metadata": {},
   "outputs": [
    {
     "name": "stderr",
     "output_type": "stream",
     "text": [
      "/var/folders/bj/4zbr51sj4fsbvtllcchl3wzc0000gn/T/ipykernel_1907/1168885174.py:5: MatplotlibDeprecationWarning: The 'labels' parameter of boxplot() has been renamed 'tick_labels' since Matplotlib 3.9; support for the old name will be dropped in 3.11.\n",
      "  plt.boxplot([gioi_tinh_nam, gioi_tinh_nu], labels=['Nam', 'Nữ'])\n"
     ]
    },
    {
     "data": {
      "image/png": "[encoded data removed]",
      "text/plain": [
       "<Figure size 640x480 with 1 Axes>"
      ]
     },
     "metadata": {},
     "output_type": "display_data"
    }
   ],
   "source": [
    "gioi_tinh_nam = df[df['Giới tính'] == 'Nam'].groupby('Tuổi')['Chi tiêu'].sum()\n",
    "\n",
    "gioi_tinh_nu = df[df['Giới tính'] == 'Nữ'].groupby('Tuổi')['Chi tiêu'].sum()\n",
    "\n",
    "plt.boxplot([gioi_tinh_nam, gioi_tinh_nu], labels=['Nam', 'Nữ'])\n",
    "plt.show()"
   ]
  },
  {
   "cell_type": "markdown",
   "metadata": {},
   "source": [
    "# 10. Biểu đồ tròn thể hiện tỷ lệ tổng chi tiêu của từng nhóm tuổi"
   ]
  },
  {
   "cell_type": "code",
   "execution_count": 48,
   "metadata": {},
   "outputs": [
    {
     "data": {
      "image/png": "[encoded data removed]",
      "text/plain": [
       "<Figure size 640x480 with 1 Axes>"
      ]
     },
     "metadata": {},
     "output_type": "display_data"
    }
   ],
   "source": [
    "tong_chi_tieu = df.groupby(\"Tuổi\")['Chi tiêu'].sum()\n",
    "plt.pie(tong_chi_tieu, labels=tong_chi_tieu.index)\n",
    "plt.show()"
   ]
  },
  {
   "cell_type": "markdown",
   "metadata": {},
   "source": []
  }
 ],
 "metadata": {
  "kernelspec": {
   "display_name": "Python 3",
   "language": "python",
   "name": "python3"
  },
  "language_info": {
   "codemirror_mode": {
    "name": "ipython",
    "version": 3
   },
   "file_extension": ".py",
   "mimetype": "text/x-python",
   "name": "python",
   "nbconvert_exporter": "python",
   "pygments_lexer": "ipython3",
   "version": "3.12.2"
  }
 },
 "nbformat": 4,
 "nbformat_minor": 2
}
