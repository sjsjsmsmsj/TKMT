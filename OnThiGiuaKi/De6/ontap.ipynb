{
 "cells": [
  {
   "cell_type": "code",
   "execution_count": 34,
   "metadata": {},
   "outputs": [],
   "source": [
    "\n",
    "from scipy.stats import binom, poisson, norm, expon, uniform, beta, gamma, chi2, t, f\n",
    "import numpy as np\n",
    "import pandas as pd\n",
    "import matplotlib.pyplot as plt  "
   ]
  },
  {
   "cell_type": "code",
   "execution_count": 22,
   "metadata": {},
   "outputs": [],
   "source": [
    "df = pd.read_csv(\"StudentSurvey.csv\")"
   ]
  },
  {
   "cell_type": "code",
   "execution_count": 23,
   "metadata": {},
   "outputs": [
    {
     "data": {
      "text/html": [
       "<div>\n",
       "<style scoped>\n",
       "    .dataframe tbody tr th:only-of-type {\n",
       "        vertical-align: middle;\n",
       "    }\n",
       "\n",
       "    .dataframe tbody tr th {\n",
       "        vertical-align: top;\n",
       "    }\n",
       "\n",
       "    .dataframe thead th {\n",
       "        text-align: right;\n",
       "    }\n",
       "</style>\n",
       "<table border=\"1\" class=\"dataframe\">\n",
       "  <thead>\n",
       "    <tr style=\"text-align: right;\">\n",
       "      <th></th>\n",
       "      <th>Year</th>\n",
       "      <th>Gender</th>\n",
       "      <th>Smoke</th>\n",
       "      <th>Award</th>\n",
       "      <th>HigherSAT</th>\n",
       "      <th>Exercise</th>\n",
       "      <th>TV</th>\n",
       "      <th>Height</th>\n",
       "      <th>Weight</th>\n",
       "      <th>Siblings</th>\n",
       "      <th>BirthOrder</th>\n",
       "      <th>VerbalSAT</th>\n",
       "      <th>MathSAT</th>\n",
       "      <th>SAT</th>\n",
       "      <th>GPA</th>\n",
       "      <th>Pulse</th>\n",
       "      <th>Piercings</th>\n",
       "    </tr>\n",
       "  </thead>\n",
       "  <tbody>\n",
       "    <tr>\n",
       "      <th>0</th>\n",
       "      <td>Senior</td>\n",
       "      <td>M</td>\n",
       "      <td>No</td>\n",
       "      <td>Olympic</td>\n",
       "      <td>Math</td>\n",
       "      <td>10.0</td>\n",
       "      <td>1.0</td>\n",
       "      <td>71.0</td>\n",
       "      <td>180.0</td>\n",
       "      <td>4</td>\n",
       "      <td>4.0</td>\n",
       "      <td>540</td>\n",
       "      <td>670</td>\n",
       "      <td>1210</td>\n",
       "      <td>3.13</td>\n",
       "      <td>54</td>\n",
       "      <td>0.0</td>\n",
       "    </tr>\n",
       "    <tr>\n",
       "      <th>1</th>\n",
       "      <td>Sophomore</td>\n",
       "      <td>F</td>\n",
       "      <td>Yes</td>\n",
       "      <td>Academy</td>\n",
       "      <td>Math</td>\n",
       "      <td>4.0</td>\n",
       "      <td>7.0</td>\n",
       "      <td>66.0</td>\n",
       "      <td>120.0</td>\n",
       "      <td>2</td>\n",
       "      <td>2.0</td>\n",
       "      <td>520</td>\n",
       "      <td>630</td>\n",
       "      <td>1150</td>\n",
       "      <td>2.50</td>\n",
       "      <td>66</td>\n",
       "      <td>3.0</td>\n",
       "    </tr>\n",
       "    <tr>\n",
       "      <th>2</th>\n",
       "      <td>FirstYear</td>\n",
       "      <td>M</td>\n",
       "      <td>No</td>\n",
       "      <td>Nobel</td>\n",
       "      <td>Math</td>\n",
       "      <td>14.0</td>\n",
       "      <td>5.0</td>\n",
       "      <td>72.0</td>\n",
       "      <td>208.0</td>\n",
       "      <td>2</td>\n",
       "      <td>1.0</td>\n",
       "      <td>550</td>\n",
       "      <td>560</td>\n",
       "      <td>1110</td>\n",
       "      <td>2.55</td>\n",
       "      <td>130</td>\n",
       "      <td>0.0</td>\n",
       "    </tr>\n",
       "    <tr>\n",
       "      <th>3</th>\n",
       "      <td>Junior</td>\n",
       "      <td>M</td>\n",
       "      <td>No</td>\n",
       "      <td>Nobel</td>\n",
       "      <td>Math</td>\n",
       "      <td>3.0</td>\n",
       "      <td>1.0</td>\n",
       "      <td>63.0</td>\n",
       "      <td>110.0</td>\n",
       "      <td>1</td>\n",
       "      <td>1.0</td>\n",
       "      <td>490</td>\n",
       "      <td>630</td>\n",
       "      <td>1120</td>\n",
       "      <td>3.10</td>\n",
       "      <td>78</td>\n",
       "      <td>0.0</td>\n",
       "    </tr>\n",
       "    <tr>\n",
       "      <th>4</th>\n",
       "      <td>Sophomore</td>\n",
       "      <td>F</td>\n",
       "      <td>No</td>\n",
       "      <td>Nobel</td>\n",
       "      <td>Verbal</td>\n",
       "      <td>3.0</td>\n",
       "      <td>3.0</td>\n",
       "      <td>65.0</td>\n",
       "      <td>150.0</td>\n",
       "      <td>1</td>\n",
       "      <td>1.0</td>\n",
       "      <td>720</td>\n",
       "      <td>450</td>\n",
       "      <td>1170</td>\n",
       "      <td>2.70</td>\n",
       "      <td>40</td>\n",
       "      <td>6.0</td>\n",
       "    </tr>\n",
       "  </tbody>\n",
       "</table>\n",
       "</div>"
      ],
      "text/plain": [
       "        Year Gender Smoke    Award HigherSAT  Exercise   TV  Height  Weight  \\\n",
       "0     Senior      M    No  Olympic      Math      10.0  1.0    71.0   180.0   \n",
       "1  Sophomore      F   Yes  Academy      Math       4.0  7.0    66.0   120.0   \n",
       "2  FirstYear      M    No    Nobel      Math      14.0  5.0    72.0   208.0   \n",
       "3     Junior      M    No    Nobel      Math       3.0  1.0    63.0   110.0   \n",
       "4  Sophomore      F    No    Nobel    Verbal       3.0  3.0    65.0   150.0   \n",
       "\n",
       "   Siblings  BirthOrder  VerbalSAT  MathSAT   SAT   GPA  Pulse  Piercings  \n",
       "0         4         4.0        540      670  1210  3.13     54        0.0  \n",
       "1         2         2.0        520      630  1150  2.50     66        3.0  \n",
       "2         2         1.0        550      560  1110  2.55    130        0.0  \n",
       "3         1         1.0        490      630  1120  3.10     78        0.0  \n",
       "4         1         1.0        720      450  1170  2.70     40        6.0  "
      ]
     },
     "execution_count": 23,
     "metadata": {},
     "output_type": "execute_result"
    }
   ],
   "source": [
    "# đọc 5 dòng đầu tiên \n",
    "df.head()"
   ]
  },
  {
   "cell_type": "code",
   "execution_count": 24,
   "metadata": {},
   "outputs": [
    {
     "data": {
      "text/plain": [
       "Year           2\n",
       "Gender         0\n",
       "Smoke          0\n",
       "Award          0\n",
       "HigherSAT      7\n",
       "Exercise       1\n",
       "TV             1\n",
       "Height         7\n",
       "Weight         5\n",
       "Siblings       0\n",
       "BirthOrder     3\n",
       "VerbalSAT      0\n",
       "MathSAT        0\n",
       "SAT            0\n",
       "GPA           17\n",
       "Pulse          0\n",
       "Piercings      1\n",
       "dtype: int64"
      ]
     },
     "execution_count": 24,
     "metadata": {},
     "output_type": "execute_result"
    }
   ],
   "source": [
    "df.isna().sum()"
   ]
  },
  {
   "cell_type": "code",
   "execution_count": 20,
   "metadata": {},
   "outputs": [
    {
     "name": "stdout",
     "output_type": "stream",
     "text": [
      "<class 'pandas.core.frame.DataFrame'>\n",
      "Index: 360 entries, 0 to 361\n",
      "Data columns (total 17 columns):\n",
      " #   Column      Non-Null Count  Dtype  \n",
      "---  ------      --------------  -----  \n",
      " 0   Year        360 non-null    object \n",
      " 1   Gender      360 non-null    object \n",
      " 2   Smoke       360 non-null    object \n",
      " 3   Award       360 non-null    object \n",
      " 4   HigherSAT   353 non-null    object \n",
      " 5   Exercise    359 non-null    float64\n",
      " 6   TV          359 non-null    float64\n",
      " 7   Height      353 non-null    float64\n",
      " 8   Weight      355 non-null    float64\n",
      " 9   Siblings    360 non-null    int64  \n",
      " 10  BirthOrder  357 non-null    float64\n",
      " 11  VerbalSAT   360 non-null    int64  \n",
      " 12  MathSAT     360 non-null    int64  \n",
      " 13  SAT         360 non-null    int64  \n",
      " 14  GPA         345 non-null    float64\n",
      " 15  Pulse       360 non-null    int64  \n",
      " 16  Piercings   359 non-null    float64\n",
      "dtypes: float64(7), int64(5), object(5)\n",
      "memory usage: 50.6+ KB\n"
     ]
    }
   ],
   "source": [
    "df = df.dropna(subset=[\"Year\"])\n",
    "df.info()"
   ]
  },
  {
   "cell_type": "code",
   "execution_count": 26,
   "metadata": {},
   "outputs": [
    {
     "name": "stdout",
     "output_type": "stream",
     "text": [
      "Bảng phân phối tần số:\n",
      " Year\n",
      "Sophomore    195\n",
      "FirstYear     94\n",
      "Senior        36\n",
      "Junior        35\n",
      "Name: count, dtype: int64\n"
     ]
    }
   ],
   "source": [
    "bang_pp = df['Year'].value_counts()\n",
    "print(\"Bảng phân phối tần số:\\n\", bang_pp)"
   ]
  },
  {
   "cell_type": "code",
   "execution_count": 30,
   "metadata": {},
   "outputs": [
    {
     "name": "stdout",
     "output_type": "stream",
     "text": [
      "        Year  Count         c\n",
      "0  Sophomore    195  0.541667\n",
      "1  FirstYear     94  0.261111\n",
      "2     Senior     36  0.100000\n",
      "3     Junior     35  0.097222\n"
     ]
    }
   ],
   "source": [
    "bang_pp_ts = df['Year'].value_counts().reset_index()\n",
    "bang_pp_ts.columns = ['Year', 'Count']\n",
    "bang_pp_ts['c'] = bang_pp_ts['Count'] / bang_pp_ts['Count'].sum()\n",
    "print(bang_pp_ts)"
   ]
  },
  {
   "cell_type": "code",
   "execution_count": 32,
   "metadata": {},
   "outputs": [
    {
     "name": "stdout",
     "output_type": "stream",
     "text": [
      "Tỷ lệ đeo khuyên:  0.47790055248618785\n"
     ]
    }
   ],
   "source": [
    "# tỷ lệ đeo khuyên piercings \n",
    "ssv_dk = (df['Piercings'] > 0).sum()\n",
    "tongso = len(df)\n",
    "print(\"Tỷ lệ đeo khuyên: \", ssv_dk / tongso)"
   ]
  },
  {
   "cell_type": "code",
   "execution_count": 33,
   "metadata": {},
   "outputs": [
    {
     "name": "stdout",
     "output_type": "stream",
     "text": [
      "Tỷ lệ sinh viên nam:  0.03867403314917127\n",
      "Tỷ lệ sinh viên nữ:  0.43922651933701656\n"
     ]
    }
   ],
   "source": [
    "nam = df[df['Gender'] == 'M']\n",
    "nu = df[df['Gender'] == 'F']\n",
    "dk_nam = (nam['Piercings'] > 0).sum()\n",
    "dk_nu = (nu['Piercings'] > 0).sum()\n",
    "tongso = len(df)\n",
    "print(\"Tỷ lệ sinh viên nam: \", dk_nam / tongso)\n",
    "print(\"Tỷ lệ sinh viên nữ: \", dk_nu / tongso)"
   ]
  },
  {
   "cell_type": "markdown",
   "metadata": {},
   "source": [
    "Nhận xét: \n",
    "- Vậy tỷ lệ sinh viên nữ đeo khuyên cao hơn"
   ]
  },
  {
   "cell_type": "code",
   "execution_count": 38,
   "metadata": {},
   "outputs": [
    {
     "data": {
      "image/png": "[encoded data removed]",
      "text/plain": [
       "<Figure size 640x480 with 1 Axes>"
      ]
     },
     "metadata": {},
     "output_type": "display_data"
    },
    {
     "data": {
      "image/png": "[encoded data removed]",
      "text/plain": [
       "<Figure size 640x480 with 1 Axes>"
      ]
     },
     "metadata": {},
     "output_type": "display_data"
    },
    {
     "data": {
      "image/png": "[encoded data removed]",
      "text/plain": [
       "<Figure size 640x480 with 1 Axes>"
      ]
     },
     "metadata": {},
     "output_type": "display_data"
    }
   ],
   "source": [
    "plt.hist(df['Pulse'])\n",
    "plt.title(\"Biểu đồ histogram cho nhịp tim\")\n",
    "plt.xlabel(\"Số nhịp tim\")\n",
    "plt.ylabel(\"Số người\")\n",
    "plt.show()\n",
    "plt.hist(df['Exercise'])\n",
    "plt.title(\"Biểu đồ histogram cho số giờ tập thể thao\")\n",
    "plt.xlabel(\"Số giờ tập thể thao\")\n",
    "plt.ylabel(\"Số người\")\n",
    "plt.show()\n",
    "plt.hist(df['Piercings'])\n",
    "plt.title(\"Biểu đồ histogram cho số khuyên đeo\")\n",
    "plt.xlabel(\"Số khuyên đeo\")\n",
    "plt.ylabel(\"Số người\")\n",
    "plt.show()"
   ]
  },
  {
   "cell_type": "markdown",
   "metadata": {},
   "source": [
    "Nhận xét: \n",
    "- Biểu đồ nhịp tim cho thấy: nhịp tim khoảng 70 là nhiều nhất, đối xứng\n",
    "- Biểu đồ số giờ tập thể thao: đa số mọi người tập khoảng 5 giờ, lệch trái\n",
    "- Biểu đồ số khuyên đeo: phần đa không đeo khuyên, lệch trái"
   ]
  },
  {
   "cell_type": "code",
   "execution_count": 39,
   "metadata": {},
   "outputs": [
    {
     "name": "stdout",
     "output_type": "stream",
     "text": [
      "          Year Gender Smoke    Award HigherSAT  Exercise    TV  Height  \\\n",
      "328  FirstYear      M   Yes  Olympic      Math      12.0  20.0    68.0   \n",
      "31   Sophomore      F    No    Nobel      Math       0.0   2.0    66.0   \n",
      "236  Sophomore      M    No  Olympic    Verbal      17.0  14.0    72.0   \n",
      "157  Sophomore      F    No  Olympic    Verbal       6.0   3.0    67.0   \n",
      "329  Sophomore      M   Yes  Academy      Math       3.0   5.0    70.0   \n",
      "210  Sophomore      F    No  Academy      Math       7.0   2.0    64.0   \n",
      "348  FirstYear      F   Yes    Nobel    Verbal       2.0   1.0    68.0   \n",
      "313     Junior      F    No  Academy      Math       7.0   4.0    63.0   \n",
      "311  Sophomore      M    No  Olympic      Math      12.0   3.0    69.0   \n",
      "165  Sophomore      F    No    Nobel    Verbal       8.0  10.0    65.0   \n",
      "161  FirstYear      F    No    Nobel    Verbal       5.0   4.0    68.0   \n",
      "331  FirstYear      M   Yes    Nobel      Math       4.0   3.0    72.0   \n",
      "279  FirstYear      M    No  Olympic      Math      14.0   6.0    67.0   \n",
      "204  Sophomore      F    No    Nobel    Verbal       3.0  10.0    65.0   \n",
      "26   Sophomore      F    No  Academy    Verbal       6.0   8.0    67.0   \n",
      "139     Junior      F    No  Olympic      Math       2.0   3.0    67.0   \n",
      "305  Sophomore      M    No    Nobel      Math       8.0  12.0    70.0   \n",
      "239  Sophomore      M    No    Nobel    Verbal       0.0   7.0     NaN   \n",
      "275  Sophomore      F    No  Olympic    Verbal       7.0   5.0    64.0   \n",
      "39      Junior      F    No    Nobel    Verbal       5.0   5.0    64.0   \n",
      "119  FirstYear      F    No    Nobel    Verbal      12.0   3.0    67.0   \n",
      "32   FirstYear      M    No  Olympic      Math      10.0  20.0    70.0   \n",
      "54      Junior      M    No  Olympic    Verbal      15.0   2.0    65.0   \n",
      "140  FirstYear      M    No  Olympic      Math      10.0   3.0    71.0   \n",
      "3       Junior      M    No    Nobel      Math       3.0   1.0    63.0   \n",
      "333  FirstYear      M   Yes  Olympic    Verbal      25.0   5.0    72.0   \n",
      "212     Senior      F    No    Nobel      Math      10.0   2.0    62.0   \n",
      "254  Sophomore      M    No  Olympic    Verbal      12.0  20.0    76.0   \n",
      "36   FirstYear      M    No  Olympic      Math       2.0   5.0    73.0   \n",
      "105        NaN      F    No  Olympic    Verbal      12.0   7.0    78.0   \n",
      "58   Sophomore      F    No  Academy      Math      20.0   2.0    64.0   \n",
      "178  FirstYear      M    No  Olympic      Math      14.0   2.0    71.0   \n",
      "297  Sophomore      F    No  Olympic      Math       6.0   1.0    66.0   \n",
      "40      Senior      M    No    Nobel    Verbal       5.0   5.0    72.0   \n",
      "343  Sophomore      M   Yes  Olympic      Math       5.0   5.0    70.0   \n",
      "35   Sophomore      F    No  Olympic      Math      24.0   5.0    62.0   \n",
      "86      Senior      M    No  Academy    Verbal       4.0   5.0    72.0   \n",
      "314  Sophomore      F    No  Olympic      Math       5.0   5.0    65.0   \n",
      "242  FirstYear      M    No  Academy      Math       3.0   7.0    67.0   \n",
      "123  Sophomore      M    No  Olympic      Math      21.0  25.0    69.0   \n",
      "73   FirstYear      F    No  Olympic    Verbal       7.0   6.0    68.0   \n",
      "234     Junior      F    No    Nobel    Verbal       8.0  10.0    65.0   \n",
      "231  Sophomore      M    No    Nobel      Math       5.0   1.0    71.0   \n",
      "319     Senior      F    No  Olympic      Math       5.0   4.0    64.0   \n",
      "226  Sophomore      F    No    Nobel      Math       3.0   9.0    68.0   \n",
      "194  Sophomore      M    No  Olympic      Math      20.0  14.0    74.0   \n",
      "84   FirstYear      F    No  Olympic      Math      18.0   2.0    67.0   \n",
      "167  FirstYear      M    No  Academy      Math       5.0  20.0    71.0   \n",
      "64   FirstYear      M    No  Olympic      Math      15.0   6.0    70.0   \n",
      "97   Sophomore      M    No    Nobel    Verbal       3.0  10.0    68.0   \n",
      "\n",
      "     Weight  Siblings  BirthOrder  VerbalSAT  MathSAT   SAT   GPA  Pulse  \\\n",
      "328   165.0         1         1.0        550      650  1200  2.50     65   \n",
      "31    126.0         5         6.0        610      650  1260  3.79     82   \n",
      "236   180.0         3         3.0        660      620  1280  3.40     68   \n",
      "157   138.0         1         1.0        540      520  1060  3.10     58   \n",
      "329   165.0         3         2.0        630      680  1310  3.25     77   \n",
      "210   150.0         1         1.0        550      560  1110  3.40     55   \n",
      "348   180.0         2         3.0        680      610  1290  3.25     80   \n",
      "313   130.0         1         1.0        500      550  1050  2.23     75   \n",
      "311   145.0         2         2.0        700      740  1440  3.18     65   \n",
      "165   135.0         2         3.0        560      510  1070  3.36     86   \n",
      "161   140.0         0         1.0        800      670  1470  3.69     69   \n",
      "331   160.0         1         2.0        560      620  1180  3.66     62   \n",
      "279   185.0         1         1.0        550      600  1150  3.00     68   \n",
      "204   104.0         2         2.0        710      680  1390  3.55     54   \n",
      "26    155.0         1         1.0        610      590  1200  3.48     74   \n",
      "139   125.0         5         4.0        470      600  1070  3.10     70   \n",
      "305   163.0         2         1.0        630      680  1310  3.00     62   \n",
      "239   150.0         0         1.0        800      740  1540  3.81     65   \n",
      "275   130.0         2         2.0        620      570  1190  3.25     63   \n",
      "39    130.0         0         NaN        570      570  1140  2.40     48   \n",
      "119   135.0         3         4.0        660      550  1210  3.40     74   \n",
      "32    187.0         3         2.0        500      560  1060  3.30     68   \n",
      "54    160.0         4         4.0        500      480   980  2.90     35   \n",
      "140   222.0         1         1.0        570      580  1150  2.27     46   \n",
      "3     110.0         1         1.0        490      630  1120  3.10     78   \n",
      "333   165.0         1         1.0        530      510  1040  2.25     48   \n",
      "212   155.0         1         1.0        620      660  1280  3.10     78   \n",
      "254   195.0         3         1.0        650      620  1270  2.87     84   \n",
      "36    205.0         1         1.0        560      640  1200  3.51     86   \n",
      "105   145.0         1         1.0        680      640  1320   NaN     37   \n",
      "58    120.0         1         1.0        490      520  1010  2.90     71   \n",
      "178   172.0         1         1.0        550      580  1130  2.82     78   \n",
      "297   145.0         2         2.0        560      580  1140  2.90     77   \n",
      "40    215.0         3         1.0        630      590  1220  3.40     64   \n",
      "343   165.0         1         1.0        530      600  1130  3.25     70   \n",
      "35    119.0         1         2.0        560      580  1140  3.28     72   \n",
      "86    240.0         1         1.0        690      550  1240  3.49     70   \n",
      "314   155.0         1         1.0        600      630  1230  3.40     93   \n",
      "242   170.0         2         3.0        440      560  1000  3.10     42   \n",
      "123   171.0         1         1.0        480      530  1010  2.70     84   \n",
      "73    130.0         2         1.0        600      580  1180  2.40     71   \n",
      "234   140.0         2         1.0        670      670  1340  3.85     41   \n",
      "231   170.0         1         1.0        600      620  1220  3.30     70   \n",
      "319   130.0         2         3.0        540      560  1100  3.00     85   \n",
      "226   130.0         3         3.0        500      560  1060  3.50     71   \n",
      "194   210.0         3         3.0        630      660  1290  2.75     70   \n",
      "84    119.0         2         1.0        490      590  1080  2.10     66   \n",
      "167   160.0         2         1.0        590      740  1330  3.31     71   \n",
      "64    175.0         2         3.0        500      540  1040   NaN     63   \n",
      "97    145.0         5         6.0        680      570  1250  2.60     66   \n",
      "\n",
      "     Piercings         c  \n",
      "328        0.0       NaN  \n",
      "31         1.0       NaN  \n",
      "236        0.0       NaN  \n",
      "157        2.0       NaN  \n",
      "329        0.0       NaN  \n",
      "210        5.0       NaN  \n",
      "348        5.0       NaN  \n",
      "313        7.0       NaN  \n",
      "311        0.0       NaN  \n",
      "165        2.0       NaN  \n",
      "161        2.0       NaN  \n",
      "331        0.0       NaN  \n",
      "279        0.0       NaN  \n",
      "204        6.0       NaN  \n",
      "26         2.0       NaN  \n",
      "139        2.0       NaN  \n",
      "305        0.0       NaN  \n",
      "239        0.0       NaN  \n",
      "275        5.0       NaN  \n",
      "39         4.0       NaN  \n",
      "119        7.0       NaN  \n",
      "32         0.0       NaN  \n",
      "54         0.0       NaN  \n",
      "140        0.0       NaN  \n",
      "3          0.0  0.097222  \n",
      "333        3.0       NaN  \n",
      "212        2.0       NaN  \n",
      "254        0.0       NaN  \n",
      "36         0.0       NaN  \n",
      "105        4.0       NaN  \n",
      "58         2.0       NaN  \n",
      "178        0.0       NaN  \n",
      "297        3.0       NaN  \n",
      "40         0.0       NaN  \n",
      "343        0.0       NaN  \n",
      "35         4.0       NaN  \n",
      "86         0.0       NaN  \n",
      "314        2.0       NaN  \n",
      "242        0.0       NaN  \n",
      "123        0.0       NaN  \n",
      "73         2.0       NaN  \n",
      "234        2.0       NaN  \n",
      "231        0.0       NaN  \n",
      "319        2.0       NaN  \n",
      "226        4.0       NaN  \n",
      "194        0.0       NaN  \n",
      "84         1.0       NaN  \n",
      "167        0.0       NaN  \n",
      "64         0.0       NaN  \n",
      "97         0.0       NaN  \n"
     ]
    }
   ],
   "source": [
    "co_mau = df.sample(n=50)\n",
    "print(co_mau)"
   ]
  },
  {
   "cell_type": "code",
   "execution_count": 45,
   "metadata": {},
   "outputs": [
    {
     "name": "stdout",
     "output_type": "stream",
     "text": [
      "Tỷ lệ nữ:  0.48\n"
     ]
    }
   ],
   "source": [
    "nu = co_mau[co_mau['Gender'] == 'F']\n",
    "tl_nu = len(nu)\n",
    "tong_cong = len(co_mau)\n",
    "tl_nu_mau = tl_nu / tong_cong\n",
    "print(\"Tỷ lệ nữ: \", tl_nu / tong_cong)"
   ]
  },
  {
   "cell_type": "code",
   "execution_count": 42,
   "metadata": {},
   "outputs": [
    {
     "name": "stdout",
     "output_type": "stream",
     "text": [
      "Tỷ lệ nữ tổng thể:  0.46685082872928174\n"
     ]
    }
   ],
   "source": [
    "nu = df[df['Gender'] == 'F'] \n",
    "t_nu = len(nu)\n",
    "tong_cong = len(df)\n",
    "tl_nu_tt = t_nu / tong_cong\n",
    "print(\"Tỷ lệ nữ tổng thể: \", tl_nu_tt)\n"
   ]
  },
  {
   "cell_type": "code",
   "execution_count": 46,
   "metadata": {},
   "outputs": [
    {
     "name": "stdout",
     "output_type": "stream",
     "text": [
      "Sai số:  0.01314917127071824\n"
     ]
    }
   ],
   "source": [
    "print(\"Sai số: \", abs(tl_nu_mau - tl_nu_tt))"
   ]
  },
  {
   "cell_type": "code",
   "execution_count": 48,
   "metadata": {},
   "outputs": [
    {
     "data": {
      "image/png": "[encoded data removed]",
      "text/plain": [
       "<Figure size 640x480 with 1 Axes>"
      ]
     },
     "metadata": {},
     "output_type": "display_data"
    }
   ],
   "source": [
    "gia_tb = []\n",
    "for i in range(1, 101): \n",
    "    co_mau = df.sample(n=50)\n",
    "    nu = co_mau[co_mau['Gender'] == 'F']\n",
    "    tl_nu = len(nu)\n",
    "    tong_cong = len(co_mau) \n",
    "    tl_nu_mau = tl_nu / tong_cong\n",
    "    gia_tb.append(tl_nu_mau)\n",
    "plt.hist(gia_tb)\n",
    "plt.title(\"Biểu đồ histogram biểu thị 100 lần với cỡ mẫu 50\")\n",
    "plt.show()"
   ]
  },
  {
   "cell_type": "code",
   "execution_count": 50,
   "metadata": {},
   "outputs": [
    {
     "data": {
      "image/png": "[encoded data removed]",
      "text/plain": [
       "<Figure size 640x480 with 1 Axes>"
      ]
     },
     "metadata": {},
     "output_type": "display_data"
    }
   ],
   "source": [
    "gia_tb = []\n",
    "for i in range(1, 101): \n",
    "    co_mau = df.sample(n=100)\n",
    "    nu = co_mau[co_mau['Gender'] == 'F']\n",
    "    tl_nu = len(nu)\n",
    "    tong_cong = len(co_mau) \n",
    "    tl_nu_mau = tl_nu / tong_cong\n",
    "    gia_tb.append(tl_nu_mau)\n",
    "plt.hist(gia_tb)\n",
    "plt.title(\"Biểu đồ histogram biểu thị 100 lần với cỡ mẫu 100\")\n",
    "plt.show()"
   ]
  },
  {
   "cell_type": "markdown",
   "metadata": {},
   "source": [
    "Nhận xét: \n",
    "- Cho thấy rõ ràng hơn về phân bố của tỷ lệ nữ hơn \n",
    "- phần đa năm khoảng [0.4, 0.55] "
   ]
  },
  {
   "cell_type": "markdown",
   "metadata": {},
   "source": []
  }
 ],
 "metadata": {
  "kernelspec": {
   "display_name": "Python 3",
   "language": "python",
   "name": "python3"
  },
  "language_info": {
   "codemirror_mode": {
    "name": "ipython",
    "version": 3
   },
   "file_extension": ".py",
   "mimetype": "text/x-python",
   "name": "python",
   "nbconvert_exporter": "python",
   "pygments_lexer": "ipython3",
   "version": "3.12.2"
  }
 },
 "nbformat": 4,
 "nbformat_minor": 2
}
