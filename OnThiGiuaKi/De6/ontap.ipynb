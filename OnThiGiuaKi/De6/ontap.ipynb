{
 "cells": [
  {
   "cell_type": "code",
   "execution_count": 2,
   "metadata": {},
   "outputs": [],
   "source": [
    "\n",
    "from scipy.stats import binom, poisson, norm, expon, uniform, beta, gamma, chi2, t, f\n",
    "import numpy as np\n",
    "import pandas as pd\n",
    "import matplotlib.pyplot as plt  "
   ]
  },
  {
   "cell_type": "code",
   "execution_count": 3,
   "metadata": {},
   "outputs": [],
   "source": [
    "df = pd.read_csv(\"StudentSurvey.csv\")"
   ]
  },
  {
   "cell_type": "code",
   "execution_count": 4,
   "metadata": {},
   "outputs": [
    {
     "data": {
      "text/html": [
       "<div>\n",
       "<style scoped>\n",
       "    .dataframe tbody tr th:only-of-type {\n",
       "        vertical-align: middle;\n",
       "    }\n",
       "\n",
       "    .dataframe tbody tr th {\n",
       "        vertical-align: top;\n",
       "    }\n",
       "\n",
       "    .dataframe thead th {\n",
       "        text-align: right;\n",
       "    }\n",
       "</style>\n",
       "<table border=\"1\" class=\"dataframe\">\n",
       "  <thead>\n",
       "    <tr style=\"text-align: right;\">\n",
       "      <th></th>\n",
       "      <th>Year</th>\n",
       "      <th>Gender</th>\n",
       "      <th>Smoke</th>\n",
       "      <th>Award</th>\n",
       "      <th>HigherSAT</th>\n",
       "      <th>Exercise</th>\n",
       "      <th>TV</th>\n",
       "      <th>Height</th>\n",
       "      <th>Weight</th>\n",
       "      <th>Siblings</th>\n",
       "      <th>BirthOrder</th>\n",
       "      <th>VerbalSAT</th>\n",
       "      <th>MathSAT</th>\n",
       "      <th>SAT</th>\n",
       "      <th>GPA</th>\n",
       "      <th>Pulse</th>\n",
       "      <th>Piercings</th>\n",
       "    </tr>\n",
       "  </thead>\n",
       "  <tbody>\n",
       "    <tr>\n",
       "      <th>0</th>\n",
       "      <td>Senior</td>\n",
       "      <td>M</td>\n",
       "      <td>No</td>\n",
       "      <td>Olympic</td>\n",
       "      <td>Math</td>\n",
       "      <td>10.0</td>\n",
       "      <td>1.0</td>\n",
       "      <td>71.0</td>\n",
       "      <td>180.0</td>\n",
       "      <td>4</td>\n",
       "      <td>4.0</td>\n",
       "      <td>540</td>\n",
       "      <td>670</td>\n",
       "      <td>1210</td>\n",
       "      <td>3.13</td>\n",
       "      <td>54</td>\n",
       "      <td>0.0</td>\n",
       "    </tr>\n",
       "    <tr>\n",
       "      <th>1</th>\n",
       "      <td>Sophomore</td>\n",
       "      <td>F</td>\n",
       "      <td>Yes</td>\n",
       "      <td>Academy</td>\n",
       "      <td>Math</td>\n",
       "      <td>4.0</td>\n",
       "      <td>7.0</td>\n",
       "      <td>66.0</td>\n",
       "      <td>120.0</td>\n",
       "      <td>2</td>\n",
       "      <td>2.0</td>\n",
       "      <td>520</td>\n",
       "      <td>630</td>\n",
       "      <td>1150</td>\n",
       "      <td>2.50</td>\n",
       "      <td>66</td>\n",
       "      <td>3.0</td>\n",
       "    </tr>\n",
       "    <tr>\n",
       "      <th>2</th>\n",
       "      <td>FirstYear</td>\n",
       "      <td>M</td>\n",
       "      <td>No</td>\n",
       "      <td>Nobel</td>\n",
       "      <td>Math</td>\n",
       "      <td>14.0</td>\n",
       "      <td>5.0</td>\n",
       "      <td>72.0</td>\n",
       "      <td>208.0</td>\n",
       "      <td>2</td>\n",
       "      <td>1.0</td>\n",
       "      <td>550</td>\n",
       "      <td>560</td>\n",
       "      <td>1110</td>\n",
       "      <td>2.55</td>\n",
       "      <td>130</td>\n",
       "      <td>0.0</td>\n",
       "    </tr>\n",
       "    <tr>\n",
       "      <th>3</th>\n",
       "      <td>Junior</td>\n",
       "      <td>M</td>\n",
       "      <td>No</td>\n",
       "      <td>Nobel</td>\n",
       "      <td>Math</td>\n",
       "      <td>3.0</td>\n",
       "      <td>1.0</td>\n",
       "      <td>63.0</td>\n",
       "      <td>110.0</td>\n",
       "      <td>1</td>\n",
       "      <td>1.0</td>\n",
       "      <td>490</td>\n",
       "      <td>630</td>\n",
       "      <td>1120</td>\n",
       "      <td>3.10</td>\n",
       "      <td>78</td>\n",
       "      <td>0.0</td>\n",
       "    </tr>\n",
       "    <tr>\n",
       "      <th>4</th>\n",
       "      <td>Sophomore</td>\n",
       "      <td>F</td>\n",
       "      <td>No</td>\n",
       "      <td>Nobel</td>\n",
       "      <td>Verbal</td>\n",
       "      <td>3.0</td>\n",
       "      <td>3.0</td>\n",
       "      <td>65.0</td>\n",
       "      <td>150.0</td>\n",
       "      <td>1</td>\n",
       "      <td>1.0</td>\n",
       "      <td>720</td>\n",
       "      <td>450</td>\n",
       "      <td>1170</td>\n",
       "      <td>2.70</td>\n",
       "      <td>40</td>\n",
       "      <td>6.0</td>\n",
       "    </tr>\n",
       "  </tbody>\n",
       "</table>\n",
       "</div>"
      ],
      "text/plain": [
       "        Year Gender Smoke    Award HigherSAT  Exercise   TV  Height  Weight  \\\n",
       "0     Senior      M    No  Olympic      Math      10.0  1.0    71.0   180.0   \n",
       "1  Sophomore      F   Yes  Academy      Math       4.0  7.0    66.0   120.0   \n",
       "2  FirstYear      M    No    Nobel      Math      14.0  5.0    72.0   208.0   \n",
       "3     Junior      M    No    Nobel      Math       3.0  1.0    63.0   110.0   \n",
       "4  Sophomore      F    No    Nobel    Verbal       3.0  3.0    65.0   150.0   \n",
       "\n",
       "   Siblings  BirthOrder  VerbalSAT  MathSAT   SAT   GPA  Pulse  Piercings  \n",
       "0         4         4.0        540      670  1210  3.13     54        0.0  \n",
       "1         2         2.0        520      630  1150  2.50     66        3.0  \n",
       "2         2         1.0        550      560  1110  2.55    130        0.0  \n",
       "3         1         1.0        490      630  1120  3.10     78        0.0  \n",
       "4         1         1.0        720      450  1170  2.70     40        6.0  "
      ]
     },
     "execution_count": 4,
     "metadata": {},
     "output_type": "execute_result"
    }
   ],
   "source": [
    "# đọc 5 dòng đầu tiên \n",
    "df.head()"
   ]
  },
  {
   "cell_type": "code",
   "execution_count": 5,
   "metadata": {},
   "outputs": [
    {
     "data": {
      "text/plain": [
       "Year           2\n",
       "Gender         0\n",
       "Smoke          0\n",
       "Award          0\n",
       "HigherSAT      7\n",
       "Exercise       1\n",
       "TV             1\n",
       "Height         7\n",
       "Weight         5\n",
       "Siblings       0\n",
       "BirthOrder     3\n",
       "VerbalSAT      0\n",
       "MathSAT        0\n",
       "SAT            0\n",
       "GPA           17\n",
       "Pulse          0\n",
       "Piercings      1\n",
       "dtype: int64"
      ]
     },
     "execution_count": 5,
     "metadata": {},
     "output_type": "execute_result"
    }
   ],
   "source": [
    "df.isna().sum()"
   ]
  },
  {
   "cell_type": "code",
   "execution_count": 6,
   "metadata": {},
   "outputs": [
    {
     "name": "stdout",
     "output_type": "stream",
     "text": [
      "<class 'pandas.core.frame.DataFrame'>\n",
      "Index: 360 entries, 0 to 361\n",
      "Data columns (total 17 columns):\n",
      " #   Column      Non-Null Count  Dtype  \n",
      "---  ------      --------------  -----  \n",
      " 0   Year        360 non-null    object \n",
      " 1   Gender      360 non-null    object \n",
      " 2   Smoke       360 non-null    object \n",
      " 3   Award       360 non-null    object \n",
      " 4   HigherSAT   353 non-null    object \n",
      " 5   Exercise    359 non-null    float64\n",
      " 6   TV          359 non-null    float64\n",
      " 7   Height      353 non-null    float64\n",
      " 8   Weight      355 non-null    float64\n",
      " 9   Siblings    360 non-null    int64  \n",
      " 10  BirthOrder  357 non-null    float64\n",
      " 11  VerbalSAT   360 non-null    int64  \n",
      " 12  MathSAT     360 non-null    int64  \n",
      " 13  SAT         360 non-null    int64  \n",
      " 14  GPA         345 non-null    float64\n",
      " 15  Pulse       360 non-null    int64  \n",
      " 16  Piercings   359 non-null    float64\n",
      "dtypes: float64(7), int64(5), object(5)\n",
      "memory usage: 50.6+ KB\n"
     ]
    }
   ],
   "source": [
    "df = df.dropna(subset=[\"Year\"])\n",
    "df.info()"
   ]
  },
  {
   "cell_type": "code",
   "execution_count": 7,
   "metadata": {},
   "outputs": [
    {
     "name": "stdout",
     "output_type": "stream",
     "text": [
      "Bảng phân phối tần số:\n",
      " Year\n",
      "Sophomore    195\n",
      "FirstYear     94\n",
      "Senior        36\n",
      "Junior        35\n",
      "Name: count, dtype: int64\n"
     ]
    }
   ],
   "source": [
    "bang_pp = df['Year'].value_counts()\n",
    "print(\"Bảng phân phối tần số:\\n\", bang_pp)"
   ]
  },
  {
   "cell_type": "code",
   "execution_count": 8,
   "metadata": {},
   "outputs": [
    {
     "name": "stdout",
     "output_type": "stream",
     "text": [
      "        Year  Count         c\n",
      "0  Sophomore    195  0.541667\n",
      "1  FirstYear     94  0.261111\n",
      "2     Senior     36  0.100000\n",
      "3     Junior     35  0.097222\n"
     ]
    }
   ],
   "source": [
    "bang_pp_ts = df['Year'].value_counts().reset_index()\n",
    "bang_pp_ts.columns = ['Year', 'Count']\n",
    "bang_pp_ts['c'] = bang_pp_ts['Count'] / bang_pp_ts['Count'].sum()\n",
    "print(bang_pp_ts)"
   ]
  },
  {
   "cell_type": "code",
   "execution_count": 9,
   "metadata": {},
   "outputs": [
    {
     "name": "stdout",
     "output_type": "stream",
     "text": [
      "Tỷ lệ đeo khuyên:  0.475\n"
     ]
    }
   ],
   "source": [
    "# tỷ lệ đeo khuyên piercings \n",
    "ssv_dk = (df['Piercings'] > 0).sum()\n",
    "tongso = len(df)\n",
    "print(\"Tỷ lệ đeo khuyên: \", ssv_dk / tongso)"
   ]
  },
  {
   "cell_type": "code",
   "execution_count": 10,
   "metadata": {},
   "outputs": [
    {
     "name": "stdout",
     "output_type": "stream",
     "text": [
      "Tỷ lệ sinh viên nam:  0.07253886010362694\n",
      "Tỷ lệ sinh viên nữ:  0.8134715025906736\n"
     ]
    }
   ],
   "source": [
    "nam = df[df['Gender'] == 'M']\n",
    "nu = df[df['Gender'] == 'F']\n",
    "dk_nam = (nam['Piercings'] > 0).sum()\n",
    "dk_nu = (nu['Piercings'] > 0).sum()\n",
    "tongso = len(nam)\n",
    "print(\"Tỷ lệ sinh viên nam: \", dk_nam / tongso)\n",
    "print(\"Tỷ lệ sinh viên nữ: \", dk_nu / tongso)"
   ]
  },
  {
   "cell_type": "markdown",
   "metadata": {},
   "source": [
    "Nhận xét: \n",
    "- Vậy tỷ lệ sinh viên nữ đeo khuyên cao hơn"
   ]
  },
  {
   "cell_type": "code",
   "execution_count": 10,
   "metadata": {},
   "outputs": [
    {
     "data": {
      "image/png": "[encoded data removed]",
      "text/plain": [
       "<Figure size 640x480 with 1 Axes>"
      ]
     },
     "metadata": {},
     "output_type": "display_data"
    },
    {
     "data": {
      "image/png": "[encoded data removed]",
      "text/plain": [
       "<Figure size 640x480 with 1 Axes>"
      ]
     },
     "metadata": {},
     "output_type": "display_data"
    },
    {
     "data": {
      "image/png": "[encoded data removed]",
      "text/plain": [
       "<Figure size 640x480 with 1 Axes>"
      ]
     },
     "metadata": {},
     "output_type": "display_data"
    }
   ],
   "source": [
    "plt.hist(df['Pulse'])\n",
    "plt.title(\"Biểu đồ histogram cho nhịp tim\")\n",
    "plt.xlabel(\"Số nhịp tim\")\n",
    "plt.ylabel(\"Số người\")\n",
    "plt.show()\n",
    "plt.hist(df['Exercise'])\n",
    "plt.title(\"Biểu đồ histogram cho số giờ tập thể thao\")\n",
    "plt.xlabel(\"Số giờ tập thể thao\")\n",
    "plt.ylabel(\"Số người\")\n",
    "plt.show()\n",
    "plt.hist(df['Piercings'])\n",
    "plt.title(\"Biểu đồ histogram cho số khuyên đeo\")\n",
    "plt.xlabel(\"Số khuyên đeo\")\n",
    "plt.ylabel(\"Số người\")\n",
    "plt.show()"
   ]
  },
  {
   "cell_type": "markdown",
   "metadata": {},
   "source": [
    "Nhận xét: \n",
    "- Biểu đồ nhịp tim cho thấy: nhịp tim khoảng 70 là nhiều nhất, đối xứng\n",
    "- Biểu đồ số giờ tập thể thao: đa số mọi người tập khoảng 5 giờ, lệch trái\n",
    "- Biểu đồ số khuyên đeo: phần đa không đeo khuyên, lệch trái"
   ]
  },
  {
   "cell_type": "code",
   "execution_count": 12,
   "metadata": {},
   "outputs": [
    {
     "name": "stdout",
     "output_type": "stream",
     "text": [
      "          Year Gender Smoke    Award HigherSAT  Exercise    TV  Height  \\\n",
      "40      Senior      M    No    Nobel    Verbal       5.0   5.0    72.0   \n",
      "224     Senior      M    No  Olympic      Math       5.0   3.0    71.0   \n",
      "172     Junior      F    No    Nobel      Math       5.0  10.0    61.0   \n",
      "283  Sophomore      F    No  Academy    Verbal       5.0   5.0    66.0   \n",
      "194  Sophomore      M    No  Olympic      Math      20.0  14.0    74.0   \n",
      "56      Junior      F    No  Academy      Math       3.0  15.0    63.0   \n",
      "239  Sophomore      M    No    Nobel    Verbal       0.0   7.0     NaN   \n",
      "154     Senior      M    No  Olympic    Verbal      15.0  10.0    71.0   \n",
      "259  Sophomore      M    No  Academy      Math       8.0   4.0    69.0   \n",
      "113  FirstYear      M    No  Olympic      Math      24.0   6.0    78.0   \n",
      "221  Sophomore      M    No  Olympic      Math      12.0   6.0    72.0   \n",
      "305  Sophomore      M    No    Nobel      Math       8.0  12.0    70.0   \n",
      "255  Sophomore      F    No    Nobel    Verbal       5.0   2.0    59.0   \n",
      "116  Sophomore      F    No    Nobel    Verbal      12.0  10.0    68.0   \n",
      "360  FirstYear      M   Yes  Olympic    Verbal      14.0   5.0    77.0   \n",
      "77   Sophomore      F    No  Olympic      Math       8.0   8.0    65.0   \n",
      "337  Sophomore      M   Yes    Nobel    Verbal       7.0   2.0    72.0   \n",
      "23   Sophomore      M    No  Olympic      Math       7.0  10.0    74.0   \n",
      "315  FirstYear      F    No  Academy    Verbal       6.0   4.0    65.0   \n",
      "164  Sophomore      M    No  Olympic    Verbal       8.0   2.0    66.0   \n",
      "342     Senior      M   Yes  Olympic      Math       8.0  12.0    71.0   \n",
      "138  Sophomore      F    No    Nobel    Verbal       3.0   4.0    68.0   \n",
      "21   Sophomore      F    No    Nobel      Math      14.0   2.0    68.0   \n",
      "37   Sophomore      F    No  Academy      Math      10.0   5.0    67.0   \n",
      "271  FirstYear      F    No  Olympic    Verbal       7.0   4.0    64.0   \n",
      "72   FirstYear      F    No    Nobel    Verbal      10.0   4.0    66.0   \n",
      "98   Sophomore      M    No    Nobel      Math       5.0   4.0    72.0   \n",
      "5    Sophomore      F    No    Nobel    Verbal       5.0   4.0    65.0   \n",
      "96   Sophomore      F    No    Nobel    Verbal      14.0   2.0    67.0   \n",
      "187  Sophomore      F    No  Olympic       NaN       4.0  10.0    66.0   \n",
      "112  Sophomore      F    No    Nobel    Verbal       3.0   3.0    73.0   \n",
      "288  FirstYear      M    No    Nobel      Math       5.0   2.0    67.0   \n",
      "222  Sophomore      M    No  Olympic      Math      10.0   5.0    71.0   \n",
      "299  Sophomore      M    No  Olympic      Math       9.0   6.0    76.0   \n",
      "47   Sophomore      M    No  Olympic      Math      15.0  20.0    74.0   \n",
      "166     Junior      M    No    Nobel    Verbal       3.0  15.0    70.0   \n",
      "352  Sophomore      F   Yes    Nobel      Math      10.0  10.0    65.0   \n",
      "63   FirstYear      M    No  Olympic    Verbal      20.0  12.0    73.0   \n",
      "141  FirstYear      F    No  Academy    Verbal       4.0   3.0    65.0   \n",
      "196  Sophomore      F    No    Nobel      Math       3.0   3.0    63.0   \n",
      "256     Junior      F    No  Olympic    Verbal       3.0   1.0    66.0   \n",
      "55   FirstYear      M    No  Academy    Verbal       3.0   6.0    72.0   \n",
      "41   Sophomore      F    No    Nobel    Verbal      12.0   4.0    64.0   \n",
      "111  Sophomore      M    No    Nobel      Math       2.0   8.0    65.0   \n",
      "361  Sophomore      F   Yes  Olympic      Math      12.0   5.0    60.0   \n",
      "43   FirstYear      F    No  Olympic      Math       7.0   8.0    60.0   \n",
      "125  Sophomore      M    No  Olympic      Math       3.0  15.0    71.0   \n",
      "134  Sophomore      F    No    Nobel      Math      12.0  10.0    63.0   \n",
      "324     Junior      F   Yes    Nobel      Math      15.0  10.0    64.0   \n",
      "282     Senior      M    No    Nobel      Math       5.0   4.0    63.0   \n",
      "\n",
      "     Weight  Siblings  BirthOrder  VerbalSAT  MathSAT   SAT   GPA  Pulse  \\\n",
      "40    215.0         3         1.0        630      590  1220  3.40     64   \n",
      "224   265.0         1         1.0        440      460   900  2.70     82   \n",
      "172   110.0         2         2.0        660      700  1360  3.83     80   \n",
      "283   140.0         0         1.0        720      700  1420  3.50     68   \n",
      "194   210.0         3         3.0        630      660  1290  2.75     70   \n",
      "56     95.0         0         1.0        600      660  1260  3.30     88   \n",
      "239   150.0         0         1.0        800      740  1540  3.81     65   \n",
      "154   195.0         2         3.0        620      600  1220  2.22     69   \n",
      "259   155.0         2         1.0        750      780  1530  3.71     84   \n",
      "113   225.0         2         1.0        570      670  1240  2.10     78   \n",
      "221   175.0         2         2.0        680      750  1430  3.00     54   \n",
      "305   163.0         2         1.0        630      680  1310  3.00     62   \n",
      "255   115.0         1         2.0        520      520  1040  3.30     68   \n",
      "116   138.0         1         2.0        610      540  1150  3.75     77   \n",
      "360   205.0         2         2.0        550      550  1100  2.30     72   \n",
      "77    160.0         3         3.0        580      640  1220  3.64     77   \n",
      "337   180.0         2         2.0        610      600  1210  3.00     74   \n",
      "23    200.0         1         2.0        550      650  1200  3.00     48   \n",
      "315     NaN         1         2.0        650      620  1270  3.30     75   \n",
      "164   155.0         1         1.0        670      650  1320  2.80     64   \n",
      "342   175.0         0         1.0        540      600  1140  3.30     72   \n",
      "138   130.0         2         3.0        660      580  1240  3.00     62   \n",
      "21    145.0         8         8.0        560      570  1130  2.90     70   \n",
      "37    129.0         1         1.0        470      600  1070  2.60     67   \n",
      "271   140.0         2         1.0        720      690  1410  3.50     78   \n",
      "72    146.0         1         2.0        690      620  1310  3.25     52   \n",
      "98    128.0         1         1.0        550      600  1150  3.70     66   \n",
      "5     114.0         2         2.0        600      550  1150  3.20     80   \n",
      "96    140.0         6         7.0        650      550  1200  3.10     67   \n",
      "187   127.0         1         2.0        600      600  1200  3.20     70   \n",
      "112   120.0         1         1.0        680      670  1350  3.95     89   \n",
      "288   165.0         3         4.0        620      640  1260  3.50     74   \n",
      "222   200.0         1         2.0        630      710  1340  2.75     70   \n",
      "299   210.0         2         2.0        500      580  1080  3.25     62   \n",
      "47    160.0         1         2.0        630      690  1320  2.90     70   \n",
      "166   165.0         1         1.0        630      600  1230  2.97     73   \n",
      "352   137.0         0         1.0        550      560  1110  3.30     42   \n",
      "63    215.0         2         3.0        600      600  1200  3.40     96   \n",
      "141   128.0         3         1.0        560      550  1110  2.80     88   \n",
      "196   145.0         4         5.0        670      750  1420  3.60     81   \n",
      "256   140.0         1         2.0        580      530  1110  3.30     74   \n",
      "55    160.0         0         1.0        620      600  1220  3.00     90   \n",
      "41    135.0         2         3.0        580      540  1120  2.40     73   \n",
      "111   195.0         2         1.0        620      630  1250  3.50     55   \n",
      "361   115.0         0         1.0        500      510  1010  2.60     91   \n",
      "43     98.0         2         2.0        490      550  1040  3.10     85   \n",
      "125   188.0         3         1.0        520      600  1120  2.20     66   \n",
      "134   140.0         2         3.0        530      700  1230  3.80     81   \n",
      "324   145.0         1         1.0        480      690  1170  3.50     64   \n",
      "282   135.0         1         1.0        440      640  1080  2.50     60   \n",
      "\n",
      "     Piercings  \n",
      "40         0.0  \n",
      "224        0.0  \n",
      "172        4.0  \n",
      "283        6.0  \n",
      "194        0.0  \n",
      "56         4.0  \n",
      "239        0.0  \n",
      "154        0.0  \n",
      "259        0.0  \n",
      "113        0.0  \n",
      "221        0.0  \n",
      "305        0.0  \n",
      "255        0.0  \n",
      "116        4.0  \n",
      "360        0.0  \n",
      "77         4.0  \n",
      "337        0.0  \n",
      "23         0.0  \n",
      "315        2.0  \n",
      "164        0.0  \n",
      "342        0.0  \n",
      "138        2.0  \n",
      "21         2.0  \n",
      "37         4.0  \n",
      "271        4.0  \n",
      "72         5.0  \n",
      "98         0.0  \n",
      "5          4.0  \n",
      "96         2.0  \n",
      "187        0.0  \n",
      "112        0.0  \n",
      "288        5.0  \n",
      "222        0.0  \n",
      "299        0.0  \n",
      "47         0.0  \n",
      "166        0.0  \n",
      "352        5.0  \n",
      "63         0.0  \n",
      "141        2.0  \n",
      "196        5.0  \n",
      "256        2.0  \n",
      "55         0.0  \n",
      "41         7.0  \n",
      "111        0.0  \n",
      "361        5.0  \n",
      "43         5.0  \n",
      "125        0.0  \n",
      "134        4.0  \n",
      "324        8.0  \n",
      "282        0.0  \n"
     ]
    }
   ],
   "source": [
    "co_mau = df.sample(n=50)\n",
    "print(co_mau)"
   ]
  },
  {
   "cell_type": "code",
   "execution_count": 18,
   "metadata": {},
   "outputs": [
    {
     "name": "stdout",
     "output_type": "stream",
     "text": [
      "Tỷ lệ nữ:  0.88\n"
     ]
    }
   ],
   "source": [
    "nu = co_mau[co_mau['Gender'] == 'F']\n",
    "deo_khuyen_nu = (nu['Piercings'] > 0).sum()\n",
    "tong_the = len(nu)\n",
    "tl_nu_mau = deo_khuyen_nu / tong_the\n",
    "print(\"Tỷ lệ nữ: \", deo_khuyen_nu / tong_the)"
   ]
  },
  {
   "cell_type": "code",
   "execution_count": 19,
   "metadata": {},
   "outputs": [
    {
     "name": "stdout",
     "output_type": "stream",
     "text": [
      "Tỷ lệ nữ tổng thể:  0.9401197604790419\n"
     ]
    }
   ],
   "source": [
    "nu = df[df['Gender'] == 'F'] \n",
    "deo_khuyen_nu = (nu['Piercings'] > 0).sum()\n",
    "tong_the = len(nu)\n",
    "tl_nu_tt = deo_khuyen_nu / tong_the\n",
    "print(\"Tỷ lệ nữ tổng thể: \", tl_nu_tt)\n"
   ]
  },
  {
   "cell_type": "code",
   "execution_count": 20,
   "metadata": {},
   "outputs": [
    {
     "name": "stdout",
     "output_type": "stream",
     "text": [
      "Sai số:  0.060119760479041884\n"
     ]
    }
   ],
   "source": [
    "print(\"Sai số: \", abs(tl_nu_mau - tl_nu_tt))"
   ]
  },
  {
   "cell_type": "code",
   "execution_count": 21,
   "metadata": {},
   "outputs": [
    {
     "data": {
      "image/png": "[encoded data removed]",
      "text/plain": [
       "<Figure size 640x480 with 1 Axes>"
      ]
     },
     "metadata": {},
     "output_type": "display_data"
    }
   ],
   "source": [
    "gia_tb = []\n",
    "for i in range(1, 101): \n",
    "    co_mau = df.sample(n=50)\n",
    "    nu = co_mau[co_mau['Gender'] == 'F']\n",
    "    tl_nu = len(nu)\n",
    "    tong_cong = len(co_mau) \n",
    "    tl_nu_mau = tl_nu / tong_cong\n",
    "    gia_tb.append(tl_nu_mau)\n",
    "plt.hist(gia_tb)\n",
    "plt.title(\"Biểu đồ histogram biểu thị 100 lần với cỡ mẫu 50\")\n",
    "plt.show()"
   ]
  },
  {
   "cell_type": "code",
   "execution_count": 22,
   "metadata": {},
   "outputs": [
    {
     "data": {
      "image/png": "[encoded data removed]",
      "text/plain": [
       "<Figure size 640x480 with 1 Axes>"
      ]
     },
     "metadata": {},
     "output_type": "display_data"
    }
   ],
   "source": [
    "gia_tb = []\n",
    "for i in range(1, 101): \n",
    "    co_mau = df.sample(n=100)\n",
    "    nu = co_mau[co_mau['Gender'] == 'F']\n",
    "    tl_nu = len(nu)\n",
    "    tong_cong = len(co_mau) \n",
    "    tl_nu_mau = tl_nu / tong_cong\n",
    "    gia_tb.append(tl_nu_mau)\n",
    "plt.hist(gia_tb)\n",
    "plt.title(\"Biểu đồ histogram biểu thị 100 lần với cỡ mẫu 100\")\n",
    "plt.show()"
   ]
  },
  {
   "cell_type": "markdown",
   "metadata": {},
   "source": [
    "Nhận xét: \n",
    "- Cho thấy rõ ràng hơn về phân bố của tỷ lệ nữ hơn \n",
    "- phần đa năm khoảng [0.4, 0.55] "
   ]
  },
  {
   "cell_type": "markdown",
   "metadata": {},
   "source": []
  }
 ],
 "metadata": {
  "kernelspec": {
   "display_name": "Python 3",
   "language": "python",
   "name": "python3"
  },
  "language_info": {
   "codemirror_mode": {
    "name": "ipython",
    "version": 3
   },
   "file_extension": ".py",
   "mimetype": "text/x-python",
   "name": "python",
   "nbconvert_exporter": "python",
   "pygments_lexer": "ipython3",
   "version": "3.12.2"
  }
 },
 "nbformat": 4,
 "nbformat_minor": 2
}
