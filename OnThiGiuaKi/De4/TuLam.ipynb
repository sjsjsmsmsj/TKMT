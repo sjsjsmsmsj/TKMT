{
 "cells": [
  {
   "cell_type": "markdown",
   "metadata": {},
   "source": [
    "Sau khi đọc dữ liệu từ file CSV vào DataFrame df, hãy thực hiện các yêu cầu sau:\n",
    "\n",
    "(2 điểm) Hiển thị 5 dòng đầu tiên, 5 dòng ngẫu nhiên, kích thước DataFrame, số dòng và số cột.\n",
    "(2 điểm) Thống kê số lượng xe theo từng hãng (HangXe) và vẽ biểu đồ cột minh họa.\n",
    "(2 điểm) Tính giá bán trung bình (GiaBan) của xe theo từng loại (LoaiXe).\n",
    "(2 điểm) Lọc ra những xe có dung tích trên 200cc và hiển thị.\n",
    "(2 điểm) Vẽ biểu đồ pie thể hiện tỷ lệ xe được bán theo từng loại (LoaiXe).\n"
   ]
  },
  {
   "cell_type": "markdown",
   "metadata": {},
   "source": []
  }
 ],
 "metadata": {
  "language_info": {
   "name": "python"
  }
 },
 "nbformat": 4,
 "nbformat_minor": 2
}
