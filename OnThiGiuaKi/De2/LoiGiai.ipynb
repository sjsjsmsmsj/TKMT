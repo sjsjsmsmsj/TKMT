{
 "cells": [
  {
   "cell_type": "markdown",
   "metadata": {},
   "source": [
    "Cho DataSet lấy từ file B72.csv của các hộ gồm các trường sau:\n",
    "\n",
    "- MaLo: Mã lô đất\n",
    "- MatTien: Đường mặt tiền (m)\n",
    "- DienTich: Diện tích lô đất (m²)\n",
    "- LoaiDat: Loại đất\n",
    "1: Đất nông nghiệp,\n",
    "2: Đất không thời hạn,\n",
    "x (x là số năm): Đất có thời hạn\n",
    "- Dùng Jupyter Notebook (hoặc Colab) để trả lời các câu hỏi sau.\n",
    "(Đặt tên file: STT_HoVaTen_MSSV.ipynb và STT_HoVaTen_MSSV.pdf)\n",
    "\n"
   ]
  },
  {
   "cell_type": "markdown",
   "metadata": {},
   "source": [
    "Câu 1 (3.0 điểm)\n",
    "- a. Đọc dữ liệu file trên vào DataFrame có tên df và hiển thị:\n",
    " 5 dòng đầu tiên\n",
    " 5 dòng ngẫu nhiên\n",
    " Kích thước df\n",
    " Số dòng df\n",
    " Số cột df\n",
    "- b. Thống kê có bao nhiêu lô đất nông nghiệp và đất không thời hạn. Vẽ biểu đồ pie minh họa.\n",
    "\n",
    "- c. Tính giá trị thống kê trung bình (mean) của diện tích cho các lô đất có thời hạn trên 15 năm."
   ]
  },
  {
   "cell_type": "code",
   "execution_count": 53,
   "metadata": {},
   "outputs": [
    {
     "data": {
      "text/html": [
       "<div>\n",
       "<style scoped>\n",
       "    .dataframe tbody tr th:only-of-type {\n",
       "        vertical-align: middle;\n",
       "    }\n",
       "\n",
       "    .dataframe tbody tr th {\n",
       "        vertical-align: top;\n",
       "    }\n",
       "\n",
       "    .dataframe thead th {\n",
       "        text-align: right;\n",
       "    }\n",
       "</style>\n",
       "<table border=\"1\" class=\"dataframe\">\n",
       "  <thead>\n",
       "    <tr style=\"text-align: right;\">\n",
       "      <th></th>\n",
       "      <th>MaLo</th>\n",
       "      <th>MatTien</th>\n",
       "      <th>DienTich</th>\n",
       "      <th>LoaiDat</th>\n",
       "    </tr>\n",
       "  </thead>\n",
       "  <tbody>\n",
       "    <tr>\n",
       "      <th>0</th>\n",
       "      <td>L001</td>\n",
       "      <td>17</td>\n",
       "      <td>318</td>\n",
       "      <td>1</td>\n",
       "    </tr>\n",
       "    <tr>\n",
       "      <th>1</th>\n",
       "      <td>L002</td>\n",
       "      <td>8</td>\n",
       "      <td>216</td>\n",
       "      <td>1</td>\n",
       "    </tr>\n",
       "    <tr>\n",
       "      <th>2</th>\n",
       "      <td>L003</td>\n",
       "      <td>18</td>\n",
       "      <td>217</td>\n",
       "      <td>1</td>\n",
       "    </tr>\n",
       "    <tr>\n",
       "      <th>3</th>\n",
       "      <td>L004</td>\n",
       "      <td>13</td>\n",
       "      <td>340</td>\n",
       "      <td>1</td>\n",
       "    </tr>\n",
       "    <tr>\n",
       "      <th>4</th>\n",
       "      <td>L005</td>\n",
       "      <td>11</td>\n",
       "      <td>145</td>\n",
       "      <td>1</td>\n",
       "    </tr>\n",
       "    <tr>\n",
       "      <th>5</th>\n",
       "      <td>L006</td>\n",
       "      <td>19</td>\n",
       "      <td>259</td>\n",
       "      <td>2</td>\n",
       "    </tr>\n",
       "    <tr>\n",
       "      <th>6</th>\n",
       "      <td>L007</td>\n",
       "      <td>7</td>\n",
       "      <td>71</td>\n",
       "      <td>26</td>\n",
       "    </tr>\n",
       "    <tr>\n",
       "      <th>7</th>\n",
       "      <td>L008</td>\n",
       "      <td>15</td>\n",
       "      <td>421</td>\n",
       "      <td>2</td>\n",
       "    </tr>\n",
       "    <tr>\n",
       "      <th>8</th>\n",
       "      <td>L009</td>\n",
       "      <td>6</td>\n",
       "      <td>64</td>\n",
       "      <td>1</td>\n",
       "    </tr>\n",
       "    <tr>\n",
       "      <th>9</th>\n",
       "      <td>L010</td>\n",
       "      <td>28</td>\n",
       "      <td>104</td>\n",
       "      <td>9</td>\n",
       "    </tr>\n",
       "    <tr>\n",
       "      <th>10</th>\n",
       "      <td>L011</td>\n",
       "      <td>7</td>\n",
       "      <td>181</td>\n",
       "      <td>29</td>\n",
       "    </tr>\n",
       "    <tr>\n",
       "      <th>11</th>\n",
       "      <td>L012</td>\n",
       "      <td>27</td>\n",
       "      <td>96</td>\n",
       "      <td>1</td>\n",
       "    </tr>\n",
       "    <tr>\n",
       "      <th>12</th>\n",
       "      <td>L013</td>\n",
       "      <td>18</td>\n",
       "      <td>354</td>\n",
       "      <td>2</td>\n",
       "    </tr>\n",
       "    <tr>\n",
       "      <th>13</th>\n",
       "      <td>L014</td>\n",
       "      <td>17</td>\n",
       "      <td>424</td>\n",
       "      <td>1</td>\n",
       "    </tr>\n",
       "    <tr>\n",
       "      <th>14</th>\n",
       "      <td>L015</td>\n",
       "      <td>27</td>\n",
       "      <td>130</td>\n",
       "      <td>1</td>\n",
       "    </tr>\n",
       "    <tr>\n",
       "      <th>15</th>\n",
       "      <td>L016</td>\n",
       "      <td>18</td>\n",
       "      <td>490</td>\n",
       "      <td>21</td>\n",
       "    </tr>\n",
       "    <tr>\n",
       "      <th>16</th>\n",
       "      <td>L017</td>\n",
       "      <td>29</td>\n",
       "      <td>85</td>\n",
       "      <td>2</td>\n",
       "    </tr>\n",
       "    <tr>\n",
       "      <th>17</th>\n",
       "      <td>L018</td>\n",
       "      <td>20</td>\n",
       "      <td>416</td>\n",
       "      <td>1</td>\n",
       "    </tr>\n",
       "    <tr>\n",
       "      <th>18</th>\n",
       "      <td>L019</td>\n",
       "      <td>18</td>\n",
       "      <td>252</td>\n",
       "      <td>22</td>\n",
       "    </tr>\n",
       "    <tr>\n",
       "      <th>19</th>\n",
       "      <td>L020</td>\n",
       "      <td>8</td>\n",
       "      <td>267</td>\n",
       "      <td>1</td>\n",
       "    </tr>\n",
       "  </tbody>\n",
       "</table>\n",
       "</div>"
      ],
      "text/plain": [
       "    MaLo  MatTien  DienTich  LoaiDat\n",
       "0   L001       17       318        1\n",
       "1   L002        8       216        1\n",
       "2   L003       18       217        1\n",
       "3   L004       13       340        1\n",
       "4   L005       11       145        1\n",
       "5   L006       19       259        2\n",
       "6   L007        7        71       26\n",
       "7   L008       15       421        2\n",
       "8   L009        6        64        1\n",
       "9   L010       28       104        9\n",
       "10  L011        7       181       29\n",
       "11  L012       27        96        1\n",
       "12  L013       18       354        2\n",
       "13  L014       17       424        1\n",
       "14  L015       27       130        1\n",
       "15  L016       18       490       21\n",
       "16  L017       29        85        2\n",
       "17  L018       20       416        1\n",
       "18  L019       18       252       22\n",
       "19  L020        8       267        1"
      ]
     },
     "execution_count": 53,
     "metadata": {},
     "output_type": "execute_result"
    }
   ],
   "source": [
    "import pandas as pd \n",
    "df = pd.read_csv(\"B72.csv\")\n",
    "df"
   ]
  },
  {
   "cell_type": "code",
   "execution_count": 2,
   "metadata": {},
   "outputs": [
    {
     "data": {
      "text/html": [
       "<div>\n",
       "<style scoped>\n",
       "    .dataframe tbody tr th:only-of-type {\n",
       "        vertical-align: middle;\n",
       "    }\n",
       "\n",
       "    .dataframe tbody tr th {\n",
       "        vertical-align: top;\n",
       "    }\n",
       "\n",
       "    .dataframe thead th {\n",
       "        text-align: right;\n",
       "    }\n",
       "</style>\n",
       "<table border=\"1\" class=\"dataframe\">\n",
       "  <thead>\n",
       "    <tr style=\"text-align: right;\">\n",
       "      <th></th>\n",
       "      <th>MaLo</th>\n",
       "      <th>MatTien</th>\n",
       "      <th>DienTich</th>\n",
       "      <th>LoaiDat</th>\n",
       "    </tr>\n",
       "  </thead>\n",
       "  <tbody>\n",
       "    <tr>\n",
       "      <th>0</th>\n",
       "      <td>L001</td>\n",
       "      <td>17</td>\n",
       "      <td>318</td>\n",
       "      <td>1</td>\n",
       "    </tr>\n",
       "    <tr>\n",
       "      <th>1</th>\n",
       "      <td>L002</td>\n",
       "      <td>8</td>\n",
       "      <td>216</td>\n",
       "      <td>1</td>\n",
       "    </tr>\n",
       "    <tr>\n",
       "      <th>2</th>\n",
       "      <td>L003</td>\n",
       "      <td>18</td>\n",
       "      <td>217</td>\n",
       "      <td>1</td>\n",
       "    </tr>\n",
       "    <tr>\n",
       "      <th>3</th>\n",
       "      <td>L004</td>\n",
       "      <td>13</td>\n",
       "      <td>340</td>\n",
       "      <td>1</td>\n",
       "    </tr>\n",
       "    <tr>\n",
       "      <th>4</th>\n",
       "      <td>L005</td>\n",
       "      <td>11</td>\n",
       "      <td>145</td>\n",
       "      <td>1</td>\n",
       "    </tr>\n",
       "  </tbody>\n",
       "</table>\n",
       "</div>"
      ],
      "text/plain": [
       "   MaLo  MatTien  DienTich  LoaiDat\n",
       "0  L001       17       318        1\n",
       "1  L002        8       216        1\n",
       "2  L003       18       217        1\n",
       "3  L004       13       340        1\n",
       "4  L005       11       145        1"
      ]
     },
     "execution_count": 2,
     "metadata": {},
     "output_type": "execute_result"
    }
   ],
   "source": [
    "df.head()"
   ]
  },
  {
   "cell_type": "code",
   "execution_count": 4,
   "metadata": {},
   "outputs": [
    {
     "data": {
      "text/html": [
       "<div>\n",
       "<style scoped>\n",
       "    .dataframe tbody tr th:only-of-type {\n",
       "        vertical-align: middle;\n",
       "    }\n",
       "\n",
       "    .dataframe tbody tr th {\n",
       "        vertical-align: top;\n",
       "    }\n",
       "\n",
       "    .dataframe thead th {\n",
       "        text-align: right;\n",
       "    }\n",
       "</style>\n",
       "<table border=\"1\" class=\"dataframe\">\n",
       "  <thead>\n",
       "    <tr style=\"text-align: right;\">\n",
       "      <th></th>\n",
       "      <th>MaLo</th>\n",
       "      <th>MatTien</th>\n",
       "      <th>DienTich</th>\n",
       "      <th>LoaiDat</th>\n",
       "    </tr>\n",
       "  </thead>\n",
       "  <tbody>\n",
       "    <tr>\n",
       "      <th>14</th>\n",
       "      <td>L015</td>\n",
       "      <td>27</td>\n",
       "      <td>130</td>\n",
       "      <td>1</td>\n",
       "    </tr>\n",
       "    <tr>\n",
       "      <th>2</th>\n",
       "      <td>L003</td>\n",
       "      <td>18</td>\n",
       "      <td>217</td>\n",
       "      <td>1</td>\n",
       "    </tr>\n",
       "    <tr>\n",
       "      <th>18</th>\n",
       "      <td>L019</td>\n",
       "      <td>18</td>\n",
       "      <td>252</td>\n",
       "      <td>22</td>\n",
       "    </tr>\n",
       "    <tr>\n",
       "      <th>19</th>\n",
       "      <td>L020</td>\n",
       "      <td>8</td>\n",
       "      <td>267</td>\n",
       "      <td>1</td>\n",
       "    </tr>\n",
       "    <tr>\n",
       "      <th>10</th>\n",
       "      <td>L011</td>\n",
       "      <td>7</td>\n",
       "      <td>181</td>\n",
       "      <td>29</td>\n",
       "    </tr>\n",
       "  </tbody>\n",
       "</table>\n",
       "</div>"
      ],
      "text/plain": [
       "    MaLo  MatTien  DienTich  LoaiDat\n",
       "14  L015       27       130        1\n",
       "2   L003       18       217        1\n",
       "18  L019       18       252       22\n",
       "19  L020        8       267        1\n",
       "10  L011        7       181       29"
      ]
     },
     "execution_count": 4,
     "metadata": {},
     "output_type": "execute_result"
    }
   ],
   "source": [
    "df.sample(5)"
   ]
  },
  {
   "cell_type": "code",
   "execution_count": 6,
   "metadata": {},
   "outputs": [
    {
     "data": {
      "text/plain": [
       "(20, 4)"
      ]
     },
     "execution_count": 6,
     "metadata": {},
     "output_type": "execute_result"
    }
   ],
   "source": [
    "# kich thuoc\n",
    "df.shape"
   ]
  },
  {
   "cell_type": "code",
   "execution_count": 32,
   "metadata": {},
   "outputs": [
    {
     "data": {
      "text/plain": [
       "20"
      ]
     },
     "execution_count": 32,
     "metadata": {},
     "output_type": "execute_result"
    }
   ],
   "source": [
    "# dong \n",
    "df.shape[0]"
   ]
  },
  {
   "cell_type": "code",
   "execution_count": 33,
   "metadata": {},
   "outputs": [
    {
     "data": {
      "text/plain": [
       "6"
      ]
     },
     "execution_count": 33,
     "metadata": {},
     "output_type": "execute_result"
    }
   ],
   "source": [
    "# cot\n",
    "df.shape[1]"
   ]
  },
  {
   "cell_type": "code",
   "execution_count": 46,
   "metadata": {},
   "outputs": [
    {
     "name": "stdout",
     "output_type": "stream",
     "text": [
      "11\n",
      "4\n"
     ]
    }
   ],
   "source": [
    "\n",
    "dat_nong_nghiep = df[df['LoaiDat'] == 1]['LoaiDat'].count()\n",
    "dat_khong_thoi_han = df[df['LoaiDat'] == 2]['LoaiDat'].count()\n",
    "print(dat_nong_nghiep)\n",
    "print(dat_khong_thoi_han)"
   ]
  },
  {
   "cell_type": "code",
   "execution_count": 49,
   "metadata": {},
   "outputs": [
    {
     "data": {
      "image/png": "[encoded data removed]",
      "text/plain": [
       "<Figure size 640x480 with 1 Axes>"
      ]
     },
     "metadata": {},
     "output_type": "display_data"
    }
   ],
   "source": [
    "import matplotlib.pyplot as plt\n",
    "plt.pie([dat_nong_nghiep, dat_khong_thoi_han], labels=['Đất nông nghiệp', 'Đất không thời hạn'])\n",
    "plt.title(\"Biểu đồ thể hiện tỷ lệ đất nông nghiệp và đất không thời hạn\")\n",
    "plt.legend()\n",
    "plt.show()"
   ]
  },
  {
   "cell_type": "markdown",
   "metadata": {},
   "source": [
    "Nhận xét: \n",
    "=> đất nông nghiệp chiến số lượng nhiều hơn so với đất không thời hạn "
   ]
  },
  {
   "cell_type": "code",
   "execution_count": 54,
   "metadata": {},
   "outputs": [
    {
     "name": "stdout",
     "output_type": "stream",
     "text": [
      "Giá trị trung bình của đất lớn hơn 15 năm 248.5\n"
     ]
    }
   ],
   "source": [
    "print(\"Giá trị trung bình của đất lớn hơn 15 năm\", df[df['LoaiDat'] > 15]['DienTich'].mean())"
   ]
  },
  {
   "cell_type": "markdown",
   "metadata": {},
   "source": [
    "Câu 2 (2.0 điểm)\n",
    "Chèn thêm cột TienGiaDat (triệu đồng) với quy tắc:\n",
    "\n",
    "+ Đất nông nghiệp: TienGiaDat = DienTich x 3\n",
    "+ Đất không thời hạn: TienGiaDat = DienTich x (MatTien ^ 2)\n",
    "+ Đất có thời hạn: Ghi \"Không xác định giá trị\"\n"
   ]
  },
  {
   "cell_type": "code",
   "execution_count": 9,
   "metadata": {},
   "outputs": [],
   "source": [
    "def tinhTienGiaDat(row):\n",
    "    if row['LoaiDat'] == 1:\n",
    "        return row['DienTich'] * 3\n",
    "    elif row['LoaiDat'] == 2:\n",
    "        return row['DienTich'] * row['MatTien'] ** 2\n",
    "    else:\n",
    "        return \"Không xác định giá trị\""
   ]
  },
  {
   "cell_type": "code",
   "execution_count": 11,
   "metadata": {},
   "outputs": [
    {
     "name": "stdout",
     "output_type": "stream",
     "text": [
      "    MaLo  MatTien  DienTich  LoaiDat              TienGiaDat\n",
      "0   L001       17       318        1                     954\n",
      "1   L002        8       216        1                     648\n",
      "2   L003       18       217        1                     651\n",
      "3   L004       13       340        1                    1020\n",
      "4   L005       11       145        1                     435\n",
      "5   L006       19       259        2                   93499\n",
      "6   L007        7        71       26  Không xác định giá trị\n",
      "7   L008       15       421        2                   94725\n",
      "8   L009        6        64        1                     192\n",
      "9   L010       28       104        9  Không xác định giá trị\n",
      "10  L011        7       181       29  Không xác định giá trị\n",
      "11  L012       27        96        1                     288\n",
      "12  L013       18       354        2                  114696\n",
      "13  L014       17       424        1                    1272\n",
      "14  L015       27       130        1                     390\n",
      "15  L016       18       490       21  Không xác định giá trị\n",
      "16  L017       29        85        2                   71485\n",
      "17  L018       20       416        1                    1248\n",
      "18  L019       18       252       22  Không xác định giá trị\n",
      "19  L020        8       267        1                     801\n"
     ]
    }
   ],
   "source": [
    "df['TienGiaDat'] = df.apply(tinhTienGiaDat, axis=1)\n",
    "print(df)"
   ]
  },
  {
   "cell_type": "markdown",
   "metadata": {},
   "source": [
    "Câu 3 (2.0 điểm)\n",
    "Chèn thêm cột ChuyenDoi (Chuyển đổi đất) với quy tắc:\n",
    "\n",
    "- Đất nông nghiệp (LoaiDat = 1): ChuyenDoi = DienTich x 18 (triệu đồng)\n",
    "- Các loại đất khác: \"Chưa có công văn\"\n",
    "- Trích lọc ra các lô đất được phép chuyển đổi.\n",
    "\n"
   ]
  },
  {
   "cell_type": "code",
   "execution_count": 12,
   "metadata": {},
   "outputs": [],
   "source": [
    "def cachChuyenDoi(row):\n",
    "    if row['LoaiDat'] == 1:\n",
    "        return row['DienTich'] * 18\n",
    "    else:\n",
    "        return \"Chưa có công văn\""
   ]
  },
  {
   "cell_type": "code",
   "execution_count": 14,
   "metadata": {},
   "outputs": [
    {
     "name": "stdout",
     "output_type": "stream",
     "text": [
      "    MaLo  MatTien  DienTich  LoaiDat              TienGiaDat         ChuyenDoi\n",
      "0   L001       17       318        1                     954              5724\n",
      "1   L002        8       216        1                     648              3888\n",
      "2   L003       18       217        1                     651              3906\n",
      "3   L004       13       340        1                    1020              6120\n",
      "4   L005       11       145        1                     435              2610\n",
      "5   L006       19       259        2                   93499  Chưa có công văn\n",
      "6   L007        7        71       26  Không xác định giá trị  Chưa có công văn\n",
      "7   L008       15       421        2                   94725  Chưa có công văn\n",
      "8   L009        6        64        1                     192              1152\n",
      "9   L010       28       104        9  Không xác định giá trị  Chưa có công văn\n",
      "10  L011        7       181       29  Không xác định giá trị  Chưa có công văn\n",
      "11  L012       27        96        1                     288              1728\n",
      "12  L013       18       354        2                  114696  Chưa có công văn\n",
      "13  L014       17       424        1                    1272              7632\n",
      "14  L015       27       130        1                     390              2340\n",
      "15  L016       18       490       21  Không xác định giá trị  Chưa có công văn\n",
      "16  L017       29        85        2                   71485  Chưa có công văn\n",
      "17  L018       20       416        1                    1248              7488\n",
      "18  L019       18       252       22  Không xác định giá trị  Chưa có công văn\n",
      "19  L020        8       267        1                     801              4806\n",
      "    MaLo  MatTien  DienTich  LoaiDat TienGiaDat ChuyenDoi\n",
      "0   L001       17       318        1        954      5724\n",
      "1   L002        8       216        1        648      3888\n",
      "2   L003       18       217        1        651      3906\n",
      "3   L004       13       340        1       1020      6120\n",
      "4   L005       11       145        1        435      2610\n",
      "8   L009        6        64        1        192      1152\n",
      "11  L012       27        96        1        288      1728\n",
      "13  L014       17       424        1       1272      7632\n",
      "14  L015       27       130        1        390      2340\n",
      "17  L018       20       416        1       1248      7488\n",
      "19  L020        8       267        1        801      4806\n"
     ]
    }
   ],
   "source": [
    "df['ChuyenDoi'] = df.apply(cachChuyenDoi, axis=1)\n",
    "print(df)\n",
    "print(df[df['ChuyenDoi'] != \"Chưa có công văn\"])"
   ]
  },
  {
   "cell_type": "markdown",
   "metadata": {},
   "source": [
    "Câu 4 (3.0 điểm)\n",
    "- a. Giả sử Diện tích có phân phối chuẩn. Hãy xây dựng hàm mật độ xác suất cho Diện tích.\n",
    "\n",
    "- b. Vẽ đồ thị phân phối chuẩn cho Diện tích. Điều chỉnh xlim, ylim phù hợp.\n",
    "\n",
    "- c. Tính tỷ lệ (%) số lô đất có Diện tích dưới 150 m².\n",
    "\n"
   ]
  },
  {
   "cell_type": "code",
   "execution_count": 17,
   "metadata": {},
   "outputs": [],
   "source": [
    "# phân phối tại một điểm thì ta sử dụng hàm pdf \n",
    "# phân phối tại [-vô cùng, điểm cần xét] thì dùng cdf \n",
    "# cả hai hàm cần truyền vào 3 biến (số chỗ điểm cần xét, mean, std)\n",
    "import scipy.stats as stats\n"
   ]
  },
  {
   "cell_type": "code",
   "execution_count": 18,
   "metadata": {},
   "outputs": [],
   "source": [
    "trung_binh = df['DienTich'].mean()\n",
    "do_lech_chuan = df['DienTich'].std()"
   ]
  },
  {
   "cell_type": "code",
   "execution_count": 19,
   "metadata": {},
   "outputs": [],
   "source": [
    "def ham_mat_do_xac_xuat(x, mean, std):\n",
    "    return stats.norm.pdf(x, mean, std)"
   ]
  },
  {
   "cell_type": "code",
   "execution_count": 20,
   "metadata": {},
   "outputs": [],
   "source": [
    "import numpy as np\n",
    "x = np.linspace(df['DienTich'].min(), df['DienTich'].max(), 100)\n",
    "y = ham_mat_do_xac_xuat(x, trung_binh, do_lech_chuan)"
   ]
  },
  {
   "cell_type": "markdown",
   "metadata": {},
   "source": []
  },
  {
   "cell_type": "code",
   "execution_count": 28,
   "metadata": {},
   "outputs": [
    {
     "data": {
      "image/png": "[encoded data removed]",
      "text/plain": [
       "<Figure size 640x480 with 1 Axes>"
      ]
     },
     "metadata": {},
     "output_type": "display_data"
    }
   ],
   "source": [
    "import matplotlib.pyplot as plt\n",
    "plt.plot(x, y, color='red')\n",
    "plt.xlabel(\"Diện tích(m^2)\")\n",
    "plt.ylabel(\"Hàm mật độ\")\n",
    "plt.title(\"Biểu đồ phân phối chuẩn cho diện tích\")\n",
    "plt.xlim(df['DienTich'].min() - 10, df['DienTich'].max() + 10)\n",
    "plt.ylim(0, max(y) * 1.1)\n",
    "plt.show()"
   ]
  },
  {
   "cell_type": "markdown",
   "metadata": {},
   "source": [
    "Nhận xét:\n",
    "- khi một độ đạt tới khoảng 230 nó sẽ đạt cực đại \n",
    "- khi tăng lên nữa thì mật độ có xu hướng càng ngày càng giảm \n",
    "- khi [0-230] thì mật độ có xu hướng tăng"
   ]
  },
  {
   "cell_type": "code",
   "execution_count": 29,
   "metadata": {},
   "outputs": [
    {
     "name": "stdout",
     "output_type": "stream",
     "text": [
      "Tỷ lệ phần trăm số lô dưới 150 m^2 0.24424392519758953\n"
     ]
    }
   ],
   "source": [
    "duoi_150 = stats.norm.cdf(150, trung_binh, do_lech_chuan)\n",
    "print(\"Tỷ lệ phần trăm số lô dưới 150 m^2\", duoi_150)"
   ]
  },
  {
   "cell_type": "code",
   "execution_count": null,
   "metadata": {},
   "outputs": [],
   "source": []
  }
 ],
 "metadata": {
  "kernelspec": {
   "display_name": "Python 3",
   "language": "python",
   "name": "python3"
  },
  "language_info": {
   "codemirror_mode": {
    "name": "ipython",
    "version": 3
   },
   "file_extension": ".py",
   "mimetype": "text/x-python",
   "name": "python",
   "nbconvert_exporter": "python",
   "pygments_lexer": "ipython3",
   "version": "3.12.2"
  }
 },
 "nbformat": 4,
 "nbformat_minor": 2
}
