{
 "cells": [
  {
   "cell_type": "markdown",
   "metadata": {},
   "source": [
    "Cho DataSet lấy từ file B72.csv của các hộ gồm các trường sau:\n",
    "\n",
    "MaLo: Mã lô đất\n",
    "MatTien: Đường mặt tiền (m)\n",
    "DienTich: Diện tích lô đất (m²)\n",
    "LoaiDat: Loại đất\n",
    "1: Đất nông nghiệp\n",
    "2: Đất không thời hạn\n",
    "x (x là số năm): Đất có thời hạn\n",
    "Dùng Jupyter Notebook (hoặc Colab) để trả lời các câu hỏi sau.\n",
    "(Đặt tên file: STT_HoVaTen_MSSV.ipynb và STT_HoVaTen_MSSV.pdf)\n",
    "\n"
   ]
  },
  {
   "cell_type": "markdown",
   "metadata": {},
   "source": [
    "Câu 1 (3.0 điểm)\n",
    "a. Đọc dữ liệu file trên vào DataFrame có tên df và hiển thị:\n",
    "\n",
    "5 dòng đầu tiên\n",
    "5 dòng ngẫu nhiên\n",
    "Kích thước df\n",
    "Số dòng df\n",
    "Số cột df\n",
    "b. Thống kê có bao nhiêu lô đất nông nghiệp và đất không thời hạn. Vẽ biểu đồ pie minh họa.\n",
    "\n",
    "c. Tính giá trị thống kê trung bình (mean) của diện tích cho các lô đất có thời hạn trên 15 năm."
   ]
  },
  {
   "cell_type": "markdown",
   "metadata": {},
   "source": [
    "Câu 2 (2.0 điểm)\n",
    "Chèn thêm cột TienGiaDat (triệu đồng) với quy tắc:\n",
    "\n",
    "Đất nông nghiệp: TienGiaDat = DienTich x 3\n",
    "Đất không thời hạn: TienGiaDat = DienTich x (MatTien ^ 2)\n",
    "Đất có thời hạn: Ghi \"Không xác định giá trị\"\n"
   ]
  },
  {
   "cell_type": "markdown",
   "metadata": {},
   "source": [
    "Câu 3 (2.0 điểm)\n",
    "Chèn thêm cột ChuyenDoi (Chuyển đổi đất) với quy tắc:\n",
    "\n",
    "Đất nông nghiệp (LoaiDat = 1): ChuyenDoi = DienTich x 18 (triệu đồng)\n",
    "Các loại đất khác: \"Chưa có công văn\"\n",
    "Trích lọc ra các lô đất được phép chuyển đổi.\n",
    "\n"
   ]
  },
  {
   "cell_type": "markdown",
   "metadata": {},
   "source": [
    "Câu 4 (3.0 điểm)\n",
    "a. Giả sử Diện tích có phân phối chuẩn. Hãy xây dựng hàm mật độ xác suất cho Diện tích.\n",
    "\n",
    "b. Vẽ đồ thị phân phối chuẩn cho Diện tích. Điều chỉnh xlim, ylim phù hợp.\n",
    "\n",
    "c. Tính tỷ lệ (%) số lô đất có Diện tích dưới 150 m².\n",
    "\n"
   ]
  },
  {
   "cell_type": "markdown",
   "metadata": {},
   "source": []
  }
 ],
 "metadata": {
  "language_info": {
   "name": "python"
  }
 },
 "nbformat": 4,
 "nbformat_minor": 2
}
