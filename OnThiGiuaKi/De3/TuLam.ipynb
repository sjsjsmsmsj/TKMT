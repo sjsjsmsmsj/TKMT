{
 "cells": [
  {
   "cell_type": "markdown",
   "metadata": {},
   "source": [
    "Cho DataSet lấy từ file D89.csv của các hộ gồm các trường sau:\n",
    "\n",
    "- MaThua: Mã thửa đất\n",
    "- ChieuDai: Chiều dài của lô đất (m)\n",
    "- ChieuRong: Chiều rộng của lô đất (m)\n",
    "- LoaiDat: [Loại đất\n",
    "1: Đất thương mại,\n",
    "2: Đất vĩnh viễn,\n",
    "x (x là số năm): Đất có thời hạn]"
   ]
  },
  {
   "cell_type": "markdown",
   "metadata": {},
   "source": [
    "Câu 1 (3.0 điểm)\n",
    "- a. Đọc dữ liệu file trên vào DataFrame có tên df và hiển thị:\n",
    "\n",
    "5 dòng đầu tiên,\n",
    "5 dòng ngẫu nhiên,\n",
    "Kích thước df,\n",
    "Số dòng df,\n",
    "Số cột df\n",
    "- b. Thống kê có bao nhiêu lô đất thương mại và đất vĩnh viễn. Vẽ biểu đồ pie minh họa.\n",
    "\n",
    "- c. Tính giá trị trung bình (mean) của diện tích cho các lô đất có thời hạn trên 20 năm."
   ]
  },
  {
   "cell_type": "markdown",
   "metadata": {},
   "source": [
    "Câu 2 (2.0 điểm)\n",
    "Chèn thêm cột TienDat (triệu đồng) với quy tắc:\n",
    "\n",
    "- Đất thương mại: TienDat = (ChieuDai x ChieuRong) x 5\n",
    "- Đất vĩnh viễn: TienDat = (ChieuDai x ChieuRong) x (ChieuDai + ChieuRong)\n",
    "- Đất có thời hạn: Ghi \"Không xác định giá trị\""
   ]
  },
  {
   "cell_type": "markdown",
   "metadata": {},
   "source": [
    "Câu 3 (2.0 điểm)\n",
    "Chèn thêm cột ChuyenDoi (Chuyển đổi đất) với quy tắc:\n",
    "\n",
    "<li>Đất thương mại (LoaiDat = 1): ChuyenDoi = (ChieuDai x ChieuRong) x 12 (triệu đồng)</li>\n",
    "<li>Các loại đất khác: \"Chưa có công văn\"</li>\n",
    "<li>Trích lọc ra các lô đất được phép chuyển đổi.</li>\n",
    "\n"
   ]
  },
  {
   "cell_type": "markdown",
   "metadata": {},
   "source": [
    "Câu 4 (3.0 điểm)\n",
    "- a. Giả sử Diện tích có phân phối chuẩn. Hãy xây dựng hàm mật độ xác suất cho Diện tích.\n",
    "\n",
    "- b. Vẽ đồ thị phân phối chuẩn cho Diện tích. Điều chỉnh xlim, ylim phù hợp.\n",
    "\n",
    "- c. Tính tỷ lệ (%) số lô đất có Diện tích dưới 200 m²."
   ]
  },
  {
   "cell_type": "markdown",
   "metadata": {},
   "source": []
  }
 ],
 "metadata": {
  "kernelspec": {
   "display_name": "Python 3",
   "language": "python",
   "name": "python3"
  },
  "language_info": {
   "codemirror_mode": {
    "name": "ipython",
    "version": 3
   },
   "file_extension": ".py",
   "mimetype": "text/x-python",
   "name": "python",
   "nbconvert_exporter": "python",
   "pygments_lexer": "ipython3",
   "version": "3.12.2"
  }
 },
 "nbformat": 4,
 "nbformat_minor": 2
}
