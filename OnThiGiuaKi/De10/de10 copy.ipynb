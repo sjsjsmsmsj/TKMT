{
 "cells": [
  {
   "cell_type": "markdown",
   "metadata": {},
   "source": [
    "Phần 1: Phân phối nhị thức (Binomial Distribution)\n",
    "Một nhà sản xuất chip máy tính biết rằng xác suất để một con chip bị lỗi là 0.02. Nhà máy sản xuất 1000 con chip mỗi ngày.\n",
    "\n",
    "(1 điểm) Tạo một biến ngẫu nhiên theo phân phối nhị thức với n = 1000, p = 0.02 và sinh 10,000 mẫu dữ liệu.\n",
    "\n",
    "(1 điểm) Tính toán kỳ vọng và phương sai của phân phối này.\n",
    "\n",
    "(1.5 điểm) Vẽ biểu đồ histogram của dữ liệu đã sinh.\n",
    "\n",
    "(0.5 điểm) Tìm xác suất để có nhiều hơn 25 con chip lỗi trong một ngày."
   ]
  },
  {
   "cell_type": "markdown",
   "metadata": {},
   "source": [
    "Phần 2: Phân phối Poisson (Poisson Distribution)\n",
    "Một trạm xe buýt ghi nhận rằng trung bình có 4 xe buýt đến mỗi giờ.\n",
    "\n",
    "(1 điểm) Mô phỏng một biến ngẫu nhiên có phân phối Poisson với trung bình λ = 4 và sinh 5000 giá trị.\n",
    "\n",
    "(1 điểm) Tính toán kỳ vọng và phương sai của phân phối này.\n",
    "\n",
    "(1.5 điểm) Vẽ biểu đồ histogram thể hiện tần suất số lượng xe buýt đến trong một giờ.\n",
    "\n",
    "(0.5 điểm) Xác suất để trong một giờ có đúng 6 xe buýt đến là bao nhiêu?\n",
    "\n"
   ]
  },
  {
   "cell_type": "markdown",
   "metadata": {},
   "source": [
    "Phần 3: Phân phối chuẩn (Normal Distribution)\n",
    "Chiều cao của sinh viên trong một trường đại học được giả định là tuân theo phân phối chuẩn với trung bình 170 cm và độ lệch chuẩn 8 cm.\n",
    "\n",
    "(1 điểm) Mô phỏng 10,000 giá trị của chiều cao sinh viên theo phân phối chuẩn.\n",
    "\n",
    "(1 điểm) Tính trung bình, phương sai và độ lệch chuẩn của dữ liệu đã sinh.\n",
    "\n",
    "(1.5 điểm) Vẽ biểu đồ histogram của chiều cao sinh viên và chồng lên đó đường cong mật độ xác suất (PDF).\n",
    "\n",
    "(0.5 điểm) Tìm xác suất để một sinh viên có chiều cao lớn hơn 180 cm.\n",
    "\n"
   ]
  },
  {
   "cell_type": "markdown",
   "metadata": {},
   "source": []
  }
 ],
 "metadata": {
  "language_info": {
   "name": "python"
  }
 },
 "nbformat": 4,
 "nbformat_minor": 2
}
