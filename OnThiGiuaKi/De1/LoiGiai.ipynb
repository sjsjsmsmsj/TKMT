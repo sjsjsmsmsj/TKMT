{
 "cells": [
  {
   "cell_type": "markdown",
   "metadata": {},
   "source": [
    "## Cho DataSet lấy từ file C62.csv của các hộ gồm các trường sau:  \n",
    "## MaLo: mã lô đất  MatTien: đường mặt tiền (m) DienTich: diện tích lô đất (m vuông)  LoaiDat: loại đất  \n",
    "## Loại đất: 1/ 2/ x (x là số năm)_ đất nông nghiệp, đất không thời hạn, đất có thời hạn.  \n",
    "\n",
    "Dùng jupyter notebook (hoặc mã nguồn colab) để trả lời các câu hỏi sau.  (Đặt tên file: STT_HoVaTen_MSSV.ipynb và STT_HoVaTen_MSSV.pdf)"
   ]
  },
  {
   "cell_type": "markdown",
   "metadata": {},
   "source": [
    "### Câu 1 (3.0 điểm): \n",
    "##### a. Đọc dữ liệu file trên vào DataFrame có tên df và hiển thị: 5 dòng đầu tiên, 5 dòng ngẫu nhiên, kích thước df, số dòng df, số cột df\n",
    "##### b. Thống kê có bao nhiêu lô đất nông nghiệp và đất đất không thời hạn và vẽ biểu đồ pie minh họa.  \n",
    "##### c. In ra giá trị thống kê trung bình (mean) diện tích cho các lô có thời hạn trên 10 năm  "
   ]
  },
  {
   "cell_type": "markdown",
   "metadata": {},
   "source": [
    "#### solution a: "
   ]
  },
  {
   "cell_type": "code",
   "execution_count": 7,
   "metadata": {},
   "outputs": [],
   "source": [
    "import pandas as pd\n",
    "dat = pd.read_csv(\"C62.csv\")"
   ]
  },
  {
   "cell_type": "code",
   "execution_count": 8,
   "metadata": {},
   "outputs": [
    {
     "data": {
      "text/html": [
       "<div>\n",
       "<style scoped>\n",
       "    .dataframe tbody tr th:only-of-type {\n",
       "        vertical-align: middle;\n",
       "    }\n",
       "\n",
       "    .dataframe tbody tr th {\n",
       "        vertical-align: top;\n",
       "    }\n",
       "\n",
       "    .dataframe thead th {\n",
       "        text-align: right;\n",
       "    }\n",
       "</style>\n",
       "<table border=\"1\" class=\"dataframe\">\n",
       "  <thead>\n",
       "    <tr style=\"text-align: right;\">\n",
       "      <th></th>\n",
       "      <th>MaLo</th>\n",
       "      <th>MatTien</th>\n",
       "      <th>DienTich</th>\n",
       "      <th>LoaiDat</th>\n",
       "    </tr>\n",
       "  </thead>\n",
       "  <tbody>\n",
       "    <tr>\n",
       "      <th>0</th>\n",
       "      <td>Lô1</td>\n",
       "      <td>5</td>\n",
       "      <td>120</td>\n",
       "      <td>1</td>\n",
       "    </tr>\n",
       "    <tr>\n",
       "      <th>1</th>\n",
       "      <td>Lô2</td>\n",
       "      <td>10</td>\n",
       "      <td>200</td>\n",
       "      <td>2</td>\n",
       "    </tr>\n",
       "    <tr>\n",
       "      <th>2</th>\n",
       "      <td>Lô3</td>\n",
       "      <td>7</td>\n",
       "      <td>150</td>\n",
       "      <td>15</td>\n",
       "    </tr>\n",
       "    <tr>\n",
       "      <th>3</th>\n",
       "      <td>Lô4</td>\n",
       "      <td>8</td>\n",
       "      <td>180</td>\n",
       "      <td>1</td>\n",
       "    </tr>\n",
       "    <tr>\n",
       "      <th>4</th>\n",
       "      <td>Lô5</td>\n",
       "      <td>6</td>\n",
       "      <td>250</td>\n",
       "      <td>2</td>\n",
       "    </tr>\n",
       "  </tbody>\n",
       "</table>\n",
       "</div>"
      ],
      "text/plain": [
       "  MaLo  MatTien  DienTich  LoaiDat\n",
       "0  Lô1        5       120        1\n",
       "1  Lô2       10       200        2\n",
       "2  Lô3        7       150       15\n",
       "3  Lô4        8       180        1\n",
       "4  Lô5        6       250        2"
      ]
     },
     "execution_count": 8,
     "metadata": {},
     "output_type": "execute_result"
    }
   ],
   "source": [
    "# Đọc 5 dòng đầu tiên là head , [nếu muốn đọc cuối thì tail(số dòng muốn đọc)], \n",
    "dat.head(5)"
   ]
  },
  {
   "cell_type": "code",
   "execution_count": 9,
   "metadata": {},
   "outputs": [
    {
     "data": {
      "text/html": [
       "<div>\n",
       "<style scoped>\n",
       "    .dataframe tbody tr th:only-of-type {\n",
       "        vertical-align: middle;\n",
       "    }\n",
       "\n",
       "    .dataframe tbody tr th {\n",
       "        vertical-align: top;\n",
       "    }\n",
       "\n",
       "    .dataframe thead th {\n",
       "        text-align: right;\n",
       "    }\n",
       "</style>\n",
       "<table border=\"1\" class=\"dataframe\">\n",
       "  <thead>\n",
       "    <tr style=\"text-align: right;\">\n",
       "      <th></th>\n",
       "      <th>MaLo</th>\n",
       "      <th>MatTien</th>\n",
       "      <th>DienTich</th>\n",
       "      <th>LoaiDat</th>\n",
       "    </tr>\n",
       "  </thead>\n",
       "  <tbody>\n",
       "    <tr>\n",
       "      <th>2</th>\n",
       "      <td>Lô3</td>\n",
       "      <td>7</td>\n",
       "      <td>150</td>\n",
       "      <td>15</td>\n",
       "    </tr>\n",
       "    <tr>\n",
       "      <th>16</th>\n",
       "      <td>Lô17</td>\n",
       "      <td>4</td>\n",
       "      <td>130</td>\n",
       "      <td>35</td>\n",
       "    </tr>\n",
       "    <tr>\n",
       "      <th>7</th>\n",
       "      <td>Lô8</td>\n",
       "      <td>3</td>\n",
       "      <td>90</td>\n",
       "      <td>2</td>\n",
       "    </tr>\n",
       "    <tr>\n",
       "      <th>1</th>\n",
       "      <td>Lô2</td>\n",
       "      <td>10</td>\n",
       "      <td>200</td>\n",
       "      <td>2</td>\n",
       "    </tr>\n",
       "    <tr>\n",
       "      <th>10</th>\n",
       "      <td>Lô11</td>\n",
       "      <td>5</td>\n",
       "      <td>220</td>\n",
       "      <td>2</td>\n",
       "    </tr>\n",
       "  </tbody>\n",
       "</table>\n",
       "</div>"
      ],
      "text/plain": [
       "    MaLo  MatTien  DienTich  LoaiDat\n",
       "2    Lô3        7       150       15\n",
       "16  Lô17        4       130       35\n",
       "7    Lô8        3        90        2\n",
       "1    Lô2       10       200        2\n",
       "10  Lô11        5       220        2"
      ]
     },
     "execution_count": 9,
     "metadata": {},
     "output_type": "execute_result"
    }
   ],
   "source": [
    "dat.sample(5)"
   ]
  },
  {
   "cell_type": "code",
   "execution_count": 10,
   "metadata": {},
   "outputs": [
    {
     "name": "stdout",
     "output_type": "stream",
     "text": [
      "kích thước:  (20, 4)\n"
     ]
    }
   ],
   "source": [
    "# muốn đọc số dòng ,số cột là shape(hay được gọi là kích thước) trong đó [shape[0] là số dòng, shape[1] số cột]\n",
    "print(\"kích thước: \", dat.shape)"
   ]
  },
  {
   "cell_type": "code",
   "execution_count": 11,
   "metadata": {},
   "outputs": [
    {
     "name": "stdout",
     "output_type": "stream",
     "text": [
      "số dòng 20\n"
     ]
    }
   ],
   "source": [
    "print(\"số dòng\", dat.shape[0])"
   ]
  },
  {
   "cell_type": "code",
   "execution_count": 12,
   "metadata": {},
   "outputs": [
    {
     "name": "stdout",
     "output_type": "stream",
     "text": [
      "số cột: 4\n"
     ]
    }
   ],
   "source": [
    "print(\"số cột:\", dat.shape[1])"
   ]
  },
  {
   "cell_type": "markdown",
   "metadata": {},
   "source": [
    "### solution b: "
   ]
  },
  {
   "cell_type": "markdown",
   "metadata": {},
   "source": [
    "#### đầu tiên ta cần nhớ lại là đề cho [1 / 2 / x] lần lượt là [đất nông nghiệp, đất không thời hạn, đất có thời hạn]\n",
    "##### b. Thống kê có bao nhiêu lô đất nông nghiệp và đất đất không thời hạn và vẽ biểu đồ pie minh họa.  \n"
   ]
  },
  {
   "cell_type": "code",
   "execution_count": 13,
   "metadata": {},
   "outputs": [
    {
     "name": "stdout",
     "output_type": "stream",
     "text": [
      "8\n",
      "12\n"
     ]
    }
   ],
   "source": [
    "# lưu trữ các biến để biết đất nông nghiệp và đất không thời hạn\n",
    "dat_nong_nghiep = dat[dat['LoaiDat'] == 1]['LoaiDat'].sum()\n",
    "dat_kth = dat[dat['LoaiDat'] == 2]['LoaiDat'].sum()\n",
    "print(dat_nong_nghiep)\n",
    "print(dat_kth)"
   ]
  },
  {
   "cell_type": "code",
   "execution_count": 14,
   "metadata": {},
   "outputs": [],
   "source": [
    "# muốn vẽ biểu đồ thì trước hết nhớ lại là: \n",
    "# chỉ có biểu đồ [hist, boxplot, pie] là cần truyền vào 1 biến \n",
    "# các cái còn lại thì truyền vào 2 biến \n",
    "\n",
    "# sử dụng thư viện matplotlib.pyplot để vẽ \n",
    "# => bởi vì biểu đồ pie nên ta cần truyền vào 2 biến số"
   ]
  },
  {
   "cell_type": "code",
   "execution_count": 15,
   "metadata": {},
   "outputs": [
    {
     "data": {
      "image/png": "[encoded data removed]",
      "text/plain": [
       "<Figure size 640x480 with 1 Axes>"
      ]
     },
     "metadata": {},
     "output_type": "display_data"
    }
   ],
   "source": [
    "import matplotlib.pyplot as plt\n",
    "plt.pie([dat_nong_nghiep, dat_kth], labels=['đất nông nghiệp', 'đất nông nghiệp'], colors=['blue', 'red'])\n",
    "plt.title(\"Tỷ lệ lô đất nông nghiệp và đất không thời hạn\")\n",
    "plt.show()"
   ]
  },
  {
   "cell_type": "markdown",
   "metadata": {},
   "source": [
    "### solution c"
   ]
  },
  {
   "cell_type": "markdown",
   "metadata": {},
   "source": [
    "##### c. In ra giá trị thống kê trung bình (mean) diện tích cho các lô có thời hạn trên 10 năm  "
   ]
  },
  {
   "cell_type": "code",
   "execution_count": 16,
   "metadata": {},
   "outputs": [
    {
     "name": "stdout",
     "output_type": "stream",
     "text": [
      "25.0\n"
     ]
    }
   ],
   "source": [
    "trung_binh = dat[pd.to_numeric(dat['LoaiDat']) > 10]['LoaiDat'].mean()\n",
    "print(trung_binh)"
   ]
  },
  {
   "cell_type": "markdown",
   "metadata": {},
   "source": [
    "### Câu 2 (2.0 điểm):  Chèn thêm cột Tiền giá trị lô đất (TienGiaDat) (triệu) như sau: \n",
    "- Đất nông nghiệp: giá trị lô đất=Diện tích x 2;\n",
    "- đất ở không xác định thời hạn: giá trị lô đất =Diện tích lô đất x mặt tiền2, \n",
    "- đất có thời hạn: ghi “Không xác định giá trị”; "
   ]
  },
  {
   "cell_type": "code",
   "execution_count": 17,
   "metadata": {},
   "outputs": [],
   "source": [
    "# dùng để đổi kiểu dữ liệu và string để so sánh và (cắt đi những thành phần thừa khoảng trắng .str.strip() nếu cần )\n",
    "dat['LoaiDat'] = dat['LoaiDat'].astype(str)\n",
    "def tinh_gia_tri_lo(row):\n",
    "    if row[\"LoaiDat\"] == \"1\":\n",
    "        return row[\"DienTich\"] * 2\n",
    "    elif row[\"LoaiDat\"] == \"2\":\n",
    "        return row[\"DienTich\"] * (row[\"MatTien\"] ** 2)\n",
    "    else:\n",
    "        return \"Không xác định\"\n",
    "\n",
    "dat[\"TienGiaDat\"] = dat.apply(tinh_gia_tri_lo, axis=1)"
   ]
  },
  {
   "cell_type": "code",
   "execution_count": 18,
   "metadata": {},
   "outputs": [
    {
     "data": {
      "text/html": [
       "<div>\n",
       "<style scoped>\n",
       "    .dataframe tbody tr th:only-of-type {\n",
       "        vertical-align: middle;\n",
       "    }\n",
       "\n",
       "    .dataframe tbody tr th {\n",
       "        vertical-align: top;\n",
       "    }\n",
       "\n",
       "    .dataframe thead th {\n",
       "        text-align: right;\n",
       "    }\n",
       "</style>\n",
       "<table border=\"1\" class=\"dataframe\">\n",
       "  <thead>\n",
       "    <tr style=\"text-align: right;\">\n",
       "      <th></th>\n",
       "      <th>MaLo</th>\n",
       "      <th>MatTien</th>\n",
       "      <th>DienTich</th>\n",
       "      <th>LoaiDat</th>\n",
       "      <th>TienGiaDat</th>\n",
       "    </tr>\n",
       "  </thead>\n",
       "  <tbody>\n",
       "    <tr>\n",
       "      <th>0</th>\n",
       "      <td>Lô1</td>\n",
       "      <td>5</td>\n",
       "      <td>120</td>\n",
       "      <td>1</td>\n",
       "      <td>240</td>\n",
       "    </tr>\n",
       "    <tr>\n",
       "      <th>1</th>\n",
       "      <td>Lô2</td>\n",
       "      <td>10</td>\n",
       "      <td>200</td>\n",
       "      <td>2</td>\n",
       "      <td>20000</td>\n",
       "    </tr>\n",
       "    <tr>\n",
       "      <th>2</th>\n",
       "      <td>Lô3</td>\n",
       "      <td>7</td>\n",
       "      <td>150</td>\n",
       "      <td>15</td>\n",
       "      <td>Không xác định</td>\n",
       "    </tr>\n",
       "    <tr>\n",
       "      <th>3</th>\n",
       "      <td>Lô4</td>\n",
       "      <td>8</td>\n",
       "      <td>180</td>\n",
       "      <td>1</td>\n",
       "      <td>360</td>\n",
       "    </tr>\n",
       "    <tr>\n",
       "      <th>4</th>\n",
       "      <td>Lô5</td>\n",
       "      <td>6</td>\n",
       "      <td>250</td>\n",
       "      <td>2</td>\n",
       "      <td>9000</td>\n",
       "    </tr>\n",
       "    <tr>\n",
       "      <th>5</th>\n",
       "      <td>Lô6</td>\n",
       "      <td>9</td>\n",
       "      <td>300</td>\n",
       "      <td>20</td>\n",
       "      <td>Không xác định</td>\n",
       "    </tr>\n",
       "    <tr>\n",
       "      <th>6</th>\n",
       "      <td>Lô7</td>\n",
       "      <td>4</td>\n",
       "      <td>100</td>\n",
       "      <td>1</td>\n",
       "      <td>200</td>\n",
       "    </tr>\n",
       "    <tr>\n",
       "      <th>7</th>\n",
       "      <td>Lô8</td>\n",
       "      <td>3</td>\n",
       "      <td>90</td>\n",
       "      <td>2</td>\n",
       "      <td>810</td>\n",
       "    </tr>\n",
       "    <tr>\n",
       "      <th>8</th>\n",
       "      <td>Lô9</td>\n",
       "      <td>12</td>\n",
       "      <td>400</td>\n",
       "      <td>1</td>\n",
       "      <td>800</td>\n",
       "    </tr>\n",
       "    <tr>\n",
       "      <th>9</th>\n",
       "      <td>Lô10</td>\n",
       "      <td>11</td>\n",
       "      <td>350</td>\n",
       "      <td>25</td>\n",
       "      <td>Không xác định</td>\n",
       "    </tr>\n",
       "    <tr>\n",
       "      <th>10</th>\n",
       "      <td>Lô11</td>\n",
       "      <td>5</td>\n",
       "      <td>220</td>\n",
       "      <td>2</td>\n",
       "      <td>5500</td>\n",
       "    </tr>\n",
       "    <tr>\n",
       "      <th>11</th>\n",
       "      <td>Lô12</td>\n",
       "      <td>6</td>\n",
       "      <td>270</td>\n",
       "      <td>30</td>\n",
       "      <td>Không xác định</td>\n",
       "    </tr>\n",
       "    <tr>\n",
       "      <th>12</th>\n",
       "      <td>Lô13</td>\n",
       "      <td>7</td>\n",
       "      <td>190</td>\n",
       "      <td>1</td>\n",
       "      <td>380</td>\n",
       "    </tr>\n",
       "    <tr>\n",
       "      <th>13</th>\n",
       "      <td>Lô14</td>\n",
       "      <td>9</td>\n",
       "      <td>210</td>\n",
       "      <td>2</td>\n",
       "      <td>17010</td>\n",
       "    </tr>\n",
       "    <tr>\n",
       "      <th>14</th>\n",
       "      <td>Lô15</td>\n",
       "      <td>8</td>\n",
       "      <td>230</td>\n",
       "      <td>10</td>\n",
       "      <td>Không xác định</td>\n",
       "    </tr>\n",
       "    <tr>\n",
       "      <th>15</th>\n",
       "      <td>Lô16</td>\n",
       "      <td>10</td>\n",
       "      <td>280</td>\n",
       "      <td>1</td>\n",
       "      <td>560</td>\n",
       "    </tr>\n",
       "    <tr>\n",
       "      <th>16</th>\n",
       "      <td>Lô17</td>\n",
       "      <td>4</td>\n",
       "      <td>130</td>\n",
       "      <td>35</td>\n",
       "      <td>Không xác định</td>\n",
       "    </tr>\n",
       "    <tr>\n",
       "      <th>17</th>\n",
       "      <td>Lô18</td>\n",
       "      <td>6</td>\n",
       "      <td>170</td>\n",
       "      <td>1</td>\n",
       "      <td>340</td>\n",
       "    </tr>\n",
       "    <tr>\n",
       "      <th>18</th>\n",
       "      <td>Lô19</td>\n",
       "      <td>7</td>\n",
       "      <td>140</td>\n",
       "      <td>2</td>\n",
       "      <td>6860</td>\n",
       "    </tr>\n",
       "    <tr>\n",
       "      <th>19</th>\n",
       "      <td>Lô20</td>\n",
       "      <td>8</td>\n",
       "      <td>160</td>\n",
       "      <td>1</td>\n",
       "      <td>320</td>\n",
       "    </tr>\n",
       "  </tbody>\n",
       "</table>\n",
       "</div>"
      ],
      "text/plain": [
       "    MaLo  MatTien  DienTich LoaiDat      TienGiaDat\n",
       "0    Lô1        5       120       1             240\n",
       "1    Lô2       10       200       2           20000\n",
       "2    Lô3        7       150      15  Không xác định\n",
       "3    Lô4        8       180       1             360\n",
       "4    Lô5        6       250       2            9000\n",
       "5    Lô6        9       300      20  Không xác định\n",
       "6    Lô7        4       100       1             200\n",
       "7    Lô8        3        90       2             810\n",
       "8    Lô9       12       400       1             800\n",
       "9   Lô10       11       350      25  Không xác định\n",
       "10  Lô11        5       220       2            5500\n",
       "11  Lô12        6       270      30  Không xác định\n",
       "12  Lô13        7       190       1             380\n",
       "13  Lô14        9       210       2           17010\n",
       "14  Lô15        8       230      10  Không xác định\n",
       "15  Lô16       10       280       1             560\n",
       "16  Lô17        4       130      35  Không xác định\n",
       "17  Lô18        6       170       1             340\n",
       "18  Lô19        7       140       2            6860\n",
       "19  Lô20        8       160       1             320"
      ]
     },
     "execution_count": 18,
     "metadata": {},
     "output_type": "execute_result"
    }
   ],
   "source": [
    "dat"
   ]
  },
  {
   "cell_type": "markdown",
   "metadata": {},
   "source": [
    "### 3. \n",
    "- Chèn thêm cột tiền Chuyển đổi đất (ChuyenDoi)= Diện tích x 15 (triệu).\n",
    "- Trong đó chỉ chuyển đỗi đất nông nghiệp (LoaiDat=1), các loại đất khác thì ghi \"Chưa có công văn\"  \n",
    "- Hãy trích lọc ra các lô đất được phép chuyển đổi."
   ]
  },
  {
   "cell_type": "code",
   "execution_count": 19,
   "metadata": {},
   "outputs": [],
   "source": [
    "def ChuyenDoiDat(row):\n",
    "    if row['LoaiDat'] == \"1\":\n",
    "        return row['DienTich'] * 15 \n",
    "    else:\n",
    "        return \"Chưa có công văn\"\n",
    "dat['ChuyenDoi'] = dat.apply(ChuyenDoiDat, axis=1)"
   ]
  },
  {
   "cell_type": "code",
   "execution_count": 20,
   "metadata": {},
   "outputs": [
    {
     "data": {
      "text/html": [
       "<div>\n",
       "<style scoped>\n",
       "    .dataframe tbody tr th:only-of-type {\n",
       "        vertical-align: middle;\n",
       "    }\n",
       "\n",
       "    .dataframe tbody tr th {\n",
       "        vertical-align: top;\n",
       "    }\n",
       "\n",
       "    .dataframe thead th {\n",
       "        text-align: right;\n",
       "    }\n",
       "</style>\n",
       "<table border=\"1\" class=\"dataframe\">\n",
       "  <thead>\n",
       "    <tr style=\"text-align: right;\">\n",
       "      <th></th>\n",
       "      <th>MaLo</th>\n",
       "      <th>MatTien</th>\n",
       "      <th>DienTich</th>\n",
       "      <th>LoaiDat</th>\n",
       "      <th>TienGiaDat</th>\n",
       "      <th>ChuyenDoi</th>\n",
       "    </tr>\n",
       "  </thead>\n",
       "  <tbody>\n",
       "    <tr>\n",
       "      <th>0</th>\n",
       "      <td>Lô1</td>\n",
       "      <td>5</td>\n",
       "      <td>120</td>\n",
       "      <td>1</td>\n",
       "      <td>240</td>\n",
       "      <td>1800</td>\n",
       "    </tr>\n",
       "    <tr>\n",
       "      <th>1</th>\n",
       "      <td>Lô2</td>\n",
       "      <td>10</td>\n",
       "      <td>200</td>\n",
       "      <td>2</td>\n",
       "      <td>20000</td>\n",
       "      <td>Chưa có công văn</td>\n",
       "    </tr>\n",
       "    <tr>\n",
       "      <th>2</th>\n",
       "      <td>Lô3</td>\n",
       "      <td>7</td>\n",
       "      <td>150</td>\n",
       "      <td>15</td>\n",
       "      <td>Không xác định</td>\n",
       "      <td>Chưa có công văn</td>\n",
       "    </tr>\n",
       "    <tr>\n",
       "      <th>3</th>\n",
       "      <td>Lô4</td>\n",
       "      <td>8</td>\n",
       "      <td>180</td>\n",
       "      <td>1</td>\n",
       "      <td>360</td>\n",
       "      <td>2700</td>\n",
       "    </tr>\n",
       "    <tr>\n",
       "      <th>4</th>\n",
       "      <td>Lô5</td>\n",
       "      <td>6</td>\n",
       "      <td>250</td>\n",
       "      <td>2</td>\n",
       "      <td>9000</td>\n",
       "      <td>Chưa có công văn</td>\n",
       "    </tr>\n",
       "    <tr>\n",
       "      <th>5</th>\n",
       "      <td>Lô6</td>\n",
       "      <td>9</td>\n",
       "      <td>300</td>\n",
       "      <td>20</td>\n",
       "      <td>Không xác định</td>\n",
       "      <td>Chưa có công văn</td>\n",
       "    </tr>\n",
       "    <tr>\n",
       "      <th>6</th>\n",
       "      <td>Lô7</td>\n",
       "      <td>4</td>\n",
       "      <td>100</td>\n",
       "      <td>1</td>\n",
       "      <td>200</td>\n",
       "      <td>1500</td>\n",
       "    </tr>\n",
       "    <tr>\n",
       "      <th>7</th>\n",
       "      <td>Lô8</td>\n",
       "      <td>3</td>\n",
       "      <td>90</td>\n",
       "      <td>2</td>\n",
       "      <td>810</td>\n",
       "      <td>Chưa có công văn</td>\n",
       "    </tr>\n",
       "    <tr>\n",
       "      <th>8</th>\n",
       "      <td>Lô9</td>\n",
       "      <td>12</td>\n",
       "      <td>400</td>\n",
       "      <td>1</td>\n",
       "      <td>800</td>\n",
       "      <td>6000</td>\n",
       "    </tr>\n",
       "    <tr>\n",
       "      <th>9</th>\n",
       "      <td>Lô10</td>\n",
       "      <td>11</td>\n",
       "      <td>350</td>\n",
       "      <td>25</td>\n",
       "      <td>Không xác định</td>\n",
       "      <td>Chưa có công văn</td>\n",
       "    </tr>\n",
       "    <tr>\n",
       "      <th>10</th>\n",
       "      <td>Lô11</td>\n",
       "      <td>5</td>\n",
       "      <td>220</td>\n",
       "      <td>2</td>\n",
       "      <td>5500</td>\n",
       "      <td>Chưa có công văn</td>\n",
       "    </tr>\n",
       "    <tr>\n",
       "      <th>11</th>\n",
       "      <td>Lô12</td>\n",
       "      <td>6</td>\n",
       "      <td>270</td>\n",
       "      <td>30</td>\n",
       "      <td>Không xác định</td>\n",
       "      <td>Chưa có công văn</td>\n",
       "    </tr>\n",
       "    <tr>\n",
       "      <th>12</th>\n",
       "      <td>Lô13</td>\n",
       "      <td>7</td>\n",
       "      <td>190</td>\n",
       "      <td>1</td>\n",
       "      <td>380</td>\n",
       "      <td>2850</td>\n",
       "    </tr>\n",
       "    <tr>\n",
       "      <th>13</th>\n",
       "      <td>Lô14</td>\n",
       "      <td>9</td>\n",
       "      <td>210</td>\n",
       "      <td>2</td>\n",
       "      <td>17010</td>\n",
       "      <td>Chưa có công văn</td>\n",
       "    </tr>\n",
       "    <tr>\n",
       "      <th>14</th>\n",
       "      <td>Lô15</td>\n",
       "      <td>8</td>\n",
       "      <td>230</td>\n",
       "      <td>10</td>\n",
       "      <td>Không xác định</td>\n",
       "      <td>Chưa có công văn</td>\n",
       "    </tr>\n",
       "    <tr>\n",
       "      <th>15</th>\n",
       "      <td>Lô16</td>\n",
       "      <td>10</td>\n",
       "      <td>280</td>\n",
       "      <td>1</td>\n",
       "      <td>560</td>\n",
       "      <td>4200</td>\n",
       "    </tr>\n",
       "    <tr>\n",
       "      <th>16</th>\n",
       "      <td>Lô17</td>\n",
       "      <td>4</td>\n",
       "      <td>130</td>\n",
       "      <td>35</td>\n",
       "      <td>Không xác định</td>\n",
       "      <td>Chưa có công văn</td>\n",
       "    </tr>\n",
       "    <tr>\n",
       "      <th>17</th>\n",
       "      <td>Lô18</td>\n",
       "      <td>6</td>\n",
       "      <td>170</td>\n",
       "      <td>1</td>\n",
       "      <td>340</td>\n",
       "      <td>2550</td>\n",
       "    </tr>\n",
       "    <tr>\n",
       "      <th>18</th>\n",
       "      <td>Lô19</td>\n",
       "      <td>7</td>\n",
       "      <td>140</td>\n",
       "      <td>2</td>\n",
       "      <td>6860</td>\n",
       "      <td>Chưa có công văn</td>\n",
       "    </tr>\n",
       "    <tr>\n",
       "      <th>19</th>\n",
       "      <td>Lô20</td>\n",
       "      <td>8</td>\n",
       "      <td>160</td>\n",
       "      <td>1</td>\n",
       "      <td>320</td>\n",
       "      <td>2400</td>\n",
       "    </tr>\n",
       "  </tbody>\n",
       "</table>\n",
       "</div>"
      ],
      "text/plain": [
       "    MaLo  MatTien  DienTich LoaiDat      TienGiaDat         ChuyenDoi\n",
       "0    Lô1        5       120       1             240              1800\n",
       "1    Lô2       10       200       2           20000  Chưa có công văn\n",
       "2    Lô3        7       150      15  Không xác định  Chưa có công văn\n",
       "3    Lô4        8       180       1             360              2700\n",
       "4    Lô5        6       250       2            9000  Chưa có công văn\n",
       "5    Lô6        9       300      20  Không xác định  Chưa có công văn\n",
       "6    Lô7        4       100       1             200              1500\n",
       "7    Lô8        3        90       2             810  Chưa có công văn\n",
       "8    Lô9       12       400       1             800              6000\n",
       "9   Lô10       11       350      25  Không xác định  Chưa có công văn\n",
       "10  Lô11        5       220       2            5500  Chưa có công văn\n",
       "11  Lô12        6       270      30  Không xác định  Chưa có công văn\n",
       "12  Lô13        7       190       1             380              2850\n",
       "13  Lô14        9       210       2           17010  Chưa có công văn\n",
       "14  Lô15        8       230      10  Không xác định  Chưa có công văn\n",
       "15  Lô16       10       280       1             560              4200\n",
       "16  Lô17        4       130      35  Không xác định  Chưa có công văn\n",
       "17  Lô18        6       170       1             340              2550\n",
       "18  Lô19        7       140       2            6860  Chưa có công văn\n",
       "19  Lô20        8       160       1             320              2400"
      ]
     },
     "execution_count": 20,
     "metadata": {},
     "output_type": "execute_result"
    }
   ],
   "source": [
    "dat"
   ]
  },
  {
   "cell_type": "markdown",
   "metadata": {},
   "source": [
    "## Câu 4 (3.0 điểm): \n",
    "- a. Giả sử Diện tích có phân phối chuẩn. Hãy xây dựng hàm mật độ xác suất Diện tích \n",
    "- b. Vẽ đồ thị phân phối chuẩn cho Diện tích. Tinh chỉnh xlim, ylim cho đồ thị phù hợp \n",
    "- c. Cho biết bao nhiêu phần trăm lô đất có Diện tích dưới 120 (m vuông). bạn tạo cho tôi tập dữ liệu để tôi thử sức. bạn giải giúp tôi câu 1"
   ]
  },
  {
   "cell_type": "code",
   "execution_count": 23,
   "metadata": {},
   "outputs": [
    {
     "name": "stdout",
     "output_type": "stream",
     "text": [
      "<class 'pandas.core.series.Series'>\n"
     ]
    }
   ],
   "source": [
    "import scipy.stats as stats\n",
    "import numpy as np\n"
   ]
  },
  {
   "cell_type": "code",
   "execution_count": 25,
   "metadata": {},
   "outputs": [],
   "source": [
    "# mean : là giá trị trung bình, std: là độ lệch chuẩn\n",
    "def ham_mat_do_xac_xuat(x, mean, std):\n",
    "    return stats.norm.pdf(x, mean, std)\n",
    "\n",
    "# ta cần tìm giá trị trung bình \n",
    "gia_tri_trung_binh = dat['DienTich'].mean()\n",
    "\n",
    "# ta cần tìm độ lệch chuẩn\n",
    "do_lech_chuan = dat['DienTich'].std()\n",
    "\n",
    "# theo hàm mật độ xác xuất ta thấy ta cần xét x cho x bất kỳ nên x chạy từ diện tích nhỏ nhất đến diện tích lớn nhất\n",
    "x = np.linspace(dat['DienTich'].min(), dat['DienTich'].max(), 100) # linspace để chia khoảng [min, max] thành 100 khoảng \n",
    "y = ham_mat_do_xac_xuat(x, gia_tri_trung_binh, do_lech_chuan)\n"
   ]
  },
  {
   "cell_type": "code",
   "execution_count": 34,
   "metadata": {},
   "outputs": [
    {
     "data": {
      "image/png": "[encoded data removed]",
      "text/plain": [
       "<Figure size 640x480 with 1 Axes>"
      ]
     },
     "metadata": {},
     "output_type": "display_data"
    }
   ],
   "source": [
    "plt.plot(x, y, label=\"Phân phối chuẩn\", color=\"pink\")\n",
    "plt.xlabel(\"Diện tích (m2)\")\n",
    "plt.ylabel(\"Hàm mật độ xác xuất\")\n",
    "\n",
    "plt.xlim(dat[\"DienTich\"].min() - 10, dat[\"DienTich\"].max() + 10) \n",
    "plt.ylim(0, max(y) * 1.1)  \n",
    "\n",
    "plt.title(\"Đồ thị phân phối chuẩn của Diện Tích\")\n",
    "plt.legend() # cái mà để hiện cái label trên ra bảng\n",
    "plt.show()"
   ]
  },
  {
   "cell_type": "markdown",
   "metadata": {},
   "source": []
  },
  {
   "cell_type": "code",
   "execution_count": 36,
   "metadata": {},
   "outputs": [
    {
     "name": "stdout",
     "output_type": "stream",
     "text": [
      "\n",
      "Phần trăm lô đất có diện tích dưới 120m²: 14.57%\n"
     ]
    }
   ],
   "source": [
    "prob_less_120 = stats.norm.cdf(120, gia_tri_trung_binh, do_lech_chuan) * 100\n",
    "print(f\"\\nPhần trăm lô đất có diện tích dưới 120m²: {prob_less_120:.2f}%\")\n"
   ]
  },
  {
   "cell_type": "code",
   "execution_count": null,
   "metadata": {},
   "outputs": [],
   "source": []
  }
 ],
 "metadata": {
  "kernelspec": {
   "display_name": "Python 3",
   "language": "python",
   "name": "python3"
  },
  "language_info": {
   "codemirror_mode": {
    "name": "ipython",
    "version": 3
   },
   "file_extension": ".py",
   "mimetype": "text/x-python",
   "name": "python",
   "nbconvert_exporter": "python",
   "pygments_lexer": "ipython3",
   "version": "3.12.2"
  }
 },
 "nbformat": 4,
 "nbformat_minor": 2
}
