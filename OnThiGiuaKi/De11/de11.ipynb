{
 "cells": [
  {
   "cell_type": "markdown",
   "metadata": {},
   "source": [
    "- Phần 1: Mô tả dữ liệu (2 điểm)\n",
    "Một công ty thu thập dữ liệu về số giờ học tập của sinh viên mỗi tuần và lưu trữ trong tập dữ liệu study_hours.csv, bao gồm:\n",
    "\n",
    "- StudentID: Mã sinh viên\n",
    "\n",
    "- Gender: Giới tính (Nam, Nữ)\n",
    "\n",
    "- StudyHours: Số giờ học tập trong một tuần\n",
    "\n",
    "- Câu hỏi:\n",
    "\n",
    "- Đọc dữ liệu từ tệp study_hours.csv và hiển thị 5 dòng đầu tiên.\n",
    "\n",
    "- Kiểm tra dữ liệu bị thiếu (nếu có). Nếu có, đề xuất cách xử lý.\n",
    "\n",
    "- Tính trung bình, trung vị, độ lệch chuẩn của số giờ học tập.\n",
    "\n",
    "- So sánh trung bình số giờ học giữa nam và nữ."
   ]
  },
  {
   "cell_type": "code",
   "execution_count": 1,
   "metadata": {},
   "outputs": [],
   "source": [
    "from scipy.stats import binom, poisson, norm \n",
    "import numpy as np \n",
    "import pandas as pd \n",
    "import matplotlib.pyplot as plt "
   ]
  },
  {
   "cell_type": "code",
   "execution_count": 2,
   "metadata": {},
   "outputs": [
    {
     "data": {
      "text/html": [
       "<div>\n",
       "<style scoped>\n",
       "    .dataframe tbody tr th:only-of-type {\n",
       "        vertical-align: middle;\n",
       "    }\n",
       "\n",
       "    .dataframe tbody tr th {\n",
       "        vertical-align: top;\n",
       "    }\n",
       "\n",
       "    .dataframe thead th {\n",
       "        text-align: right;\n",
       "    }\n",
       "</style>\n",
       "<table border=\"1\" class=\"dataframe\">\n",
       "  <thead>\n",
       "    <tr style=\"text-align: right;\">\n",
       "      <th></th>\n",
       "      <th>StudentID</th>\n",
       "      <th>Gender</th>\n",
       "      <th>StudyHours</th>\n",
       "    </tr>\n",
       "  </thead>\n",
       "  <tbody>\n",
       "    <tr>\n",
       "      <th>0</th>\n",
       "      <td>SV001</td>\n",
       "      <td>Nam</td>\n",
       "      <td>15.0</td>\n",
       "    </tr>\n",
       "    <tr>\n",
       "      <th>1</th>\n",
       "      <td>SV002</td>\n",
       "      <td>Nữ</td>\n",
       "      <td>12.7</td>\n",
       "    </tr>\n",
       "    <tr>\n",
       "      <th>2</th>\n",
       "      <td>SV003</td>\n",
       "      <td>Nam</td>\n",
       "      <td>11.5</td>\n",
       "    </tr>\n",
       "    <tr>\n",
       "      <th>3</th>\n",
       "      <td>SV004</td>\n",
       "      <td>Nam</td>\n",
       "      <td>10.8</td>\n",
       "    </tr>\n",
       "    <tr>\n",
       "      <th>4</th>\n",
       "      <td>SV005</td>\n",
       "      <td>Nam</td>\n",
       "      <td>6.1</td>\n",
       "    </tr>\n",
       "  </tbody>\n",
       "</table>\n",
       "</div>"
      ],
      "text/plain": [
       "  StudentID Gender  StudyHours\n",
       "0     SV001    Nam        15.0\n",
       "1     SV002     Nữ        12.7\n",
       "2     SV003    Nam        11.5\n",
       "3     SV004    Nam        10.8\n",
       "4     SV005    Nam         6.1"
      ]
     },
     "execution_count": 2,
     "metadata": {},
     "output_type": "execute_result"
    }
   ],
   "source": [
    "df = pd.read_csv(\"study_hours.csv\")\n",
    "df.head()"
   ]
  },
  {
   "cell_type": "code",
   "execution_count": 3,
   "metadata": {},
   "outputs": [
    {
     "name": "stdout",
     "output_type": "stream",
     "text": [
      "<class 'pandas.core.frame.DataFrame'>\n",
      "RangeIndex: 100 entries, 0 to 99\n",
      "Data columns (total 3 columns):\n",
      " #   Column      Non-Null Count  Dtype  \n",
      "---  ------      --------------  -----  \n",
      " 0   StudentID   100 non-null    object \n",
      " 1   Gender      100 non-null    object \n",
      " 2   StudyHours  100 non-null    float64\n",
      "dtypes: float64(1), object(2)\n",
      "memory usage: 2.5+ KB\n"
     ]
    }
   ],
   "source": [
    "df.info()"
   ]
  },
  {
   "cell_type": "code",
   "execution_count": 4,
   "metadata": {},
   "outputs": [
    {
     "name": "stdout",
     "output_type": "stream",
     "text": [
      "Trung bình:  11.879000000000001\n",
      "Trung vị:  11.9\n",
      "Độ lệch chuẩn:  3.760568810403258\n"
     ]
    }
   ],
   "source": [
    "trung_binh = df['StudyHours'].mean()\n",
    "trung_vi = df['StudyHours'].median()\n",
    "do_lech_chuan = df['StudyHours'].std()\n",
    "print(\"Trung bình: \",trung_binh)\n",
    "print(\"Trung vị: \",trung_vi)\n",
    "print(\"Độ lệch chuẩn: \",do_lech_chuan)"
   ]
  },
  {
   "cell_type": "code",
   "execution_count": 5,
   "metadata": {},
   "outputs": [
    {
     "name": "stdout",
     "output_type": "stream",
     "text": [
      "Số giờ học của nam:  12.236363636363638\n",
      "Số giờ học trung bình của nữ:  11.598214285714286\n"
     ]
    }
   ],
   "source": [
    "nam = df[df['Gender'] == 'Nam']\n",
    "sghtb_nam = nam['StudyHours'].mean()\n",
    "\n",
    "nu = df[df['Gender'] == 'Nữ']\n",
    "sghtb_nu = nu['StudyHours'].mean()\n",
    "\n",
    "print(\"Số giờ học của nam: \", sghtb_nam)\n",
    "print(\"Số giờ học trung bình của nữ: \", sghtb_nu)\n"
   ]
  },
  {
   "cell_type": "markdown",
   "metadata": {},
   "source": [
    "- Phần 2: Trực quan hóa dữ liệu (2 điểm)\n",
    "Dùng thư viện matplotlib để vẽ các biểu đồ trực quan hóa dữ liệu.\n",
    "\n",
    "- Câu hỏi:\n",
    "\n",
    "- Vẽ biểu đồ histogram cho cột StudyHours, nhận xét phân phối dữ liệu.\n",
    "\n",
    "- Vẽ boxplot so sánh số giờ học tập giữa nam và nữ.\n",
    "\n",
    "- Vẽ biểu đồ đường thể hiện số lượng sinh viên theo từng nhóm số giờ học tập (chia thành các khoảng [0-5], [6-10], [11-15], [16-20], [>20])."
   ]
  },
  {
   "cell_type": "code",
   "execution_count": 6,
   "metadata": {},
   "outputs": [
    {
     "data": {
      "image/png": "[encoded data removed]",
      "text/plain": [
       "<Figure size 640x480 with 1 Axes>"
      ]
     },
     "metadata": {},
     "output_type": "display_data"
    }
   ],
   "source": [
    "plt.hist(df['StudyHours'])\n",
    "plt.title(\"Biểu đồ histogram cho cột StudyHours\")\n",
    "plt.show()"
   ]
  },
  {
   "cell_type": "markdown",
   "metadata": {},
   "source": [
    "Nhận xét: \n",
    "- Số giờ học nhiều nhất là 12.5 \n",
    "- Tập trung ở khoảng [~6-17.5]"
   ]
  },
  {
   "cell_type": "code",
   "execution_count": 8,
   "metadata": {},
   "outputs": [
    {
     "data": {
      "image/png": "[encoded data removed]",
      "text/plain": [
       "<Figure size 640x480 with 1 Axes>"
      ]
     },
     "metadata": {},
     "output_type": "display_data"
    }
   ],
   "source": [
    "nam = df[df['Gender'] == 'Nam']\n",
    "sgh_nam = nam['StudyHours']\n",
    "\n",
    "nu = df[df['Gender'] == 'Nữ']\n",
    "sgh_nu = nu['StudyHours']\n",
    "\n",
    "plt.boxplot([sgh_nam, sgh_nu])\n",
    "plt.title(\"Biểu đồ so sánh số giờ học giữa nam và nữ\")\n",
    "plt.show()"
   ]
  },
  {
   "cell_type": "code",
   "execution_count": 19,
   "metadata": {},
   "outputs": [
    {
     "data": {
      "image/png": "[encoded data removed]",
      "text/plain": [
       "<Figure size 640x480 with 1 Axes>"
      ]
     },
     "metadata": {},
     "output_type": "display_data"
    }
   ],
   "source": [
    "khoang_1 = df[(df['StudyHours'] >= 0) & (df['StudyHours'] <= 5)]['StudyHours']\n",
    "khoang_2 = df[(df['StudyHours'] >= 6) & (df['StudyHours'] <= 10)]['StudyHours']\n",
    "khoang_3 = df[(df['StudyHours'] >= 11) & (df['StudyHours'] <= 15)]['StudyHours']\n",
    "khoang_4 = df[(df['StudyHours'] >= 16) & (df['StudyHours'] <= 20)]['StudyHours']\n",
    "khoang_5 = df[(df['StudyHours'] >= 21)]['StudyHours']\n",
    "plt.hist([khoang_1, khoang_2, khoang_3, khoang_4, khoang_5], label=[\"0-5\", \"6-10\", \"11-15\", \"16-20\", \"21+\"], bins=5)\n",
    "plt.title(\"Biểu đồ histogram phân bố số giờ học theo khoảng\")\n",
    "plt.xlabel(\"Số giờ học\")\n",
    "plt.ylabel(\"Tần suất\")\n",
    "plt.legend()\n",
    "plt.show()"
   ]
  },
  {
   "cell_type": "markdown",
   "metadata": {},
   "source": [
    "Nhận xét: \n",
    "- Từ biểu đồ thì đa số người học ở 12.5 là cao nhất\n",
    "- Người học 2.5 cũng ít cho thấy sinh viên siêng năng"
   ]
  },
  {
   "cell_type": "markdown",
   "metadata": {},
   "source": [
    "- Phần 3: Xác suất (3 điểm)\n",
    "Một công ty khảo sát về việc sinh viên có sử dụng cà phê khi học tập không. Kết quả cho thấy:\n",
    "\n",
    "70% sinh viên có uống cà phê.\n",
    "\n",
    "- Trong số những sinh viên uống cà phê, 60% đạt điểm cao (>=8).\n",
    "\n",
    "- Trong số những sinh viên không uống cà phê, chỉ 30% đạt điểm cao.\n",
    "\n",
    "- Câu hỏi:\n",
    "\n",
    "- Nếu chọn ngẫu nhiên một sinh viên, xác suất để sinh viên đó đạt điểm cao là bao nhiêu?\n",
    "\n",
    "- Nếu biết một sinh viên đạt điểm cao, xác suất để sinh viên đó uống cà phê là bao nhiêu? (Dùng định lý Bayes)\n",
    "\n"
   ]
  },
  {
   "cell_type": "code",
   "execution_count": 20,
   "metadata": {},
   "outputs": [
    {
     "name": "stdout",
     "output_type": "stream",
     "text": [
      "Xác xuất để sinh viên đạt điểm cao:  0.51\n",
      "Xác xuất sinh viên không uống mà đạt điểm cao:  0.1764705882352941\n"
     ]
    }
   ],
   "source": [
    "p_uong = 0.7  # xác xuất sinh viên cà phê \n",
    "p_khong_uong = 0.3 # xác xuất sinh viên không uống cafe \n",
    "\n",
    "p_dat_diem_cao_uong = 0.6 \n",
    "p_dat_diem_cao_khong_uong = 0.3 \n",
    "\n",
    "# nhìn tờ giấy phần công thức xác xuất đầy đủ \n",
    "p_dd_cao = p_uong * p_dat_diem_cao_uong + p_khong_uong * p_dat_diem_cao_khong_uong\n",
    "print(\"Xác xuất để sinh viên đạt điểm cao: \", p_dd_cao)\n",
    "\n",
    "# nhìn vào bayes \n",
    "# thì ta cần tính là xác xuất sinh viên đó không uống cafe mà\n",
    "# đạt điểm cao \n",
    "p_ku_ddc = p_khong_uong * p_dat_diem_cao_khong_uong \n",
    "bayes = p_ku_ddc / p_dd_cao\n",
    "print(\"Xác xuất sinh viên không uống mà đạt điểm cao: \", bayes)"
   ]
  },
  {
   "cell_type": "markdown",
   "metadata": {},
   "source": [
    "- Phần 4: Các phân phối xác suất (3 điểm)\n",
    "- Câu 1: Phân phối Nhị thức (Binomial Distribution) (1 điểm)\n",
    "Một bài kiểm tra có 10 câu hỏi trắc nghiệm, mỗi câu có 4 lựa chọn và chỉ có 1 đáp án đúng. Nếu một sinh viên đoán ngẫu nhiên toàn bộ bài kiểm tra, xác suất để sinh viên đó trả lời đúng ít nhất 4 câu là bao nhiêu?\n",
    "\n"
   ]
  },
  {
   "cell_type": "code",
   "execution_count": 24,
   "metadata": {},
   "outputs": [
    {
     "name": "stdout",
     "output_type": "stream",
     "text": [
      "Xác xuất để sinh viên đó trả lời đúng ít nhất 4 câu:  0.22412490844726562\n"
     ]
    }
   ],
   "source": [
    "n = 10 \n",
    "p = 0.25  # vì có 4 lựa chọn  1/ 4 \n",
    "# sinh viên đoán đúng 4 câu thì P(X >= 4) = 1 - P(P <= 3)\n",
    "# nhìn vào tờ giấy chỗ phần phân phối nhị thức \n",
    "p_3 = binom.cdf(3, n, p)\n",
    "p_lh_3 = 1 - p_3 \n",
    "print(\"Xác xuất để sinh viên đó trả lời đúng ít nhất 4 câu: \", p_lh_3)"
   ]
  },
  {
   "cell_type": "markdown",
   "metadata": {},
   "source": [
    "\n",
    "- Câu 2: Phân phối Poisson (1 điểm)\n",
    "Trung bình mỗi ngày có 3 khách hàng đến một cửa hàng mua laptop. Tính xác suất rằng trong một ngày bất kỳ:\n",
    "\n",
    "- Không có khách nào đến mua laptop.\n",
    "\n",
    "- Có ít nhất 2 khách đến mua laptop.\n",
    "\n",
    "👉 Gợi ý: Dùng poisson.pmf() và poisson.cdf().\n"
   ]
  },
  {
   "cell_type": "code",
   "execution_count": 22,
   "metadata": {},
   "outputs": [
    {
     "name": "stdout",
     "output_type": "stream",
     "text": [
      "Không có khách nào đến mua laptop:  0.049787068367863944\n",
      "Có ít nhất 2 khách đến mua laptop:  0.8008517265285442\n"
     ]
    }
   ],
   "source": [
    "landa = 3 \n",
    "# Lật tờ giấy đến phân phối poisson \n",
    "# P(x = 0) \n",
    "p_0 = poisson.pmf(0, landa)\n",
    "\n",
    "# P(x >= 2) = 1 - P(x <= 1)\n",
    "# đầu tiên tính P(x <= 1)\n",
    "p_1 = poisson.cdf(1, landa)\n",
    "p_2 = 1 - p_1 \n",
    "print(\"Không có khách nào đến mua laptop: \", p_0)\n",
    "print(\"Có ít nhất 2 khách đến mua laptop: \", p_2)"
   ]
  },
  {
   "cell_type": "markdown",
   "metadata": {},
   "source": [
    "- Câu 3: Phân phối Chuẩn (Normal Distribution) (1 điểm)\n",
    "Chiều cao trung bình của sinh viên trong một trường đại học là 170 cm với độ lệch chuẩn 6 cm. Giả sử chiều cao tuân theo phân phối chuẩn.\n",
    "\n",
    "+ Xác suất để một sinh viên có chiều cao lớn hơn 180 cm là bao nhiêu?\n",
    "\n",
    "+ Khoảng chiều cao nào chứa 95% sinh viên trong trường?"
   ]
  },
  {
   "cell_type": "code",
   "execution_count": 23,
   "metadata": {},
   "outputs": [
    {
     "name": "stdout",
     "output_type": "stream",
     "text": [
      "Xác xuất một sinh viên có chiều cao lớn hơn 180cm:  0.047790352272814696\n",
      "179.86912176170884\n"
     ]
    }
   ],
   "source": [
    "# đọc đề và nhìn vào phân phối chuẩn \n",
    "# nhớ xem kĩ coi nó cho phương sai hay độ lệch chuẩn \n",
    "# vì nó muốn mình thấp điểm :))) \n",
    "# ta chỉ cần độ lệch chuẩn \n",
    "trung_binh = 170 \n",
    "do_lech_chuan = 6 \n",
    "# P(x > 180) = 1 - P(x <= 180)\n",
    "# P(x <= 180)\n",
    "p_180 = norm.cdf(180, loc=trung_binh, scale=do_lech_chuan)\n",
    "p = 1 - p_180 \n",
    "print(\"Xác xuất một sinh viên có chiều cao lớn hơn 180cm: \", p)\n",
    "\n",
    "# nó cho xác xuất thì nhìn vào chỗ phân phối chuẩn \n",
    "# tui có ghi là cái mà cho xác xuất thì sài ppf \n",
    "# là ra x \n",
    "# (Nếu mà không có cho trung bình, độ lệch chuẩn) z = x\n",
    "chieu_cao = norm.ppf(0.95, loc=trung_binh, scale=do_lech_chuan)\n",
    "print(chieu_cao)"
   ]
  },
  {
   "cell_type": "code",
   "execution_count": null,
   "metadata": {},
   "outputs": [],
   "source": []
  }
 ],
 "metadata": {
  "kernelspec": {
   "display_name": "Python 3",
   "language": "python",
   "name": "python3"
  },
  "language_info": {
   "codemirror_mode": {
    "name": "ipython",
    "version": 3
   },
   "file_extension": ".py",
   "mimetype": "text/x-python",
   "name": "python",
   "nbconvert_exporter": "python",
   "pygments_lexer": "ipython3",
   "version": "3.12.2"
  }
 },
 "nbformat": 4,
 "nbformat_minor": 2
}
