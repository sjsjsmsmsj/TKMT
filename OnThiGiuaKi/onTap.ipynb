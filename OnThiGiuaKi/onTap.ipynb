{
 "cells": [
  {
   "cell_type": "markdown",
   "metadata": {},
   "source": [
    "- Bây giờ mình sẽ ôn tập môn thống kê máy tính . :)))) \n",
    "- Về phần biểu đồ ta cần nhớ lại như sau : \n",
    "- biểu đồ [pie, boxplot, line] thì chỉ cần truyền vào một biến , các biểu đồ còn lại thì truyền vào 2 biến \n",
    "\n",
    "- Nếu muốn tô đẹp biểu đồ thì \n",
    "- color, label, ...\n"
   ]
  }
 ],
 "metadata": {
  "language_info": {
   "name": "python"
  }
 },
 "nbformat": 4,
 "nbformat_minor": 2
}
