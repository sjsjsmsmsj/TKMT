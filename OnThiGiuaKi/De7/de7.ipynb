{
 "cells": [
  {
   "cell_type": "code",
   "execution_count": 1,
   "metadata": {},
   "outputs": [],
   "source": [
    "from scipy.stats import binom, poisson, norm \n",
    "import numpy as np \n",
    "import pandas as pd \n",
    "import matplotlib.pyplot as plt "
   ]
  },
  {
   "cell_type": "code",
   "execution_count": 2,
   "metadata": {},
   "outputs": [
    {
     "data": {
      "text/html": [
       "<div>\n",
       "<style scoped>\n",
       "    .dataframe tbody tr th:only-of-type {\n",
       "        vertical-align: middle;\n",
       "    }\n",
       "\n",
       "    .dataframe tbody tr th {\n",
       "        vertical-align: top;\n",
       "    }\n",
       "\n",
       "    .dataframe thead th {\n",
       "        text-align: right;\n",
       "    }\n",
       "</style>\n",
       "<table border=\"1\" class=\"dataframe\">\n",
       "  <thead>\n",
       "    <tr style=\"text-align: right;\">\n",
       "      <th></th>\n",
       "      <th>ID</th>\n",
       "      <th>Gender</th>\n",
       "      <th>Year</th>\n",
       "      <th>Pulse</th>\n",
       "      <th>Exercise</th>\n",
       "      <th>Piercings</th>\n",
       "    </tr>\n",
       "  </thead>\n",
       "  <tbody>\n",
       "    <tr>\n",
       "      <th>0</th>\n",
       "      <td>SV1000</td>\n",
       "      <td>Nam</td>\n",
       "      <td>Năm 1</td>\n",
       "      <td>92</td>\n",
       "      <td>1</td>\n",
       "      <td>4</td>\n",
       "    </tr>\n",
       "    <tr>\n",
       "      <th>1</th>\n",
       "      <td>SV1001</td>\n",
       "      <td>Nam</td>\n",
       "      <td>Năm 1</td>\n",
       "      <td>55</td>\n",
       "      <td>9</td>\n",
       "      <td>5</td>\n",
       "    </tr>\n",
       "    <tr>\n",
       "      <th>2</th>\n",
       "      <td>SV1002</td>\n",
       "      <td>Nữ</td>\n",
       "      <td>Năm 1</td>\n",
       "      <td>68</td>\n",
       "      <td>3</td>\n",
       "      <td>0</td>\n",
       "    </tr>\n",
       "    <tr>\n",
       "      <th>3</th>\n",
       "      <td>SV1003</td>\n",
       "      <td>Nam</td>\n",
       "      <td>Năm 2</td>\n",
       "      <td>82</td>\n",
       "      <td>7</td>\n",
       "      <td>1</td>\n",
       "    </tr>\n",
       "    <tr>\n",
       "      <th>4</th>\n",
       "      <td>SV1004</td>\n",
       "      <td>Nam</td>\n",
       "      <td>Năm 2</td>\n",
       "      <td>92</td>\n",
       "      <td>4</td>\n",
       "      <td>5</td>\n",
       "    </tr>\n",
       "  </tbody>\n",
       "</table>\n",
       "</div>"
      ],
      "text/plain": [
       "       ID Gender   Year  Pulse  Exercise  Piercings\n",
       "0  SV1000    Nam  Năm 1     92         1          4\n",
       "1  SV1001    Nam  Năm 1     55         9          5\n",
       "2  SV1002     Nữ  Năm 1     68         3          0\n",
       "3  SV1003    Nam  Năm 2     82         7          1\n",
       "4  SV1004    Nam  Năm 2     92         4          5"
      ]
     },
     "execution_count": 2,
     "metadata": {},
     "output_type": "execute_result"
    }
   ],
   "source": [
    "df = pd.read_csv(\"StudentSurvey_Fake.csv\")\n",
    "df.head()"
   ]
  },
  {
   "cell_type": "code",
   "execution_count": 3,
   "metadata": {},
   "outputs": [
    {
     "data": {
      "text/plain": [
       "ID           0\n",
       "Gender       0\n",
       "Year         0\n",
       "Pulse        0\n",
       "Exercise     0\n",
       "Piercings    0\n",
       "dtype: int64"
      ]
     },
     "execution_count": 3,
     "metadata": {},
     "output_type": "execute_result"
    }
   ],
   "source": [
    "df.isna().sum()"
   ]
  },
  {
   "cell_type": "code",
   "execution_count": 4,
   "metadata": {},
   "outputs": [
    {
     "name": "stdout",
     "output_type": "stream",
     "text": [
      "Year\n",
      "Năm 3    55\n",
      "Năm 1    51\n",
      "Năm 2    50\n",
      "Năm 4    44\n",
      "Name: count, dtype: int64\n"
     ]
    }
   ],
   "source": [
    "bang_ppts = df['Year'].value_counts()\n",
    "print(bang_ppts)"
   ]
  },
  {
   "cell_type": "code",
   "execution_count": 5,
   "metadata": {},
   "outputs": [
    {
     "name": "stdout",
     "output_type": "stream",
     "text": [
      "0.84\n"
     ]
    }
   ],
   "source": [
    "deo_khuyen = (df['Piercings'] > 0).sum()\n",
    "tong_the = len(df)\n",
    "ty_le = deo_khuyen / tong_the\n",
    "print(ty_le)"
   ]
  },
  {
   "cell_type": "code",
   "execution_count": 20,
   "metadata": {},
   "outputs": [
    {
     "name": "stdout",
     "output_type": "stream",
     "text": [
      "Tỷ lệ nam:  0.8407079646017699\n",
      "Tỷ lệ nữ:  0.8390804597701149\n"
     ]
    }
   ],
   "source": [
    "tong_the = len(df)\n",
    "deo_khuyen_nam = df[df['Gender'] == 'Nam']\n",
    "deo_khuyen_nam_1 = (deo_khuyen_nam['Piercings'] > 0).sum()\n",
    "ty_le_nam = deo_khuyen_nam_1 / len(deo_khuyen_nam)\n",
    "\n",
    "deo_khuyen_nu = df[df['Gender'] == 'Nữ']\n",
    "deo_khuyen_nu_1 = (deo_khuyen_nu['Piercings'] > 0).sum()\n",
    "ty_le_nu = deo_khuyen_nu_1 / len(deo_khuyen_nu)\n",
    "print(\"Tỷ lệ nam: \", ty_le_nam)\n",
    "print(\"Tỷ lệ nữ: \", ty_le_nu)\n"
   ]
  },
  {
   "cell_type": "markdown",
   "metadata": {},
   "source": [
    "Nhận xét: \n",
    "- Tỷ lệ đeo khuyên của nam cao hơn nữ"
   ]
  },
  {
   "cell_type": "code",
   "execution_count": 10,
   "metadata": {},
   "outputs": [
    {
     "data": {
      "image/png": "[encoded data removed]",
      "text/plain": [
       "<Figure size 640x480 with 1 Axes>"
      ]
     },
     "metadata": {},
     "output_type": "display_data"
    }
   ],
   "source": [
    "plt.hist(df['Pulse'])\n",
    "plt.title(\"Biểu đồ thể hiện nhịp tim\")\n",
    "plt.show()"
   ]
  },
  {
   "cell_type": "code",
   "execution_count": 12,
   "metadata": {},
   "outputs": [
    {
     "data": {
      "image/png": "[encoded data removed]",
      "text/plain": [
       "<Figure size 640x480 with 1 Axes>"
      ]
     },
     "metadata": {},
     "output_type": "display_data"
    }
   ],
   "source": [
    "plt.hist(df['Exercise'])\n",
    "plt.title(\"Biểu đồ thể hiện tập thể dục\")\n",
    "plt.show()"
   ]
  },
  {
   "cell_type": "code",
   "execution_count": 13,
   "metadata": {},
   "outputs": [
    {
     "data": {
      "image/png": "[encoded data removed]",
      "text/plain": [
       "<Figure size 640x480 with 1 Axes>"
      ]
     },
     "metadata": {},
     "output_type": "display_data"
    }
   ],
   "source": [
    "plt.hist(df['Piercings'])\n",
    "plt.title(\"Biểu đồ thể hiện số khuyên đeo\")\n",
    "plt.show()"
   ]
  },
  {
   "cell_type": "markdown",
   "metadata": {},
   "source": [
    "Nhận xét: \n",
    "- Các biểu đồ đều là đối xứng"
   ]
  },
  {
   "cell_type": "code",
   "execution_count": 14,
   "metadata": {},
   "outputs": [
    {
     "name": "stdout",
     "output_type": "stream",
     "text": [
      "Tỷ lệ đeo khuyên nữ của mẫu:  0.34\n"
     ]
    }
   ],
   "source": [
    "mau = df.sample(50)\n",
    "tong_the = len(mau)\n",
    "nu = mau[mau['Gender'] == 'Nữ']\n",
    "deo_khuyen_nu = (nu['Piercings'] > 0).sum()\n",
    "ty_le_nu_mau = deo_khuyen_nu / tong_the\n",
    "print(\"Tỷ lệ đeo khuyên nữ của mẫu: \", ty_le_nu_mau)"
   ]
  },
  {
   "cell_type": "code",
   "execution_count": 15,
   "metadata": {},
   "outputs": [
    {
     "name": "stdout",
     "output_type": "stream",
     "text": [
      "Tỷ lệ đeo khuyên của dữ liệu ban đầu:  0.365\n"
     ]
    }
   ],
   "source": [
    "print(\"Tỷ lệ đeo khuyên của dữ liệu ban đầu: \", ty_le_nu)"
   ]
  },
  {
   "cell_type": "markdown",
   "metadata": {},
   "source": [
    "Nhận xét: \n",
    "- Cho thấy nẫu ít chính xác hơn so với cả quần thể"
   ]
  },
  {
   "cell_type": "code",
   "execution_count": 21,
   "metadata": {},
   "outputs": [
    {
     "data": {
      "image/png": "[encoded data removed]",
      "text/plain": [
       "<Figure size 640x480 with 1 Axes>"
      ]
     },
     "metadata": {},
     "output_type": "display_data"
    }
   ],
   "source": [
    "trung_binh = []\n",
    "for i in range(100):\n",
    "    mau = df.sample(50)\n",
    "    nu = mau[mau['Gender'] == 'Nữ']\n",
    "    deo_khuyen_nu = (nu['Piercings'] > 0).sum()\n",
    "    ty_le_nu_mau = deo_khuyen_nu / len(nu)\n",
    "    trung_binh.append(ty_le_nu_mau)\n",
    "plt.hist(trung_binh)\n",
    "plt.show()"
   ]
  },
  {
   "cell_type": "code",
   "execution_count": 22,
   "metadata": {},
   "outputs": [
    {
     "data": {
      "image/png": "[encoded data removed]",
      "text/plain": [
       "<Figure size 640x480 with 1 Axes>"
      ]
     },
     "metadata": {},
     "output_type": "display_data"
    }
   ],
   "source": [
    "trung_binh = []\n",
    "for i in range(100):\n",
    "    mau = df.sample(100)\n",
    "    nu = mau[mau['Gender'] == 'Nữ']\n",
    "    deo_khuyen_nu = (nu['Piercings'] > 0).sum()\n",
    "    ty_le_nu_mau = deo_khuyen_nu / len(nu)\n",
    "    trung_binh.append(ty_le_nu_mau)\n",
    "plt.hist(trung_binh)\n",
    "plt.show()"
   ]
  },
  {
   "cell_type": "markdown",
   "metadata": {},
   "source": [
    "Nhận xét: \n",
    "- Khi tôi lấy mẫu là 100 thì tỷ lệ tập trung chỗ [0.325, 0.4] là phần đa \n",
    "- Còn kia cũng vậy nhưng nó không thể hiện rõ bằng"
   ]
  },
  {
   "cell_type": "code",
   "execution_count": null,
   "metadata": {},
   "outputs": [],
   "source": []
  },
  {
   "cell_type": "markdown",
   "metadata": {},
   "source": []
  }
 ],
 "metadata": {
  "kernelspec": {
   "display_name": "Python 3",
   "language": "python",
   "name": "python3"
  },
  "language_info": {
   "codemirror_mode": {
    "name": "ipython",
    "version": 3
   },
   "file_extension": ".py",
   "mimetype": "text/x-python",
   "name": "python",
   "nbconvert_exporter": "python",
   "pygments_lexer": "ipython3",
   "version": "3.12.2"
  }
 },
 "nbformat": 4,
 "nbformat_minor": 2
}
