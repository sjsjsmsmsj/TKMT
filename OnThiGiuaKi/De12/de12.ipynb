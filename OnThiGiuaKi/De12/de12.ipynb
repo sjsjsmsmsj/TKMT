{
 "cells": [
  {
   "cell_type": "code",
   "execution_count": 1,
   "metadata": {},
   "outputs": [],
   "source": [
    "from scipy.stats import binom, poisson, norm \n",
    "import numpy as np \n",
    "import pandas as pd \n",
    "import matplotlib.pyplot as plt"
   ]
  },
  {
   "cell_type": "code",
   "execution_count": 2,
   "metadata": {},
   "outputs": [
    {
     "data": {
      "text/html": [
       "<div>\n",
       "<style scoped>\n",
       "    .dataframe tbody tr th:only-of-type {\n",
       "        vertical-align: middle;\n",
       "    }\n",
       "\n",
       "    .dataframe tbody tr th {\n",
       "        vertical-align: top;\n",
       "    }\n",
       "\n",
       "    .dataframe thead th {\n",
       "        text-align: right;\n",
       "    }\n",
       "</style>\n",
       "<table border=\"1\" class=\"dataframe\">\n",
       "  <thead>\n",
       "    <tr style=\"text-align: right;\">\n",
       "      <th></th>\n",
       "      <th>time</th>\n",
       "      <th>title</th>\n",
       "      <th>poster_temp</th>\n",
       "      <th>area_temp</th>\n",
       "      <th>final_price</th>\n",
       "      <th>type</th>\n",
       "      <th>acreage</th>\n",
       "    </tr>\n",
       "  </thead>\n",
       "  <tbody>\n",
       "    <tr>\n",
       "      <th>0</th>\n",
       "      <td>2020-06-07</td>\n",
       "      <td>Bán nhà tại p.Phạm Ngũ Lão, Quận 1, 25m2, 4.2 TỶ</td>\n",
       "      <td>môi giới</td>\n",
       "      <td>tp hồ chí minh</td>\n",
       "      <td>4.200000e+09</td>\n",
       "      <td>nhà</td>\n",
       "      <td>25.00</td>\n",
       "    </tr>\n",
       "    <tr>\n",
       "      <th>1</th>\n",
       "      <td>2020-08-07</td>\n",
       "      <td>Chung cư Opal Boulevard 95.49m² 3PN</td>\n",
       "      <td>môi giới</td>\n",
       "      <td>tp hồ chí minh</td>\n",
       "      <td>3.308559e+09</td>\n",
       "      <td>chung cư</td>\n",
       "      <td>95.49</td>\n",
       "    </tr>\n",
       "    <tr>\n",
       "      <th>2</th>\n",
       "      <td>2020-05-07</td>\n",
       "      <td>Bán nhà Phú Lãm. 34m*4T. tặng 3 điều hòa, 1,62 tỷ</td>\n",
       "      <td>môi giới</td>\n",
       "      <td>hà nội</td>\n",
       "      <td>1.620000e+09</td>\n",
       "      <td>nhà</td>\n",
       "      <td>34.00</td>\n",
       "    </tr>\n",
       "    <tr>\n",
       "      <th>3</th>\n",
       "      <td>2020-07-07</td>\n",
       "      <td>Nhà trệt lầu . Hùynh thúc kháng</td>\n",
       "      <td>môi giới</td>\n",
       "      <td>cần thơ</td>\n",
       "      <td>1.840000e+09</td>\n",
       "      <td>nhà</td>\n",
       "      <td>-1.00</td>\n",
       "    </tr>\n",
       "    <tr>\n",
       "      <th>4</th>\n",
       "      <td>2020-06-07</td>\n",
       "      <td>Đất Lê Văn Lương, 85m2, Sổ riêng, Hẻm xe hơi, ...</td>\n",
       "      <td>môi giới</td>\n",
       "      <td>tp hồ chí minh</td>\n",
       "      <td>2.250000e+09</td>\n",
       "      <td>đất</td>\n",
       "      <td>85.00</td>\n",
       "    </tr>\n",
       "    <tr>\n",
       "      <th>5</th>\n",
       "      <td>2020-04-07</td>\n",
       "      <td>Bán nhà Huyện Hóc Môn 34m²</td>\n",
       "      <td>khác</td>\n",
       "      <td>tp hồ chí minh</td>\n",
       "      <td>2.200000e+09</td>\n",
       "      <td>nhà</td>\n",
       "      <td>34.00</td>\n",
       "    </tr>\n",
       "    <tr>\n",
       "      <th>6</th>\n",
       "      <td>2020-06-07</td>\n",
       "      <td>Nhà 1 lửng 2PN đất 63m2 cực đẹp ĐS 17 Linh Trung</td>\n",
       "      <td>khác</td>\n",
       "      <td>tp hồ chí minh</td>\n",
       "      <td>3.350000e+09</td>\n",
       "      <td>nhà</td>\n",
       "      <td>63.00</td>\n",
       "    </tr>\n",
       "    <tr>\n",
       "      <th>7</th>\n",
       "      <td>2020-05-07</td>\n",
       "      <td>Đất mặt tiền Phú Nông - Vĩnh Ngọc hàng hiếm</td>\n",
       "      <td>môi giới</td>\n",
       "      <td>khánh hòa</td>\n",
       "      <td>2.073000e+09</td>\n",
       "      <td>đất</td>\n",
       "      <td>-1.00</td>\n",
       "    </tr>\n",
       "    <tr>\n",
       "      <th>8</th>\n",
       "      <td>2020-03-07</td>\n",
       "      <td>Nhà 1 trệt 1 lầu đường 44 - kdc 586 - cái răng</td>\n",
       "      <td>môi giới</td>\n",
       "      <td>cần thơ</td>\n",
       "      <td>2.350000e+09</td>\n",
       "      <td>nhà</td>\n",
       "      <td>-1.00</td>\n",
       "    </tr>\n",
       "    <tr>\n",
       "      <th>9</th>\n",
       "      <td>2020-08-07</td>\n",
       "      <td>Nhà lửng trục chính An Gia</td>\n",
       "      <td>môi giới</td>\n",
       "      <td>cần thơ</td>\n",
       "      <td>1.100000e+09</td>\n",
       "      <td>nhà</td>\n",
       "      <td>-1.00</td>\n",
       "    </tr>\n",
       "  </tbody>\n",
       "</table>\n",
       "</div>"
      ],
      "text/plain": [
       "         time                                              title poster_temp  \\\n",
       "0  2020-06-07   Bán nhà tại p.Phạm Ngũ Lão, Quận 1, 25m2, 4.2 TỶ    môi giới   \n",
       "1  2020-08-07                Chung cư Opal Boulevard 95.49m² 3PN    môi giới   \n",
       "2  2020-05-07  Bán nhà Phú Lãm. 34m*4T. tặng 3 điều hòa, 1,62 tỷ    môi giới   \n",
       "3  2020-07-07                    Nhà trệt lầu . Hùynh thúc kháng    môi giới   \n",
       "4  2020-06-07  Đất Lê Văn Lương, 85m2, Sổ riêng, Hẻm xe hơi, ...    môi giới   \n",
       "5  2020-04-07                         Bán nhà Huyện Hóc Môn 34m²        khác   \n",
       "6  2020-06-07   Nhà 1 lửng 2PN đất 63m2 cực đẹp ĐS 17 Linh Trung        khác   \n",
       "7  2020-05-07        Đất mặt tiền Phú Nông - Vĩnh Ngọc hàng hiếm    môi giới   \n",
       "8  2020-03-07     Nhà 1 trệt 1 lầu đường 44 - kdc 586 - cái răng    môi giới   \n",
       "9  2020-08-07                         Nhà lửng trục chính An Gia    môi giới   \n",
       "\n",
       "        area_temp   final_price      type  acreage  \n",
       "0  tp hồ chí minh  4.200000e+09       nhà    25.00  \n",
       "1  tp hồ chí minh  3.308559e+09  chung cư    95.49  \n",
       "2          hà nội  1.620000e+09       nhà    34.00  \n",
       "3         cần thơ  1.840000e+09       nhà    -1.00  \n",
       "4  tp hồ chí minh  2.250000e+09       đất    85.00  \n",
       "5  tp hồ chí minh  2.200000e+09       nhà    34.00  \n",
       "6  tp hồ chí minh  3.350000e+09       nhà    63.00  \n",
       "7       khánh hòa  2.073000e+09       đất    -1.00  \n",
       "8         cần thơ  2.350000e+09       nhà    -1.00  \n",
       "9         cần thơ  1.100000e+09       nhà    -1.00  "
      ]
     },
     "execution_count": 2,
     "metadata": {},
     "output_type": "execute_result"
    }
   ],
   "source": [
    "# 1  Đọc dữ liệu và hiển thị 10 dòng đầu tiên của dữ liệu\n",
    "df = pd.read_csv(\"bds.csv\")\n",
    "df.head(10)"
   ]
  },
  {
   "cell_type": "code",
   "execution_count": 3,
   "metadata": {},
   "outputs": [
    {
     "name": "stdout",
     "output_type": "stream",
     "text": [
      "type\n",
      "nhà         147416\n",
      "khác         63968\n",
      "đất          61352\n",
      "chung cư      9909\n",
      "Name: count, dtype: int64\n"
     ]
    }
   ],
   "source": [
    "so_luong = df['type'].value_counts()\n",
    "print(so_luong)"
   ]
  },
  {
   "cell_type": "code",
   "execution_count": 39,
   "metadata": {},
   "outputs": [
    {
     "name": "stdout",
     "output_type": "stream",
     "text": [
      "poster_temp   khác  môi giới\n",
      "type                        \n",
      "chung cư      2903      7006\n",
      "khác         11024     52944\n",
      "nhà          30096    117320\n",
      "đất          14914     46438\n"
     ]
    }
   ],
   "source": [
    "# đọc vào thì theo mỗi loại( thì theo cái gì đó thì mình groupby) chọn cột rao bán\n",
    "so_luong_rb = df.groupby('type')['poster_temp'].value_counts().unstack() # unstack() để nó đảo lại thôi không cần cũng được\n",
    "print(so_luong_rb)"
   ]
  },
  {
   "cell_type": "code",
   "execution_count": 41,
   "metadata": {},
   "outputs": [
    {
     "name": "stdout",
     "output_type": "stream",
     "text": [
      "type      poster_temp\n",
      "chung cư  khác             2903\n",
      "          môi giới         7006\n",
      "khác      khác            11024\n",
      "          môi giới        52944\n",
      "nhà       khác            30096\n",
      "          môi giới       117320\n",
      "đất       khác            14914\n",
      "          môi giới        46438\n",
      "dtype: int64\n"
     ]
    },
    {
     "data": {
      "image/png": "[encoded data removed]",
      "text/plain": [
       "<Figure size 640x480 with 1 Axes>"
      ]
     },
     "metadata": {},
     "output_type": "display_data"
    }
   ],
   "source": [
    "loai_bd_theo_tung_gia_ban = df.groupby(['type', 'poster_temp']).size()\n",
    "# bởi vì nó muốn mỗi loại và loại đó thuộc rao bán nào \n",
    "# nên groupby cả hai \n",
    "print(loai_bd_theo_tung_gia_ban)\n",
    "plt.pie(loai_bd_theo_tung_gia_ban, labels=loai_bd_theo_tung_gia_ban.index)\n",
    "plt.show()"
   ]
  },
  {
   "cell_type": "markdown",
   "metadata": {},
   "source": [
    "Nhận xét: \n",
    "- Từ biểu đồ ta thấy bất động sản nhà môi giới có nhiều nhất\n",
    "- Chung cư thì ít nhất là chung cư thuộc loại khác"
   ]
  },
  {
   "cell_type": "code",
   "execution_count": 6,
   "metadata": {},
   "outputs": [
    {
     "name": "stdout",
     "output_type": "stream",
     "text": [
      "         time                                              title poster_temp  \\\n",
      "0  2020-06-07   Bán nhà tại p.Phạm Ngũ Lão, Quận 1, 25m2, 4.2 TỶ    môi giới   \n",
      "1  2020-08-07                Chung cư Opal Boulevard 95.49m² 3PN    môi giới   \n",
      "2  2020-05-07  Bán nhà Phú Lãm. 34m*4T. tặng 3 điều hòa, 1,62 tỷ    môi giới   \n",
      "4  2020-06-07  Đất Lê Văn Lương, 85m2, Sổ riêng, Hẻm xe hơi, ...    môi giới   \n",
      "5  2020-04-07                         Bán nhà Huyện Hóc Môn 34m²        khác   \n",
      "\n",
      "        area_temp   final_price      type  acreage  \n",
      "0  tp hồ chí minh  4.200000e+09       nhà    25.00  \n",
      "1  tp hồ chí minh  3.308559e+09  chung cư    95.49  \n",
      "2          hà nội  1.620000e+09       nhà    34.00  \n",
      "4  tp hồ chí minh  2.250000e+09       đất    85.00  \n",
      "5  tp hồ chí minh  2.200000e+09       nhà    34.00  \n"
     ]
    }
   ],
   "source": [
    "du_lieu_moi = df[(df['area_temp'] == 'tp hồ chí minh') | (df['area_temp'] == 'hà nội') | (df['area_temp'] == 'đà nẵng')]\n",
    "print(du_lieu_moi.head())"
   ]
  },
  {
   "cell_type": "code",
   "execution_count": 7,
   "metadata": {},
   "outputs": [
    {
     "name": "stdout",
     "output_type": "stream",
     "text": [
      "<class 'pandas.core.frame.DataFrame'>\n",
      "Index: 191216 entries, 0 to 282642\n",
      "Data columns (total 7 columns):\n",
      " #   Column       Non-Null Count   Dtype  \n",
      "---  ------       --------------   -----  \n",
      " 0   time         191216 non-null  object \n",
      " 1   title        191216 non-null  object \n",
      " 2   poster_temp  191216 non-null  object \n",
      " 3   area_temp    191216 non-null  object \n",
      " 4   final_price  191216 non-null  float64\n",
      " 5   type         191216 non-null  object \n",
      " 6   acreage      191216 non-null  float64\n",
      "dtypes: float64(2), object(5)\n",
      "memory usage: 11.7+ MB\n"
     ]
    }
   ],
   "source": [
    "du_lieu_moi.info()"
   ]
  },
  {
   "cell_type": "markdown",
   "metadata": {},
   "source": [
    "Nhận xét: \n",
    "- Ta thấy được 191216 dòng của bảng dữ liệu mới"
   ]
  },
  {
   "cell_type": "code",
   "execution_count": 19,
   "metadata": {},
   "outputs": [
    {
     "name": "stdout",
     "output_type": "stream",
     "text": [
      "Hà nội: \n",
      " count    7.985600e+04\n",
      "mean     4.203026e+09\n",
      "std      9.735805e+09\n",
      "min      1.000000e+06\n",
      "25%      2.400000e+09\n",
      "50%      3.300000e+09\n",
      "75%      4.500000e+09\n",
      "max      9.999990e+11\n",
      "Name: final_price, dtype: float64\n",
      "Tp hồ chí minh:\n",
      " count    9.397900e+04\n",
      "mean     4.615638e+09\n",
      "std      1.306703e+10\n",
      "min      1.000000e+06\n",
      "25%      1.900000e+09\n",
      "50%      3.250000e+09\n",
      "75%      5.400000e+09\n",
      "max      1.000000e+12\n",
      "Name: final_price, dtype: float64\n",
      "Đà nẵng:\n",
      " count    1.738100e+04\n",
      "mean     4.650889e+09\n",
      "std      2.523404e+10\n",
      "min      1.000000e+06\n",
      "25%      1.980000e+09\n",
      "50%      2.700000e+09\n",
      "75%      4.100000e+09\n",
      "max      1.000000e+12\n",
      "Name: final_price, dtype: float64\n"
     ]
    },
    {
     "data": {
      "image/png": "[encoded data removed]",
      "text/plain": [
       "<Figure size 640x480 with 1 Axes>"
      ]
     },
     "metadata": {},
     "output_type": "display_data"
    },
    {
     "data": {
      "image/png": "[encoded data removed]",
      "text/plain": [
       "<Figure size 640x480 with 1 Axes>"
      ]
     },
     "metadata": {},
     "output_type": "display_data"
    },
    {
     "data": {
      "image/png": "[encoded data removed]",
      "text/plain": [
       "<Figure size 640x480 with 1 Axes>"
      ]
     },
     "metadata": {},
     "output_type": "display_data"
    }
   ],
   "source": [
    "a = du_lieu_moi[du_lieu_moi['area_temp'] == 'hà nội']['final_price'].describe()\n",
    " \n",
    "b = du_lieu_moi[du_lieu_moi['area_temp'] == 'tp hồ chí minh']['final_price'].describe()\n",
    "\n",
    "c =  du_lieu_moi[du_lieu_moi['area_temp'] == 'đà nẵng']['final_price'].describe()\n",
    "print(\"Hà nội: \\n\", a)\n",
    "print(\"Tp hồ chí minh:\\n\", b)\n",
    "print(\"Đà nẵng:\\n\", c)\n",
    "\n",
    "# vẽ biểu đồ theo vùng (thì groupby vùng đó) của giá thì chọn cột giá \n",
    "# mới đầu chọn trung bình vẽ trước\n",
    "vung = du_lieu_moi.groupby('area_temp')['final_price'].mean()\n",
    "plt.bar(vung.index, vung.values, color=['yellow', 'green', 'red'])\n",
    "plt.show()\n",
    "\n",
    "# vẽ thứ hai là trung vị \n",
    "vung = du_lieu_moi.groupby('area_temp')['final_price'].median()\n",
    "plt.bar(vung.index, vung.values, color=['yellow', 'green', 'red'])\n",
    "plt.show()\n",
    "\n",
    "# vẽ thứ ba là độ lệch chuẩn\n",
    "vung = du_lieu_moi.groupby('area_temp')['final_price'].std()\n",
    "plt.bar(vung.index, vung.values, color=['yellow', 'green', 'red'])\n",
    "plt.show()"
   ]
  },
  {
   "cell_type": "markdown",
   "metadata": {},
   "source": [
    "Nhận xét: \n",
    "- trung bình, trung vị thì giá đất xem xem nhau \n",
    "- độ lệch chuẩn thì đà nẵng cao hơn hẵn và hà nội thấp nhất"
   ]
  },
  {
   "cell_type": "code",
   "execution_count": 20,
   "metadata": {},
   "outputs": [
    {
     "data": {
      "text/html": [
       "<div>\n",
       "<style scoped>\n",
       "    .dataframe tbody tr th:only-of-type {\n",
       "        vertical-align: middle;\n",
       "    }\n",
       "\n",
       "    .dataframe tbody tr th {\n",
       "        vertical-align: top;\n",
       "    }\n",
       "\n",
       "    .dataframe thead th {\n",
       "        text-align: right;\n",
       "    }\n",
       "</style>\n",
       "<table border=\"1\" class=\"dataframe\">\n",
       "  <thead>\n",
       "    <tr style=\"text-align: right;\">\n",
       "      <th></th>\n",
       "      <th>time</th>\n",
       "      <th>title</th>\n",
       "      <th>poster_temp</th>\n",
       "      <th>area_temp</th>\n",
       "      <th>final_price</th>\n",
       "      <th>type</th>\n",
       "      <th>acreage</th>\n",
       "    </tr>\n",
       "  </thead>\n",
       "  <tbody>\n",
       "    <tr>\n",
       "      <th>0</th>\n",
       "      <td>2020-06-07</td>\n",
       "      <td>Bán nhà tại p.Phạm Ngũ Lão, Quận 1, 25m2, 4.2 TỶ</td>\n",
       "      <td>môi giới</td>\n",
       "      <td>tp hồ chí minh</td>\n",
       "      <td>4.200000e+09</td>\n",
       "      <td>nhà</td>\n",
       "      <td>25.00</td>\n",
       "    </tr>\n",
       "    <tr>\n",
       "      <th>1</th>\n",
       "      <td>2020-08-07</td>\n",
       "      <td>Chung cư Opal Boulevard 95.49m² 3PN</td>\n",
       "      <td>môi giới</td>\n",
       "      <td>tp hồ chí minh</td>\n",
       "      <td>3.308559e+09</td>\n",
       "      <td>chung cư</td>\n",
       "      <td>95.49</td>\n",
       "    </tr>\n",
       "    <tr>\n",
       "      <th>2</th>\n",
       "      <td>2020-05-07</td>\n",
       "      <td>Bán nhà Phú Lãm. 34m*4T. tặng 3 điều hòa, 1,62 tỷ</td>\n",
       "      <td>môi giới</td>\n",
       "      <td>hà nội</td>\n",
       "      <td>1.620000e+09</td>\n",
       "      <td>nhà</td>\n",
       "      <td>34.00</td>\n",
       "    </tr>\n",
       "    <tr>\n",
       "      <th>4</th>\n",
       "      <td>2020-06-07</td>\n",
       "      <td>Đất Lê Văn Lương, 85m2, Sổ riêng, Hẻm xe hơi, ...</td>\n",
       "      <td>môi giới</td>\n",
       "      <td>tp hồ chí minh</td>\n",
       "      <td>2.250000e+09</td>\n",
       "      <td>đất</td>\n",
       "      <td>85.00</td>\n",
       "    </tr>\n",
       "    <tr>\n",
       "      <th>5</th>\n",
       "      <td>2020-04-07</td>\n",
       "      <td>Bán nhà Huyện Hóc Môn 34m²</td>\n",
       "      <td>khác</td>\n",
       "      <td>tp hồ chí minh</td>\n",
       "      <td>2.200000e+09</td>\n",
       "      <td>nhà</td>\n",
       "      <td>34.00</td>\n",
       "    </tr>\n",
       "  </tbody>\n",
       "</table>\n",
       "</div>"
      ],
      "text/plain": [
       "         time                                              title poster_temp  \\\n",
       "0  2020-06-07   Bán nhà tại p.Phạm Ngũ Lão, Quận 1, 25m2, 4.2 TỶ    môi giới   \n",
       "1  2020-08-07                Chung cư Opal Boulevard 95.49m² 3PN    môi giới   \n",
       "2  2020-05-07  Bán nhà Phú Lãm. 34m*4T. tặng 3 điều hòa, 1,62 tỷ    môi giới   \n",
       "4  2020-06-07  Đất Lê Văn Lương, 85m2, Sổ riêng, Hẻm xe hơi, ...    môi giới   \n",
       "5  2020-04-07                         Bán nhà Huyện Hóc Môn 34m²        khác   \n",
       "\n",
       "        area_temp   final_price      type  acreage  \n",
       "0  tp hồ chí minh  4.200000e+09       nhà    25.00  \n",
       "1  tp hồ chí minh  3.308559e+09  chung cư    95.49  \n",
       "2          hà nội  1.620000e+09       nhà    34.00  \n",
       "4  tp hồ chí minh  2.250000e+09       đất    85.00  \n",
       "5  tp hồ chí minh  2.200000e+09       nhà    34.00  "
      ]
     },
     "execution_count": 20,
     "metadata": {},
     "output_type": "execute_result"
    }
   ],
   "source": [
    "du_lieu_moi_2 = df[df['acreage'] != -1]\n",
    "du_lieu_moi_2.head()"
   ]
  },
  {
   "cell_type": "code",
   "execution_count": 21,
   "metadata": {},
   "outputs": [
    {
     "name": "stdout",
     "output_type": "stream",
     "text": [
      "<class 'pandas.core.frame.DataFrame'>\n",
      "Index: 103694 entries, 0 to 282642\n",
      "Data columns (total 7 columns):\n",
      " #   Column       Non-Null Count   Dtype  \n",
      "---  ------       --------------   -----  \n",
      " 0   time         103694 non-null  object \n",
      " 1   title        103694 non-null  object \n",
      " 2   poster_temp  103694 non-null  object \n",
      " 3   area_temp    103694 non-null  object \n",
      " 4   final_price  103694 non-null  float64\n",
      " 5   type         103694 non-null  object \n",
      " 6   acreage      103694 non-null  float64\n",
      "dtypes: float64(2), object(5)\n",
      "memory usage: 6.3+ MB\n"
     ]
    }
   ],
   "source": [
    "du_lieu_moi_2.info()"
   ]
  },
  {
   "cell_type": "markdown",
   "metadata": {},
   "source": [
    "Nhận xét: \n",
    "- Có 103694 dòng mới "
   ]
  },
  {
   "cell_type": "code",
   "execution_count": 24,
   "metadata": {},
   "outputs": [
    {
     "data": {
      "image/png": "[encoded data removed]",
      "text/plain": [
       "<Figure size 640x480 with 1 Axes>"
      ]
     },
     "metadata": {},
     "output_type": "display_data"
    }
   ],
   "source": [
    "# Diện tích theo mỗi loại poster \n",
    "# đọc vào thi mỗi loại là groupby theo poster xong tới chọn cột diện tích \n",
    "dt_ml = du_lieu_moi_2.groupby('poster_temp')['acreage'].sum()\n",
    "plt.bar(dt_ml.index, dt_ml.values)\n",
    "plt.show()"
   ]
  },
  {
   "cell_type": "markdown",
   "metadata": {},
   "source": [
    "Nhận xét: \n",
    "- nhìn biểu đồ cho thấy môi giá chiếm diện tích cao hơn nhiều so với những loại khác"
   ]
  },
  {
   "cell_type": "code",
   "execution_count": 26,
   "metadata": {},
   "outputs": [
    {
     "name": "stdout",
     "output_type": "stream",
     "text": [
      "0        2020-06-07\n",
      "1        2020-08-07\n",
      "2        2020-05-07\n",
      "3        2020-07-07\n",
      "4        2020-06-07\n",
      "            ...    \n",
      "282640   2020-04-07\n",
      "282641   2020-04-07\n",
      "282642   2020-02-07\n",
      "282643   2020-06-07\n",
      "282644   2020-04-07\n",
      "Name: time, Length: 282645, dtype: datetime64[ns]\n"
     ]
    }
   ],
   "source": [
    "# chép vào giấy chuyển đổi dữ liệu time sang date time :)))) \n",
    "# df[cột muốn chuyển] = pd.to_datetime(df[cột muốn chuyển])\n",
    "df['time'] = pd.to_datetime(df['time'])\n",
    "print(df['time'])\n",
    "\n",
    "# cách lấy year trong date time: .dt.year\n",
    "# cách lấy month trong date time: .dt.month\n",
    "# cách lấy date trong date time :   .dt.date"
   ]
  },
  {
   "cell_type": "code",
   "execution_count": 42,
   "metadata": {},
   "outputs": [
    {
     "data": {
      "image/png": "[encoded data removed]",
      "text/plain": [
       "<Figure size 640x480 with 1 Axes>"
      ]
     },
     "metadata": {},
     "output_type": "display_data"
    }
   ],
   "source": [
    "# đề vẽbiểuđồthểhiệnsốlượng\n",
    "# bất động sản được bán theo từng tháng trong \n",
    "# năm 2020 và đưa ra nhận xét\n",
    "\n",
    "# chọn năm 2020 trước\n",
    "chon_2020 = df[df['time'].dt.year == 2020]\n",
    "# theo từng tháng (thì groupby theo tháng) thì bạn chỉ cần size (để đếm số dòng theo mỗi nhóm)\n",
    "theo_thang = chon_2020.groupby(chon_2020['time'].dt.month).size()\n",
    "plt.plot(theo_thang)\n",
    "plt.show()\n"
   ]
  },
  {
   "cell_type": "markdown",
   "metadata": {},
   "source": [
    "Nhận xét: \n",
    "- Thì tháng 5 thì bất động sản bán nhiều nhất\n",
    "- Những tháng cuối năm và đầu năm ít bạn được"
   ]
  },
  {
   "cell_type": "markdown",
   "metadata": {},
   "source": []
  },
  {
   "cell_type": "code",
   "execution_count": 34,
   "metadata": {},
   "outputs": [
    {
     "name": "stdout",
     "output_type": "stream",
     "text": [
      "Xác xuất trong 50 bất động sản được bán có 25 bất động sản có giá trên 3 tỷ: \n",
      "0.010446353824822374\n"
     ]
    }
   ],
   "source": [
    "# thì cách nhận diện thì các bạn thấy chọn 25 trong 50 \n",
    "# thì nghĩ ngay đến phân phối nhị thức chọn k thằng trong n thằng \n",
    "# trong pp nhị thức thì cần tìm p, n, k \n",
    "# thì xong đề bài \n",
    "\n",
    "\n",
    "# mà p = (số lượng của lô đất > 3 tỷ) / (số lượng của tất cả lô đất)\n",
    "# tỷ trong python (e9), ví dụ 3 tỷ = 3e9 trong python\n",
    "p = (df['final_price'] > 3e9).mean()\n",
    "# tại vì sao sử dụng mean ()\n",
    "# tại vì ví dụ nếu lớn hơn 3 tỷ thì 1 còn lại thì 0 \n",
    "# ví dụ 5 số: [1, 0, 1, 0, 1]\n",
    "# trung bình = 3 / 5  thì nó đúng rr :)))) \n",
    "n = 50 \n",
    "k = 15 \n",
    "# vậy khi làm thì sau gặp dạng tương tự .mean() là xong hihi \n",
    "# nhớ chép vào giấy\n",
    "\n",
    "# P(x = k)\n",
    "# nhìn vào tờ giấy \n",
    "p_25 = binom.pmf(k, n, p)\n",
    "print(\"Xác xuất trong 50 bất động sản được bán có 25 bất động sản có giá trên 3 tỷ: \")\n",
    "print(p_25)"
   ]
  },
  {
   "cell_type": "code",
   "execution_count": null,
   "metadata": {},
   "outputs": [],
   "source": []
  }
 ],
 "metadata": {
  "kernelspec": {
   "display_name": "Python 3",
   "language": "python",
   "name": "python3"
  },
  "language_info": {
   "codemirror_mode": {
    "name": "ipython",
    "version": 3
   },
   "file_extension": ".py",
   "mimetype": "text/x-python",
   "name": "python",
   "nbconvert_exporter": "python",
   "pygments_lexer": "ipython3",
   "version": "3.12.2"
  }
 },
 "nbformat": 4,
 "nbformat_minor": 2
}
